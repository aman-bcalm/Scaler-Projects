{
 "cells": [
  {
   "cell_type": "code",
   "execution_count": 1,
   "id": "d9f969ce",
   "metadata": {},
   "outputs": [],
   "source": [
    "import pandas as pd\n",
    "import numpy as np\n",
    "import seaborn as sns\n"
   ]
  },
  {
   "cell_type": "code",
   "execution_count": 5,
   "id": "b1170ab7",
   "metadata": {},
   "outputs": [],
   "source": [
    "nt = pd.read_csv('netflix.csv')"
   ]
  },
  {
   "cell_type": "code",
   "execution_count": 7,
   "id": "f550804b",
   "metadata": {},
   "outputs": [
    {
     "data": {
      "text/html": [
       "<div>\n",
       "<style scoped>\n",
       "    .dataframe tbody tr th:only-of-type {\n",
       "        vertical-align: middle;\n",
       "    }\n",
       "\n",
       "    .dataframe tbody tr th {\n",
       "        vertical-align: top;\n",
       "    }\n",
       "\n",
       "    .dataframe thead th {\n",
       "        text-align: right;\n",
       "    }\n",
       "</style>\n",
       "<table border=\"1\" class=\"dataframe\">\n",
       "  <thead>\n",
       "    <tr style=\"text-align: right;\">\n",
       "      <th></th>\n",
       "      <th>show_id</th>\n",
       "      <th>type</th>\n",
       "      <th>title</th>\n",
       "      <th>director</th>\n",
       "      <th>cast</th>\n",
       "      <th>country</th>\n",
       "      <th>date_added</th>\n",
       "      <th>release_year</th>\n",
       "      <th>rating</th>\n",
       "      <th>duration</th>\n",
       "      <th>listed_in</th>\n",
       "      <th>description</th>\n",
       "    </tr>\n",
       "  </thead>\n",
       "  <tbody>\n",
       "    <tr>\n",
       "      <th>0</th>\n",
       "      <td>s1</td>\n",
       "      <td>Movie</td>\n",
       "      <td>Dick Johnson Is Dead</td>\n",
       "      <td>Kirsten Johnson</td>\n",
       "      <td>NaN</td>\n",
       "      <td>United States</td>\n",
       "      <td>September 25, 2021</td>\n",
       "      <td>2020</td>\n",
       "      <td>PG-13</td>\n",
       "      <td>90 min</td>\n",
       "      <td>Documentaries</td>\n",
       "      <td>As her father nears the end of his life, filmm...</td>\n",
       "    </tr>\n",
       "    <tr>\n",
       "      <th>1</th>\n",
       "      <td>s2</td>\n",
       "      <td>TV Show</td>\n",
       "      <td>Blood &amp; Water</td>\n",
       "      <td>NaN</td>\n",
       "      <td>Ama Qamata, Khosi Ngema, Gail Mabalane, Thaban...</td>\n",
       "      <td>South Africa</td>\n",
       "      <td>September 24, 2021</td>\n",
       "      <td>2021</td>\n",
       "      <td>TV-MA</td>\n",
       "      <td>2 Seasons</td>\n",
       "      <td>International TV Shows, TV Dramas, TV Mysteries</td>\n",
       "      <td>After crossing paths at a party, a Cape Town t...</td>\n",
       "    </tr>\n",
       "    <tr>\n",
       "      <th>2</th>\n",
       "      <td>s3</td>\n",
       "      <td>TV Show</td>\n",
       "      <td>Ganglands</td>\n",
       "      <td>Julien Leclercq</td>\n",
       "      <td>Sami Bouajila, Tracy Gotoas, Samuel Jouy, Nabi...</td>\n",
       "      <td>NaN</td>\n",
       "      <td>September 24, 2021</td>\n",
       "      <td>2021</td>\n",
       "      <td>TV-MA</td>\n",
       "      <td>1 Season</td>\n",
       "      <td>Crime TV Shows, International TV Shows, TV Act...</td>\n",
       "      <td>To protect his family from a powerful drug lor...</td>\n",
       "    </tr>\n",
       "    <tr>\n",
       "      <th>3</th>\n",
       "      <td>s4</td>\n",
       "      <td>TV Show</td>\n",
       "      <td>Jailbirds New Orleans</td>\n",
       "      <td>NaN</td>\n",
       "      <td>NaN</td>\n",
       "      <td>NaN</td>\n",
       "      <td>September 24, 2021</td>\n",
       "      <td>2021</td>\n",
       "      <td>TV-MA</td>\n",
       "      <td>1 Season</td>\n",
       "      <td>Docuseries, Reality TV</td>\n",
       "      <td>Feuds, flirtations and toilet talk go down amo...</td>\n",
       "    </tr>\n",
       "    <tr>\n",
       "      <th>4</th>\n",
       "      <td>s5</td>\n",
       "      <td>TV Show</td>\n",
       "      <td>Kota Factory</td>\n",
       "      <td>NaN</td>\n",
       "      <td>Mayur More, Jitendra Kumar, Ranjan Raj, Alam K...</td>\n",
       "      <td>India</td>\n",
       "      <td>September 24, 2021</td>\n",
       "      <td>2021</td>\n",
       "      <td>TV-MA</td>\n",
       "      <td>2 Seasons</td>\n",
       "      <td>International TV Shows, Romantic TV Shows, TV ...</td>\n",
       "      <td>In a city of coaching centers known to train I...</td>\n",
       "    </tr>\n",
       "  </tbody>\n",
       "</table>\n",
       "</div>"
      ],
      "text/plain": [
       "  show_id     type                  title         director  \\\n",
       "0      s1    Movie   Dick Johnson Is Dead  Kirsten Johnson   \n",
       "1      s2  TV Show          Blood & Water              NaN   \n",
       "2      s3  TV Show              Ganglands  Julien Leclercq   \n",
       "3      s4  TV Show  Jailbirds New Orleans              NaN   \n",
       "4      s5  TV Show           Kota Factory              NaN   \n",
       "\n",
       "                                                cast        country  \\\n",
       "0                                                NaN  United States   \n",
       "1  Ama Qamata, Khosi Ngema, Gail Mabalane, Thaban...   South Africa   \n",
       "2  Sami Bouajila, Tracy Gotoas, Samuel Jouy, Nabi...            NaN   \n",
       "3                                                NaN            NaN   \n",
       "4  Mayur More, Jitendra Kumar, Ranjan Raj, Alam K...          India   \n",
       "\n",
       "           date_added  release_year rating   duration  \\\n",
       "0  September 25, 2021          2020  PG-13     90 min   \n",
       "1  September 24, 2021          2021  TV-MA  2 Seasons   \n",
       "2  September 24, 2021          2021  TV-MA   1 Season   \n",
       "3  September 24, 2021          2021  TV-MA   1 Season   \n",
       "4  September 24, 2021          2021  TV-MA  2 Seasons   \n",
       "\n",
       "                                           listed_in  \\\n",
       "0                                      Documentaries   \n",
       "1    International TV Shows, TV Dramas, TV Mysteries   \n",
       "2  Crime TV Shows, International TV Shows, TV Act...   \n",
       "3                             Docuseries, Reality TV   \n",
       "4  International TV Shows, Romantic TV Shows, TV ...   \n",
       "\n",
       "                                         description  \n",
       "0  As her father nears the end of his life, filmm...  \n",
       "1  After crossing paths at a party, a Cape Town t...  \n",
       "2  To protect his family from a powerful drug lor...  \n",
       "3  Feuds, flirtations and toilet talk go down amo...  \n",
       "4  In a city of coaching centers known to train I...  "
      ]
     },
     "execution_count": 7,
     "metadata": {},
     "output_type": "execute_result"
    }
   ],
   "source": [
    "nt.head()"
   ]
  },
  {
   "cell_type": "code",
   "execution_count": 98,
   "id": "bed97478",
   "metadata": {},
   "outputs": [
    {
     "data": {
      "text/plain": [
       "(5332, 12)"
      ]
     },
     "execution_count": 98,
     "metadata": {},
     "output_type": "execute_result"
    }
   ],
   "source": [
    "nt.shape"
   ]
  },
  {
   "cell_type": "code",
   "execution_count": 10,
   "id": "aa62fd7f",
   "metadata": {},
   "outputs": [
    {
     "data": {
      "text/plain": [
       "count     8807\n",
       "unique    8807\n",
       "top         s1\n",
       "freq         1\n",
       "Name: show_id, dtype: object"
      ]
     },
     "execution_count": 10,
     "metadata": {},
     "output_type": "execute_result"
    }
   ],
   "source": [
    "nt['show_id'].describe()"
   ]
  },
  {
   "cell_type": "code",
   "execution_count": 11,
   "id": "8297221e",
   "metadata": {},
   "outputs": [
    {
     "data": {
      "text/plain": [
       "count      8807\n",
       "unique        2\n",
       "top       Movie\n",
       "freq       6131\n",
       "Name: type, dtype: object"
      ]
     },
     "execution_count": 11,
     "metadata": {},
     "output_type": "execute_result"
    }
   ],
   "source": [
    "nt['type'].describe()"
   ]
  },
  {
   "cell_type": "code",
   "execution_count": 12,
   "id": "c2a132e5",
   "metadata": {},
   "outputs": [
    {
     "data": {
      "text/plain": [
       "count                8797\n",
       "unique               1767\n",
       "top       January 1, 2020\n",
       "freq                  109\n",
       "Name: date_added, dtype: object"
      ]
     },
     "execution_count": 12,
     "metadata": {},
     "output_type": "execute_result"
    }
   ],
   "source": [
    "nt['date_added'].describe()"
   ]
  },
  {
   "cell_type": "code",
   "execution_count": 27,
   "id": "ec97263b",
   "metadata": {},
   "outputs": [
    {
     "data": {
      "text/plain": [
       "count    8807.000000\n",
       "mean     2014.180198\n",
       "std         8.819312\n",
       "min      1925.000000\n",
       "25%      2013.000000\n",
       "50%      2017.000000\n",
       "75%      2019.000000\n",
       "max      2021.000000\n",
       "Name: release_year, dtype: float64"
      ]
     },
     "execution_count": 27,
     "metadata": {},
     "output_type": "execute_result"
    }
   ],
   "source": [
    "nt['release_year'].describe()"
   ]
  },
  {
   "cell_type": "code",
   "execution_count": 15,
   "id": "99c369b5",
   "metadata": {},
   "outputs": [
    {
     "data": {
      "text/plain": [
       "show_id         8807\n",
       "type            8807\n",
       "title           8807\n",
       "director        6173\n",
       "cast            7982\n",
       "country         7976\n",
       "date_added      8797\n",
       "release_year    8807\n",
       "rating          8803\n",
       "duration        8804\n",
       "listed_in       8807\n",
       "description     8807\n",
       "dtype: int64"
      ]
     },
     "execution_count": 15,
     "metadata": {},
     "output_type": "execute_result"
    }
   ],
   "source": [
    "nt.count()"
   ]
  },
  {
   "cell_type": "code",
   "execution_count": 16,
   "id": "c97f3f05",
   "metadata": {},
   "outputs": [
    {
     "data": {
      "text/plain": [
       "show_id         8807\n",
       "type               2\n",
       "title           8807\n",
       "director        4528\n",
       "cast            7692\n",
       "country          748\n",
       "date_added      1767\n",
       "release_year      74\n",
       "rating            17\n",
       "duration         220\n",
       "listed_in        514\n",
       "description     8775\n",
       "dtype: int64"
      ]
     },
     "execution_count": 16,
     "metadata": {},
     "output_type": "execute_result"
    }
   ],
   "source": [
    "nt.nunique()"
   ]
  },
  {
   "cell_type": "code",
   "execution_count": 21,
   "id": "f52d3995",
   "metadata": {},
   "outputs": [
    {
     "data": {
      "text/plain": [
       "United States    2818\n",
       "Name: country, dtype: int64"
      ]
     },
     "execution_count": 21,
     "metadata": {},
     "output_type": "execute_result"
    }
   ],
   "source": [
    "nt['country'].value_counts()[:1]"
   ]
  },
  {
   "cell_type": "code",
   "execution_count": 25,
   "id": "e8b6f9ed",
   "metadata": {},
   "outputs": [
    {
     "data": {
      "text/plain": [
       "1 Season      1793\n",
       "2 Seasons      425\n",
       "3 Seasons      199\n",
       "4 Seasons       95\n",
       "5 Seasons       65\n",
       "6 Seasons       33\n",
       "7 Seasons       23\n",
       "8 Seasons       17\n",
       "9 Seasons        9\n",
       "10 Seasons       7\n",
       "13 Seasons       3\n",
       "15 Seasons       2\n",
       "12 Seasons       2\n",
       "11 Seasons       2\n",
       "17 Seasons       1\n",
       "Name: duration, dtype: int64"
      ]
     },
     "execution_count": 25,
     "metadata": {},
     "output_type": "execute_result"
    }
   ],
   "source": [
    "nt[nt['type'] == 'TV Show']['duration'].value_counts()"
   ]
  },
  {
   "cell_type": "code",
   "execution_count": 26,
   "id": "2ebf5a34",
   "metadata": {},
   "outputs": [
    {
     "data": {
      "text/plain": [
       "Documentaries                                         249\n",
       "Stand-Up Comedy                                       209\n",
       "Children & Family Movies, Comedies                     90\n",
       "Dramas                                                 88\n",
       "Comedies                                               84\n",
       "                                                     ... \n",
       "International TV Shows, Reality TV, TV Comedies         1\n",
       "Kids' TV, TV Action & Adventure, TV Dramas              1\n",
       "Anime Series, Crime TV Shows                            1\n",
       "Anime Features, Music & Musicals, Sci-Fi & Fantasy      1\n",
       "Cult Movies, Dramas, Thrillers                          1\n",
       "Name: listed_in, Length: 310, dtype: int64"
      ]
     },
     "execution_count": 26,
     "metadata": {},
     "output_type": "execute_result"
    }
   ],
   "source": [
    "nt[nt['country'] == 'United States']['listed_in'].value_counts()\n",
    "#what type of content and with what frequency is available in each country "
   ]
  },
  {
   "cell_type": "code",
   "execution_count": 33,
   "id": "759da137",
   "metadata": {},
   "outputs": [
    {
     "data": {
      "text/plain": [
       "show_id         2676\n",
       "type               1\n",
       "title           2676\n",
       "director         222\n",
       "cast            2283\n",
       "country          196\n",
       "date_added      1051\n",
       "release_year      46\n",
       "rating             9\n",
       "duration          15\n",
       "listed_in        236\n",
       "description     2672\n",
       "dtype: int64"
      ]
     },
     "execution_count": 33,
     "metadata": {},
     "output_type": "execute_result"
    }
   ],
   "source": [
    "nt[nt['type'] == 'TV Show'].nunique()"
   ]
  },
  {
   "cell_type": "code",
   "execution_count": 34,
   "id": "72e8ec5c",
   "metadata": {},
   "outputs": [
    {
     "data": {
      "text/plain": [
       "show_id         6131\n",
       "type               1\n",
       "title           6131\n",
       "director        4354\n",
       "cast            5445\n",
       "country          651\n",
       "date_added      1533\n",
       "release_year      73\n",
       "rating            17\n",
       "duration         205\n",
       "listed_in        278\n",
       "description     6105\n",
       "dtype: int64"
      ]
     },
     "execution_count": 34,
     "metadata": {},
     "output_type": "execute_result"
    }
   ],
   "source": [
    "nt[nt['type'] == 'Movie'].nunique()"
   ]
  },
  {
   "cell_type": "code",
   "execution_count": 39,
   "id": "9b9071d0",
   "metadata": {},
   "outputs": [],
   "source": [
    "d_a = nt[nt['type'] == 'TV Show']['date_added']"
   ]
  },
  {
   "cell_type": "code",
   "execution_count": 48,
   "id": "61aa16f2",
   "metadata": {},
   "outputs": [],
   "source": [
    "#converting to datetime \n",
    "d_adt =  pd.to_datetime(d_a)\n",
    "#extracting the most frequent month of launch\n",
    "m_fl =  d_adt.dt.month.value_counts()"
   ]
  },
  {
   "cell_type": "code",
   "execution_count": 49,
   "id": "956efed4",
   "metadata": {},
   "outputs": [
    {
     "data": {
      "text/plain": [
       "12.0    266\n",
       "7.0     262\n",
       "9.0     251\n",
       "8.0     236\n",
       "6.0     236\n",
       "10.0    215\n",
       "4.0     214\n",
       "3.0     213\n",
       "11.0    207\n",
       "5.0     193\n",
       "1.0     192\n",
       "2.0     181\n",
       "Name: date_added, dtype: int64"
      ]
     },
     "execution_count": 49,
     "metadata": {},
     "output_type": "execute_result"
    }
   ],
   "source": [
    "m_fl\n"
   ]
  },
  {
   "cell_type": "code",
   "execution_count": 97,
   "id": "26cf9fd0",
   "metadata": {},
   "outputs": [
    {
     "data": {
      "text/plain": [
       "(5332, 12)"
      ]
     },
     "execution_count": 97,
     "metadata": {},
     "output_type": "execute_result"
    }
   ],
   "source": [
    "nt.head()\n",
    "nt.shape"
   ]
  },
  {
   "cell_type": "code",
   "execution_count": 66,
   "id": "6c6cebea",
   "metadata": {},
   "outputs": [
    {
     "data": {
      "text/plain": [
       "Michael Simon    1\n",
       "Name: director, dtype: int64"
      ]
     },
     "execution_count": 66,
     "metadata": {},
     "output_type": "execute_result"
    }
   ],
   "source": [
    "nt[(nt['type'] == 'TV Show') & (nt['listed_in'] == 'Reality TV')]['director'].value_counts()\n",
    "#for TV shows that are Reality TV we an find the details of only one director as the details of the directors of the rest \n",
    "#aren't available"
   ]
  },
  {
   "cell_type": "code",
   "execution_count": 96,
   "id": "176d8133",
   "metadata": {},
   "outputs": [
    {
     "data": {
      "text/plain": [
       "(5332, 12)"
      ]
     },
     "execution_count": 96,
     "metadata": {},
     "output_type": "execute_result"
    }
   ],
   "source": [
    "# Answer to point 2)\n",
    "#Observations on the shape of data, data types of all the attributes, conversion of categorical attributes to 'category' \n",
    "#(If required), missing value detection, statistical summary\n",
    "\n",
    "nt.shape"
   ]
  },
  {
   "cell_type": "code",
   "execution_count": 69,
   "id": "3fe0529d",
   "metadata": {},
   "outputs": [
    {
     "data": {
      "text/plain": [
       "show_id         object\n",
       "type            object\n",
       "title           object\n",
       "director        object\n",
       "cast            object\n",
       "country         object\n",
       "date_added      object\n",
       "release_year     int64\n",
       "rating          object\n",
       "duration        object\n",
       "listed_in       object\n",
       "description     object\n",
       "dtype: object"
      ]
     },
     "execution_count": 69,
     "metadata": {},
     "output_type": "execute_result"
    }
   ],
   "source": [
    "nt.dtypes"
   ]
  },
  {
   "cell_type": "code",
   "execution_count": 101,
   "id": "f0332457",
   "metadata": {},
   "outputs": [],
   "source": [
    "#converting date added from string to datetime\n",
    "\n",
    "nt['date_added'] = pd.to_datetime(nt['date_added'])\n"
   ]
  },
  {
   "cell_type": "code",
   "execution_count": 102,
   "id": "42b1dc29",
   "metadata": {},
   "outputs": [],
   "source": [
    "# null value detection\n",
    "nl_nt = nt.isnull()"
   ]
  },
  {
   "cell_type": "code",
   "execution_count": 81,
   "id": "92dcbdc4",
   "metadata": {},
   "outputs": [
    {
     "data": {
      "text/plain": [
       "False    6173\n",
       "True     2634\n",
       "Name: director, dtype: int64"
      ]
     },
     "execution_count": 81,
     "metadata": {},
     "output_type": "execute_result"
    }
   ],
   "source": [
    "nl_nt['director'].value_counts()"
   ]
  },
  {
   "cell_type": "code",
   "execution_count": 85,
   "id": "ba002300",
   "metadata": {},
   "outputs": [
    {
     "data": {
      "text/html": [
       "<div>\n",
       "<style scoped>\n",
       "    .dataframe tbody tr th:only-of-type {\n",
       "        vertical-align: middle;\n",
       "    }\n",
       "\n",
       "    .dataframe tbody tr th {\n",
       "        vertical-align: top;\n",
       "    }\n",
       "\n",
       "    .dataframe thead th {\n",
       "        text-align: right;\n",
       "    }\n",
       "</style>\n",
       "<table border=\"1\" class=\"dataframe\">\n",
       "  <thead>\n",
       "    <tr style=\"text-align: right;\">\n",
       "      <th></th>\n",
       "      <th>show_id</th>\n",
       "      <th>type</th>\n",
       "      <th>title</th>\n",
       "      <th>director</th>\n",
       "      <th>cast</th>\n",
       "      <th>country</th>\n",
       "      <th>release_year</th>\n",
       "      <th>rating</th>\n",
       "      <th>duration</th>\n",
       "      <th>listed_in</th>\n",
       "      <th>description</th>\n",
       "    </tr>\n",
       "  </thead>\n",
       "  <tbody>\n",
       "    <tr>\n",
       "      <th>count</th>\n",
       "      <td>5332</td>\n",
       "      <td>5332</td>\n",
       "      <td>5332</td>\n",
       "      <td>5332</td>\n",
       "      <td>5332</td>\n",
       "      <td>5332</td>\n",
       "      <td>5332.000000</td>\n",
       "      <td>5332</td>\n",
       "      <td>5332</td>\n",
       "      <td>5332</td>\n",
       "      <td>5332</td>\n",
       "    </tr>\n",
       "    <tr>\n",
       "      <th>unique</th>\n",
       "      <td>5332</td>\n",
       "      <td>2</td>\n",
       "      <td>5332</td>\n",
       "      <td>3945</td>\n",
       "      <td>5200</td>\n",
       "      <td>604</td>\n",
       "      <td>NaN</td>\n",
       "      <td>14</td>\n",
       "      <td>198</td>\n",
       "      <td>335</td>\n",
       "      <td>5321</td>\n",
       "    </tr>\n",
       "    <tr>\n",
       "      <th>top</th>\n",
       "      <td>s8</td>\n",
       "      <td>Movie</td>\n",
       "      <td>Sankofa</td>\n",
       "      <td>Raúl Campos, Jan Suter</td>\n",
       "      <td>Samuel West</td>\n",
       "      <td>United States</td>\n",
       "      <td>NaN</td>\n",
       "      <td>TV-MA</td>\n",
       "      <td>94 min</td>\n",
       "      <td>Dramas, International Movies</td>\n",
       "      <td>When pretty new neighbor Seema falls for their...</td>\n",
       "    </tr>\n",
       "    <tr>\n",
       "      <th>freq</th>\n",
       "      <td>1</td>\n",
       "      <td>5185</td>\n",
       "      <td>1</td>\n",
       "      <td>18</td>\n",
       "      <td>10</td>\n",
       "      <td>1846</td>\n",
       "      <td>NaN</td>\n",
       "      <td>1822</td>\n",
       "      <td>135</td>\n",
       "      <td>336</td>\n",
       "      <td>2</td>\n",
       "    </tr>\n",
       "    <tr>\n",
       "      <th>mean</th>\n",
       "      <td>NaN</td>\n",
       "      <td>NaN</td>\n",
       "      <td>NaN</td>\n",
       "      <td>NaN</td>\n",
       "      <td>NaN</td>\n",
       "      <td>NaN</td>\n",
       "      <td>2012.742123</td>\n",
       "      <td>NaN</td>\n",
       "      <td>NaN</td>\n",
       "      <td>NaN</td>\n",
       "      <td>NaN</td>\n",
       "    </tr>\n",
       "    <tr>\n",
       "      <th>std</th>\n",
       "      <td>NaN</td>\n",
       "      <td>NaN</td>\n",
       "      <td>NaN</td>\n",
       "      <td>NaN</td>\n",
       "      <td>NaN</td>\n",
       "      <td>NaN</td>\n",
       "      <td>9.625831</td>\n",
       "      <td>NaN</td>\n",
       "      <td>NaN</td>\n",
       "      <td>NaN</td>\n",
       "      <td>NaN</td>\n",
       "    </tr>\n",
       "    <tr>\n",
       "      <th>min</th>\n",
       "      <td>NaN</td>\n",
       "      <td>NaN</td>\n",
       "      <td>NaN</td>\n",
       "      <td>NaN</td>\n",
       "      <td>NaN</td>\n",
       "      <td>NaN</td>\n",
       "      <td>1942.000000</td>\n",
       "      <td>NaN</td>\n",
       "      <td>NaN</td>\n",
       "      <td>NaN</td>\n",
       "      <td>NaN</td>\n",
       "    </tr>\n",
       "    <tr>\n",
       "      <th>25%</th>\n",
       "      <td>NaN</td>\n",
       "      <td>NaN</td>\n",
       "      <td>NaN</td>\n",
       "      <td>NaN</td>\n",
       "      <td>NaN</td>\n",
       "      <td>NaN</td>\n",
       "      <td>2011.000000</td>\n",
       "      <td>NaN</td>\n",
       "      <td>NaN</td>\n",
       "      <td>NaN</td>\n",
       "      <td>NaN</td>\n",
       "    </tr>\n",
       "    <tr>\n",
       "      <th>50%</th>\n",
       "      <td>NaN</td>\n",
       "      <td>NaN</td>\n",
       "      <td>NaN</td>\n",
       "      <td>NaN</td>\n",
       "      <td>NaN</td>\n",
       "      <td>NaN</td>\n",
       "      <td>2016.000000</td>\n",
       "      <td>NaN</td>\n",
       "      <td>NaN</td>\n",
       "      <td>NaN</td>\n",
       "      <td>NaN</td>\n",
       "    </tr>\n",
       "    <tr>\n",
       "      <th>75%</th>\n",
       "      <td>NaN</td>\n",
       "      <td>NaN</td>\n",
       "      <td>NaN</td>\n",
       "      <td>NaN</td>\n",
       "      <td>NaN</td>\n",
       "      <td>NaN</td>\n",
       "      <td>2018.000000</td>\n",
       "      <td>NaN</td>\n",
       "      <td>NaN</td>\n",
       "      <td>NaN</td>\n",
       "      <td>NaN</td>\n",
       "    </tr>\n",
       "    <tr>\n",
       "      <th>max</th>\n",
       "      <td>NaN</td>\n",
       "      <td>NaN</td>\n",
       "      <td>NaN</td>\n",
       "      <td>NaN</td>\n",
       "      <td>NaN</td>\n",
       "      <td>NaN</td>\n",
       "      <td>2021.000000</td>\n",
       "      <td>NaN</td>\n",
       "      <td>NaN</td>\n",
       "      <td>NaN</td>\n",
       "      <td>NaN</td>\n",
       "    </tr>\n",
       "  </tbody>\n",
       "</table>\n",
       "</div>"
      ],
      "text/plain": [
       "       show_id   type    title                director         cast  \\\n",
       "count     5332   5332     5332                    5332         5332   \n",
       "unique    5332      2     5332                    3945         5200   \n",
       "top         s8  Movie  Sankofa  Raúl Campos, Jan Suter  Samuel West   \n",
       "freq         1   5185        1                      18           10   \n",
       "mean       NaN    NaN      NaN                     NaN          NaN   \n",
       "std        NaN    NaN      NaN                     NaN          NaN   \n",
       "min        NaN    NaN      NaN                     NaN          NaN   \n",
       "25%        NaN    NaN      NaN                     NaN          NaN   \n",
       "50%        NaN    NaN      NaN                     NaN          NaN   \n",
       "75%        NaN    NaN      NaN                     NaN          NaN   \n",
       "max        NaN    NaN      NaN                     NaN          NaN   \n",
       "\n",
       "              country  release_year rating duration  \\\n",
       "count            5332   5332.000000   5332     5332   \n",
       "unique            604           NaN     14      198   \n",
       "top     United States           NaN  TV-MA   94 min   \n",
       "freq             1846           NaN   1822      135   \n",
       "mean              NaN   2012.742123    NaN      NaN   \n",
       "std               NaN      9.625831    NaN      NaN   \n",
       "min               NaN   1942.000000    NaN      NaN   \n",
       "25%               NaN   2011.000000    NaN      NaN   \n",
       "50%               NaN   2016.000000    NaN      NaN   \n",
       "75%               NaN   2018.000000    NaN      NaN   \n",
       "max               NaN   2021.000000    NaN      NaN   \n",
       "\n",
       "                           listed_in  \\\n",
       "count                           5332   \n",
       "unique                           335   \n",
       "top     Dramas, International Movies   \n",
       "freq                             336   \n",
       "mean                             NaN   \n",
       "std                              NaN   \n",
       "min                              NaN   \n",
       "25%                              NaN   \n",
       "50%                              NaN   \n",
       "75%                              NaN   \n",
       "max                              NaN   \n",
       "\n",
       "                                              description  \n",
       "count                                                5332  \n",
       "unique                                               5321  \n",
       "top     When pretty new neighbor Seema falls for their...  \n",
       "freq                                                    2  \n",
       "mean                                                  NaN  \n",
       "std                                                   NaN  \n",
       "min                                                   NaN  \n",
       "25%                                                   NaN  \n",
       "50%                                                   NaN  \n",
       "75%                                                   NaN  \n",
       "max                                                   NaN  "
      ]
     },
     "execution_count": 85,
     "metadata": {},
     "output_type": "execute_result"
    }
   ],
   "source": [
    "#statsitical summary\n",
    "include = ['object', 'int']\n",
    "nt.describe(include = include)"
   ]
  },
  {
   "cell_type": "code",
   "execution_count": 99,
   "id": "c6c70239",
   "metadata": {},
   "outputs": [],
   "source": [
    "#3) Answer to point 3)\n",
    "# Non-Graphical Analysis: Value counts and unique attributes\n",
    "\n",
    "#nt.value_counts()\n"
   ]
  },
  {
   "cell_type": "code",
   "execution_count": null,
   "id": "415ccf2d",
   "metadata": {},
   "outputs": [],
   "source": [
    "#There are 5332 rows with non null values by this "
   ]
  },
  {
   "cell_type": "code",
   "execution_count": 100,
   "id": "1c2243b9",
   "metadata": {},
   "outputs": [
    {
     "data": {
      "text/plain": [
       "(5332, 12)"
      ]
     },
     "execution_count": 100,
     "metadata": {},
     "output_type": "execute_result"
    }
   ],
   "source": [
    "nt.shape"
   ]
  },
  {
   "cell_type": "code",
   "execution_count": 107,
   "id": "0d725d22",
   "metadata": {},
   "outputs": [
    {
     "data": {
      "text/plain": [
       "array(['s8', 's9', 's10', ..., 's8805', 's8806', 's8807'], dtype=object)"
      ]
     },
     "execution_count": 107,
     "metadata": {},
     "output_type": "execute_result"
    }
   ],
   "source": [
    "pd.unique(nt['show_id'])"
   ]
  },
  {
   "cell_type": "code",
   "execution_count": 111,
   "id": "ffdf7751",
   "metadata": {},
   "outputs": [
    {
     "data": {
      "text/plain": [
       "5332"
      ]
     },
     "execution_count": 111,
     "metadata": {},
     "output_type": "execute_result"
    }
   ],
   "source": [
    "nt['show_id'].nunique()"
   ]
  },
  {
   "cell_type": "code",
   "execution_count": null,
   "id": "fbda680c",
   "metadata": {},
   "outputs": [],
   "source": []
  }
 ],
 "metadata": {
  "kernelspec": {
   "display_name": "Python 3 (ipykernel)",
   "language": "python",
   "name": "python3"
  },
  "language_info": {
   "codemirror_mode": {
    "name": "ipython",
    "version": 3
   },
   "file_extension": ".py",
   "mimetype": "text/x-python",
   "name": "python",
   "nbconvert_exporter": "python",
   "pygments_lexer": "ipython3",
   "version": "3.9.7"
  }
 },
 "nbformat": 4,
 "nbformat_minor": 5
}
