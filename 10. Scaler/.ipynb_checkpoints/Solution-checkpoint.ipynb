{
 "cells": [
  {
   "cell_type": "code",
   "execution_count": 312,
   "id": "b5afb9f8",
   "metadata": {},
   "outputs": [],
   "source": [
    "import pandas as pd\n",
    "import numpy as np\n",
    "import seaborn as sns\n",
    "from matplotlib import pyplot as plt\n",
    "from sklearn import preprocessing\n",
    "\n",
    "\n",
    "import warnings\n",
    "warnings.filterwarnings('ignore')"
   ]
  },
  {
   "cell_type": "code",
   "execution_count": 313,
   "id": "a8f03df0",
   "metadata": {},
   "outputs": [],
   "source": [
    "df = pd.read_csv('scaler_clustering.csv')"
   ]
  },
  {
   "cell_type": "code",
   "execution_count": 314,
   "id": "4ba385df",
   "metadata": {},
   "outputs": [
    {
     "data": {
      "text/plain": [
       "(205843, 7)"
      ]
     },
     "execution_count": 314,
     "metadata": {},
     "output_type": "execute_result"
    }
   ],
   "source": [
    "df.shape\n",
    "#shape of data"
   ]
  },
  {
   "cell_type": "code",
   "execution_count": 315,
   "id": "26304ad9",
   "metadata": {},
   "outputs": [
    {
     "data": {
      "text/html": [
       "<div>\n",
       "<style scoped>\n",
       "    .dataframe tbody tr th:only-of-type {\n",
       "        vertical-align: middle;\n",
       "    }\n",
       "\n",
       "    .dataframe tbody tr th {\n",
       "        vertical-align: top;\n",
       "    }\n",
       "\n",
       "    .dataframe thead th {\n",
       "        text-align: right;\n",
       "    }\n",
       "</style>\n",
       "<table border=\"1\" class=\"dataframe\">\n",
       "  <thead>\n",
       "    <tr style=\"text-align: right;\">\n",
       "      <th></th>\n",
       "      <th>Unnamed: 0</th>\n",
       "      <th>company_hash</th>\n",
       "      <th>email_hash</th>\n",
       "      <th>orgyear</th>\n",
       "      <th>ctc</th>\n",
       "      <th>job_position</th>\n",
       "      <th>ctc_updated_year</th>\n",
       "    </tr>\n",
       "  </thead>\n",
       "  <tbody>\n",
       "    <tr>\n",
       "      <th>0</th>\n",
       "      <td>0</td>\n",
       "      <td>atrgxnnt xzaxv</td>\n",
       "      <td>6de0a4417d18ab14334c3f43397fc13b30c35149d70c05...</td>\n",
       "      <td>2016.0</td>\n",
       "      <td>1100000</td>\n",
       "      <td>Other</td>\n",
       "      <td>2020.0</td>\n",
       "    </tr>\n",
       "    <tr>\n",
       "      <th>1</th>\n",
       "      <td>1</td>\n",
       "      <td>qtrxvzwt xzegwgbb rxbxnta</td>\n",
       "      <td>b0aaf1ac138b53cb6e039ba2c3d6604a250d02d5145c10...</td>\n",
       "      <td>2018.0</td>\n",
       "      <td>449999</td>\n",
       "      <td>FullStack Engineer</td>\n",
       "      <td>2019.0</td>\n",
       "    </tr>\n",
       "    <tr>\n",
       "      <th>2</th>\n",
       "      <td>2</td>\n",
       "      <td>ojzwnvwnxw vx</td>\n",
       "      <td>4860c670bcd48fb96c02a4b0ae3608ae6fdd98176112e9...</td>\n",
       "      <td>2015.0</td>\n",
       "      <td>2000000</td>\n",
       "      <td>Backend Engineer</td>\n",
       "      <td>2020.0</td>\n",
       "    </tr>\n",
       "    <tr>\n",
       "      <th>3</th>\n",
       "      <td>3</td>\n",
       "      <td>ngpgutaxv</td>\n",
       "      <td>effdede7a2e7c2af664c8a31d9346385016128d66bbc58...</td>\n",
       "      <td>2017.0</td>\n",
       "      <td>700000</td>\n",
       "      <td>Backend Engineer</td>\n",
       "      <td>2019.0</td>\n",
       "    </tr>\n",
       "    <tr>\n",
       "      <th>4</th>\n",
       "      <td>4</td>\n",
       "      <td>qxen sqghu</td>\n",
       "      <td>6ff54e709262f55cb999a1c1db8436cb2055d8f79ab520...</td>\n",
       "      <td>2017.0</td>\n",
       "      <td>1400000</td>\n",
       "      <td>FullStack Engineer</td>\n",
       "      <td>2019.0</td>\n",
       "    </tr>\n",
       "  </tbody>\n",
       "</table>\n",
       "</div>"
      ],
      "text/plain": [
       "   Unnamed: 0               company_hash  \\\n",
       "0           0             atrgxnnt xzaxv   \n",
       "1           1  qtrxvzwt xzegwgbb rxbxnta   \n",
       "2           2              ojzwnvwnxw vx   \n",
       "3           3                  ngpgutaxv   \n",
       "4           4                 qxen sqghu   \n",
       "\n",
       "                                          email_hash  orgyear      ctc  \\\n",
       "0  6de0a4417d18ab14334c3f43397fc13b30c35149d70c05...   2016.0  1100000   \n",
       "1  b0aaf1ac138b53cb6e039ba2c3d6604a250d02d5145c10...   2018.0   449999   \n",
       "2  4860c670bcd48fb96c02a4b0ae3608ae6fdd98176112e9...   2015.0  2000000   \n",
       "3  effdede7a2e7c2af664c8a31d9346385016128d66bbc58...   2017.0   700000   \n",
       "4  6ff54e709262f55cb999a1c1db8436cb2055d8f79ab520...   2017.0  1400000   \n",
       "\n",
       "         job_position  ctc_updated_year  \n",
       "0               Other            2020.0  \n",
       "1  FullStack Engineer            2019.0  \n",
       "2    Backend Engineer            2020.0  \n",
       "3    Backend Engineer            2019.0  \n",
       "4  FullStack Engineer            2019.0  "
      ]
     },
     "execution_count": 315,
     "metadata": {},
     "output_type": "execute_result"
    }
   ],
   "source": [
    "df.head()"
   ]
  },
  {
   "cell_type": "code",
   "execution_count": 316,
   "id": "2db8ad86",
   "metadata": {},
   "outputs": [
    {
     "name": "stdout",
     "output_type": "stream",
     "text": [
      "<class 'pandas.core.frame.DataFrame'>\n",
      "RangeIndex: 205843 entries, 0 to 205842\n",
      "Data columns (total 7 columns):\n",
      " #   Column            Non-Null Count   Dtype  \n",
      "---  ------            --------------   -----  \n",
      " 0   Unnamed: 0        205843 non-null  int64  \n",
      " 1   company_hash      205799 non-null  object \n",
      " 2   email_hash        205843 non-null  object \n",
      " 3   orgyear           205757 non-null  float64\n",
      " 4   ctc               205843 non-null  int64  \n",
      " 5   job_position      153281 non-null  object \n",
      " 6   ctc_updated_year  205843 non-null  float64\n",
      "dtypes: float64(2), int64(2), object(3)\n",
      "memory usage: 11.0+ MB\n"
     ]
    }
   ],
   "source": [
    "#Data types of all attributes\n",
    "#As we later edit the columns we can conver the object to string \n",
    "df.info()"
   ]
  },
  {
   "cell_type": "code",
   "execution_count": 317,
   "id": "ee942fdd",
   "metadata": {},
   "outputs": [
    {
     "data": {
      "text/plain": [
       "Unnamed: 0              0\n",
       "company_hash           44\n",
       "email_hash              0\n",
       "orgyear                86\n",
       "ctc                     0\n",
       "job_position        52562\n",
       "ctc_updated_year        0\n",
       "dtype: int64"
      ]
     },
     "execution_count": 317,
     "metadata": {},
     "output_type": "execute_result"
    }
   ],
   "source": [
    "#Missing value detection\n",
    "df.isna().sum()"
   ]
  },
  {
   "cell_type": "code",
   "execution_count": 318,
   "id": "12eedb95",
   "metadata": {},
   "outputs": [
    {
     "data": {
      "text/plain": [
       "Unnamed: 0           0.000000\n",
       "company_hash         0.021376\n",
       "email_hash           0.000000\n",
       "orgyear              0.041779\n",
       "ctc                  0.000000\n",
       "job_position        25.534995\n",
       "ctc_updated_year     0.000000\n",
       "dtype: float64"
      ]
     },
     "execution_count": 318,
     "metadata": {},
     "output_type": "execute_result"
    }
   ],
   "source": [
    "#Percentage of missing values in each column\n",
    "\n",
    "#As we can see job postion has 25% missing values so we need to address this \n",
    "df.isnull().sum() * 100 / len(df)"
   ]
  },
  {
   "cell_type": "code",
   "execution_count": 319,
   "id": "e007dc07",
   "metadata": {},
   "outputs": [
    {
     "data": {
      "text/plain": [
       "Unnamed: 0          205843\n",
       "company_hash         37299\n",
       "email_hash          153443\n",
       "orgyear                 77\n",
       "ctc                   3360\n",
       "job_position          1017\n",
       "ctc_updated_year         7\n",
       "dtype: int64"
      ]
     },
     "execution_count": 319,
     "metadata": {},
     "output_type": "execute_result"
    }
   ],
   "source": [
    "df.nunique()"
   ]
  },
  {
   "cell_type": "code",
   "execution_count": 320,
   "id": "90c6cc98",
   "metadata": {},
   "outputs": [],
   "source": [
    "#There are 37299 unique companies\n",
    "#There are 153433 unique students\n",
    "#There are 3360 unique ctc\n",
    "#Threre are 1017 unique job positions. SDE1 and Software development engineer 1 are counted as different as of now"
   ]
  },
  {
   "cell_type": "code",
   "execution_count": 321,
   "id": "dbec3c06",
   "metadata": {},
   "outputs": [],
   "source": [
    "# conversion of categorical attributes to 'category' \n",
    "# Company hash and job title are categorical variables but we cannot covert them to categorical variables now without\n",
    "# some preprocessing as \n",
    "# 1) Target encoding cannot be done : no target variable\n",
    "# 2) Ordinal encoding not possible as hashes by themselves have no ordering \n",
    "# 3) One hot encoding : Not possible as too many unique values and columsn would explode"
   ]
  },
  {
   "cell_type": "code",
   "execution_count": 322,
   "id": "94f08280",
   "metadata": {},
   "outputs": [
    {
     "data": {
      "text/html": [
       "<div>\n",
       "<style scoped>\n",
       "    .dataframe tbody tr th:only-of-type {\n",
       "        vertical-align: middle;\n",
       "    }\n",
       "\n",
       "    .dataframe tbody tr th {\n",
       "        vertical-align: top;\n",
       "    }\n",
       "\n",
       "    .dataframe thead th {\n",
       "        text-align: right;\n",
       "    }\n",
       "</style>\n",
       "<table border=\"1\" class=\"dataframe\">\n",
       "  <thead>\n",
       "    <tr style=\"text-align: right;\">\n",
       "      <th></th>\n",
       "      <th>Unnamed: 0</th>\n",
       "      <th>orgyear</th>\n",
       "      <th>ctc</th>\n",
       "      <th>ctc_updated_year</th>\n",
       "    </tr>\n",
       "  </thead>\n",
       "  <tbody>\n",
       "    <tr>\n",
       "      <th>count</th>\n",
       "      <td>205843.000000</td>\n",
       "      <td>205757.000000</td>\n",
       "      <td>2.058430e+05</td>\n",
       "      <td>205843.000000</td>\n",
       "    </tr>\n",
       "    <tr>\n",
       "      <th>mean</th>\n",
       "      <td>103273.941786</td>\n",
       "      <td>2014.882750</td>\n",
       "      <td>2.271685e+06</td>\n",
       "      <td>2019.628231</td>\n",
       "    </tr>\n",
       "    <tr>\n",
       "      <th>std</th>\n",
       "      <td>59741.306484</td>\n",
       "      <td>63.571115</td>\n",
       "      <td>1.180091e+07</td>\n",
       "      <td>1.325104</td>\n",
       "    </tr>\n",
       "    <tr>\n",
       "      <th>min</th>\n",
       "      <td>0.000000</td>\n",
       "      <td>0.000000</td>\n",
       "      <td>2.000000e+00</td>\n",
       "      <td>2015.000000</td>\n",
       "    </tr>\n",
       "    <tr>\n",
       "      <th>25%</th>\n",
       "      <td>51518.500000</td>\n",
       "      <td>2013.000000</td>\n",
       "      <td>5.300000e+05</td>\n",
       "      <td>2019.000000</td>\n",
       "    </tr>\n",
       "    <tr>\n",
       "      <th>50%</th>\n",
       "      <td>103151.000000</td>\n",
       "      <td>2016.000000</td>\n",
       "      <td>9.500000e+05</td>\n",
       "      <td>2020.000000</td>\n",
       "    </tr>\n",
       "    <tr>\n",
       "      <th>75%</th>\n",
       "      <td>154992.500000</td>\n",
       "      <td>2018.000000</td>\n",
       "      <td>1.700000e+06</td>\n",
       "      <td>2021.000000</td>\n",
       "    </tr>\n",
       "    <tr>\n",
       "      <th>max</th>\n",
       "      <td>206922.000000</td>\n",
       "      <td>20165.000000</td>\n",
       "      <td>1.000150e+09</td>\n",
       "      <td>2021.000000</td>\n",
       "    </tr>\n",
       "  </tbody>\n",
       "</table>\n",
       "</div>"
      ],
      "text/plain": [
       "          Unnamed: 0        orgyear           ctc  ctc_updated_year\n",
       "count  205843.000000  205757.000000  2.058430e+05     205843.000000\n",
       "mean   103273.941786    2014.882750  2.271685e+06       2019.628231\n",
       "std     59741.306484      63.571115  1.180091e+07          1.325104\n",
       "min         0.000000       0.000000  2.000000e+00       2015.000000\n",
       "25%     51518.500000    2013.000000  5.300000e+05       2019.000000\n",
       "50%    103151.000000    2016.000000  9.500000e+05       2020.000000\n",
       "75%    154992.500000    2018.000000  1.700000e+06       2021.000000\n",
       "max    206922.000000   20165.000000  1.000150e+09       2021.000000"
      ]
     },
     "execution_count": 322,
     "metadata": {},
     "output_type": "execute_result"
    }
   ],
   "source": [
    "#Statistical summary\n",
    "df.describe()"
   ]
  },
  {
   "cell_type": "code",
   "execution_count": 323,
   "id": "a850ab84",
   "metadata": {},
   "outputs": [
    {
     "data": {
      "text/plain": [
       "nvnv wgzohrnvzwj otqcxwto         8337\n",
       "xzegojo                           5381\n",
       "vbvkgz                            3481\n",
       "zgn vuurxwvmrt vwwghzn            3411\n",
       "wgszxkvzn                         3240\n",
       "                                  ... \n",
       "onvqmhwpo                            1\n",
       "bvsxw ogenfvqt uqxcvnt rxbxnta       1\n",
       "agsbv ojontbo                        1\n",
       "vnnhzt xzegwgb                       1\n",
       "bvptbjnqxu td vbvkgz                 1\n",
       "Name: company_hash, Length: 37299, dtype: int64"
      ]
     },
     "execution_count": 323,
     "metadata": {},
     "output_type": "execute_result"
    }
   ],
   "source": [
    "#Value counts\n",
    "df['company_hash'].value_counts()"
   ]
  },
  {
   "cell_type": "code",
   "execution_count": 324,
   "id": "44fbc301",
   "metadata": {},
   "outputs": [
    {
     "data": {
      "text/plain": [
       "2018.0    25256\n",
       "2019.0    23427\n",
       "2017.0    23239\n",
       "2016.0    23043\n",
       "2015.0    20610\n",
       "          ...  \n",
       "2107.0        1\n",
       "1972.0        1\n",
       "2101.0        1\n",
       "208.0         1\n",
       "200.0         1\n",
       "Name: orgyear, Length: 77, dtype: int64"
      ]
     },
     "execution_count": 324,
     "metadata": {},
     "output_type": "execute_result"
    }
   ],
   "source": [
    "df['orgyear'].value_counts()"
   ]
  },
  {
   "cell_type": "code",
   "execution_count": 325,
   "id": "de6b13b5",
   "metadata": {},
   "outputs": [
    {
     "data": {
      "text/plain": [
       "600000     7832\n",
       "400000     7598\n",
       "1000000    7581\n",
       "500000     7242\n",
       "800000     6752\n",
       "           ... \n",
       "1916000       1\n",
       "5340000       1\n",
       "2305000       1\n",
       "4225000       1\n",
       "3327000       1\n",
       "Name: ctc, Length: 3360, dtype: int64"
      ]
     },
     "execution_count": 325,
     "metadata": {},
     "output_type": "execute_result"
    }
   ],
   "source": [
    "df['ctc'].value_counts()"
   ]
  },
  {
   "cell_type": "code",
   "execution_count": 326,
   "id": "94740d27",
   "metadata": {},
   "outputs": [
    {
     "data": {
      "text/plain": [
       "Backend Engineer                  43554\n",
       "FullStack Engineer                24717\n",
       "Other                             18071\n",
       "Frontend Engineer                 10417\n",
       "Engineering Leadership             6870\n",
       "                                  ...  \n",
       "ayS                                   1\n",
       "Principal Product Engineer            1\n",
       "Senior Director of Engineering        1\n",
       "Seller Support Associate              1\n",
       "Android Application developer         1\n",
       "Name: job_position, Length: 1017, dtype: int64"
      ]
     },
     "execution_count": 326,
     "metadata": {},
     "output_type": "execute_result"
    }
   ],
   "source": [
    "df['job_position'].value_counts()"
   ]
  },
  {
   "cell_type": "code",
   "execution_count": 327,
   "id": "479d8714",
   "metadata": {},
   "outputs": [
    {
     "data": {
      "text/plain": [
       "2019.0    68688\n",
       "2021.0    64976\n",
       "2020.0    49444\n",
       "2017.0     7561\n",
       "2018.0     6746\n",
       "2016.0     5501\n",
       "2015.0     2927\n",
       "Name: ctc_updated_year, dtype: int64"
      ]
     },
     "execution_count": 327,
     "metadata": {},
     "output_type": "execute_result"
    }
   ],
   "source": [
    "df['ctc_updated_year'].value_counts()"
   ]
  },
  {
   "cell_type": "code",
   "execution_count": 328,
   "id": "c4aa7e0b",
   "metadata": {},
   "outputs": [],
   "source": [
    "#Univariate analysis and bivaraite analsis is done after aggregation and feature engineering of the data.\n",
    "#Otherwse we end up with false / erronous graphical analysis"
   ]
  },
  {
   "cell_type": "code",
   "execution_count": 329,
   "id": "237a6fb8",
   "metadata": {},
   "outputs": [],
   "source": [
    "#2. \n",
    "df.drop(columns=['email_hash','Unnamed: 0'],inplace=True)\n",
    "# We are dropping emails as anwyays as emmail has no role in job selection and also emails in case two are present ;\n",
    "# they represent 2 different trajectories of the candidate and can be considered different data points for clusterng \n",
    "# prupose"
   ]
  },
  {
   "cell_type": "code",
   "execution_count": 330,
   "id": "c7025403",
   "metadata": {},
   "outputs": [],
   "source": [
    "import re\n",
    "def remove_special (string):\n",
    "    new_string=re.sub('[^A-Za-z ]+', '', string)\n",
    "    return new_string"
   ]
  },
  {
   "cell_type": "code",
   "execution_count": 331,
   "id": "f87dd709",
   "metadata": {},
   "outputs": [
    {
     "data": {
      "text/plain": [
       "0                      other\n",
       "1         fullstack engineer\n",
       "2           backend engineer\n",
       "3           backend engineer\n",
       "4         fullstack engineer\n",
       "                 ...        \n",
       "205838                   nan\n",
       "205839                   nan\n",
       "205840                   nan\n",
       "205841                   nan\n",
       "205842                   nan\n",
       "Name: job_position, Length: 205843, dtype: object"
      ]
     },
     "execution_count": 331,
     "metadata": {},
     "output_type": "execute_result"
    }
   ],
   "source": [
    "df['job_position'] = df['job_position'].apply(lambda x : remove_special(str(x)))\n",
    "df['job_position']= df['job_position'].apply(lambda x: x.lower())\n",
    "df['job_position']= df['job_position'].apply(lambda x: x.strip())\n",
    "df['job_position']"
   ]
  },
  {
   "cell_type": "code",
   "execution_count": 332,
   "id": "f115630e",
   "metadata": {},
   "outputs": [
    {
     "data": {
      "text/plain": [
       "857"
      ]
     },
     "execution_count": 332,
     "metadata": {},
     "output_type": "execute_result"
    }
   ],
   "source": [
    "df['job_position'].nunique()\n",
    "#number iof unique records alos goes down"
   ]
  },
  {
   "cell_type": "code",
   "execution_count": 333,
   "id": "9f810d79",
   "metadata": {},
   "outputs": [
    {
     "data": {
      "text/plain": [
       "nan                                0.255350\n",
       "backend engineer                   0.211588\n",
       "fullstack engineer                 0.126222\n",
       "other                              0.087795\n",
       "frontend engineer                  0.050607\n",
       "                                     ...   \n",
       "software enginnering specialist    0.000005\n",
       "android lead                       0.000005\n",
       "senior analysts                    0.000005\n",
       "aspnet developer                   0.000005\n",
       "azure data factory                 0.000005\n",
       "Name: job_position, Length: 857, dtype: float64"
      ]
     },
     "execution_count": 333,
     "metadata": {},
     "output_type": "execute_result"
    }
   ],
   "source": [
    "df['job_position'].value_counts() / len(df['job_position'])\n",
    "#23% studetns have jobs as nan\n",
    "# 50% sudents have job as either nan, backend or full stack engineer"
   ]
  },
  {
   "cell_type": "code",
   "execution_count": 334,
   "id": "278a2286",
   "metadata": {},
   "outputs": [
    {
     "data": {
      "text/plain": [
       "(188247, 5)"
      ]
     },
     "execution_count": 334,
     "metadata": {},
     "output_type": "execute_result"
    }
   ],
   "source": [
    "df.drop_duplicates(inplace=True)\n",
    "df.shape"
   ]
  },
  {
   "cell_type": "code",
   "execution_count": 335,
   "id": "325ff589",
   "metadata": {},
   "outputs": [
    {
     "data": {
      "text/plain": [
       "0                                 2\n",
       "0000                              1\n",
       "01 ojztqsj                        2\n",
       "05mz exzytvrny uqxcvnt rxbxnta    2\n",
       "1                                 2\n",
       "                                 ..\n",
       "zyvzwt wgzohrnxzs tzsxzttqo       1\n",
       "zz                                2\n",
       "zzb ztdnstz vacxogqj ucn rna      2\n",
       "zzgato                            1\n",
       "zzzbzb                            1\n",
       "Name: company_hash, Length: 37299, dtype: int64"
      ]
     },
     "execution_count": 335,
     "metadata": {},
     "output_type": "execute_result"
    }
   ],
   "source": [
    "df['company_hash'].value_counts().sort_index()"
   ]
  },
  {
   "cell_type": "code",
   "execution_count": 336,
   "id": "12572816",
   "metadata": {},
   "outputs": [
    {
     "data": {
      "text/plain": [
       "nvnv wgzohrnvzwj otqcxwto      0.022757\n",
       "xzegojo                        0.016165\n",
       "vbvkgz                         0.015963\n",
       "wgszxkvzn                      0.012021\n",
       "zgn vuurxwvmrt vwwghzn         0.011735\n",
       "                                 ...   \n",
       "sggrst                         0.000005\n",
       "wxznyvbvzx wgbuhntq wytzzvx    0.000005\n",
       "trtsvzn ntwyzgogen             0.000005\n",
       "ohwwtoo qtoghqwto              0.000005\n",
       "bvptbjnqxu td vbvkgz           0.000005\n",
       "Name: company_hash, Length: 37299, dtype: float64"
      ]
     },
     "execution_count": 336,
     "metadata": {},
     "output_type": "execute_result"
    }
   ],
   "source": [
    "df['company_hash'].value_counts() / len(df['company_hash'])"
   ]
  },
  {
   "cell_type": "code",
   "execution_count": 337,
   "id": "38e02e80",
   "metadata": {},
   "outputs": [],
   "source": [
    "# As we can see the companies are at which the students work are sparsely distributed. 2.2% is the maximum number\n",
    "# meaning that even for the comapny at which the maximum students work the percentage of student is 2.2%"
   ]
  },
  {
   "cell_type": "code",
   "execution_count": 338,
   "id": "345ab12e",
   "metadata": {},
   "outputs": [
    {
     "data": {
      "text/plain": [
       "0                    atrgxnnt xzaxv\n",
       "1         qtrxvzwt xzegwgbb rxbxnta\n",
       "2                     ojzwnvwnxw vx\n",
       "3                         ngpgutaxv\n",
       "4                        qxen sqghu\n",
       "                    ...            \n",
       "205838                    vuurt xzw\n",
       "205839                    husqvawgb\n",
       "205840                     vwwgrxnt\n",
       "205841               zgn vuurxwvmrt\n",
       "205842               bgqsvz onvzrtj\n",
       "Name: company_hash, Length: 188247, dtype: object"
      ]
     },
     "execution_count": 338,
     "metadata": {},
     "output_type": "execute_result"
    }
   ],
   "source": [
    "df['company_hash'] = df['company_hash'].apply(lambda x : remove_special(str(x)))\n",
    "df['company_hash']= df['company_hash'].apply(lambda x: x.lower())\n",
    "df['company_hash']= df['company_hash'].apply(lambda x: x.strip())\n",
    "df['company_hash']"
   ]
  },
  {
   "cell_type": "code",
   "execution_count": 339,
   "id": "9147678c",
   "metadata": {},
   "outputs": [
    {
     "data": {
      "text/plain": [
       "37208"
      ]
     },
     "execution_count": 339,
     "metadata": {},
     "output_type": "execute_result"
    }
   ],
   "source": [
    "df['company_hash'].nunique()\n",
    "#number iof unique records alos goes down"
   ]
  },
  {
   "cell_type": "code",
   "execution_count": 340,
   "id": "c158ad44",
   "metadata": {},
   "outputs": [
    {
     "data": {
      "text/plain": [
       "                                                85\n",
       "a                                                1\n",
       "a b onttr wgqu                                   1\n",
       "a j uvnxr owyggr ge tzsxzttqxzs vwvatbj vbmx     1\n",
       "a ntwy ogrhnxgzo ucn rna                         2\n",
       "                                                ..\n",
       "zz                                               2\n",
       "zz wgzztwn mya                                   1\n",
       "zzb ztdnstz vacxogqj ucn rna                     2\n",
       "zzgato                                           1\n",
       "zzzbzb                                           1\n",
       "Name: company_hash, Length: 37208, dtype: int64"
      ]
     },
     "execution_count": 340,
     "metadata": {},
     "output_type": "execute_result"
    }
   ],
   "source": [
    "df['company_hash'].value_counts().sort_index()"
   ]
  },
  {
   "cell_type": "code",
   "execution_count": 341,
   "id": "3fcdf1a3",
   "metadata": {},
   "outputs": [
    {
     "name": "stdout",
     "output_type": "stream",
     "text": [
      "(188247, 5)\n",
      "(188246, 5)\n"
     ]
    }
   ],
   "source": [
    "print(df.shape)\n",
    "print(df.drop_duplicates().shape)\n",
    "df.drop_duplicates(inplace=True)"
   ]
  },
  {
   "cell_type": "code",
   "execution_count": 342,
   "id": "66408203",
   "metadata": {},
   "outputs": [],
   "source": [
    "#removing rows where company or job_position is not available\n",
    "df=df[ ~((df['company_hash']=='') | (df['job_position']==''))]"
   ]
  },
  {
   "cell_type": "code",
   "execution_count": 343,
   "id": "713ccb68",
   "metadata": {},
   "outputs": [
    {
     "data": {
      "text/plain": [
       "(188153, 5)"
      ]
     },
     "execution_count": 343,
     "metadata": {},
     "output_type": "execute_result"
    }
   ],
   "source": [
    "df.shape"
   ]
  },
  {
   "cell_type": "code",
   "execution_count": 344,
   "id": "7865417a",
   "metadata": {},
   "outputs": [],
   "source": [
    "# Filling Null values using Mean Target Inputation for Orgyear"
   ]
  },
  {
   "cell_type": "code",
   "execution_count": 345,
   "id": "4a0f67fb",
   "metadata": {},
   "outputs": [
    {
     "data": {
      "text/plain": [
       "86"
      ]
     },
     "execution_count": 345,
     "metadata": {},
     "output_type": "execute_result"
    }
   ],
   "source": [
    "df['orgyear'].isnull().sum()"
   ]
  },
  {
   "cell_type": "code",
   "execution_count": 346,
   "id": "d498587d",
   "metadata": {},
   "outputs": [],
   "source": [
    "company_median = df.groupby('company_hash')['orgyear'].median()"
   ]
  },
  {
   "cell_type": "code",
   "execution_count": 347,
   "id": "a32d8a88",
   "metadata": {},
   "outputs": [
    {
     "data": {
      "text/plain": [
       "company_hash\n",
       "a                                               2017.0\n",
       "a b onttr wgqu                                  2019.0\n",
       "a j uvnxr owyggr ge tzsxzttqxzs vwvatbj vbmx    2015.0\n",
       "a ntwy ogrhnxgzo ucn rna                        2013.0\n",
       "a ntwyzgrgsxto                                  2015.0\n",
       "                                                 ...  \n",
       "zz                                              2011.0\n",
       "zz wgzztwn mya                                  2009.0\n",
       "zzb ztdnstz vacxogqj ucn rna                    2017.0\n",
       "zzgato                                          2014.0\n",
       "zzzbzb                                          1990.0\n",
       "Name: orgyear, Length: 37205, dtype: float64"
      ]
     },
     "execution_count": 347,
     "metadata": {},
     "output_type": "execute_result"
    }
   ],
   "source": [
    "company_median"
   ]
  },
  {
   "cell_type": "code",
   "execution_count": 348,
   "id": "2d6e08ae",
   "metadata": {},
   "outputs": [
    {
     "data": {
      "text/plain": [
       "2017.0"
      ]
     },
     "execution_count": 348,
     "metadata": {},
     "output_type": "execute_result"
    }
   ],
   "source": [
    "company_median['a']"
   ]
  },
  {
   "cell_type": "code",
   "execution_count": 349,
   "id": "e1e04e4e",
   "metadata": {},
   "outputs": [],
   "source": [
    "def null_imputation(table_from_which_we_need_to_fill, main_col, null_col):\n",
    "    if np.isnan(null_col):\n",
    "        return table_from_which_we_need_to_fill[main_col]\n",
    "    else:\n",
    "        return null_col"
   ]
  },
  {
   "cell_type": "code",
   "execution_count": 350,
   "id": "807a1e3f",
   "metadata": {},
   "outputs": [],
   "source": [
    "#Apply the lambda function row wise\n",
    "df['orgyear']=df.apply(lambda x: null_imputation(company_median, x['company_hash'], x['orgyear']), axis =1)"
   ]
  },
  {
   "cell_type": "code",
   "execution_count": 351,
   "id": "b8163daf",
   "metadata": {},
   "outputs": [
    {
     "data": {
      "text/plain": [
       "26"
      ]
     },
     "execution_count": 351,
     "metadata": {},
     "output_type": "execute_result"
    }
   ],
   "source": [
    "len(df[df['orgyear'].isnull()])"
   ]
  },
  {
   "cell_type": "code",
   "execution_count": 352,
   "id": "f6270b9f",
   "metadata": {},
   "outputs": [],
   "source": [
    "df=df[~df['orgyear'].isnull()]"
   ]
  },
  {
   "cell_type": "code",
   "execution_count": 353,
   "id": "23f098ca",
   "metadata": {},
   "outputs": [
    {
     "data": {
      "text/plain": [
       "0.0        17\n",
       "1.0         2\n",
       "2.0         3\n",
       "3.0         6\n",
       "4.0         1\n",
       "           ..\n",
       "2101.0      1\n",
       "2106.0      1\n",
       "2107.0      1\n",
       "2204.0      1\n",
       "20165.0     2\n",
       "Name: orgyear, Length: 79, dtype: int64"
      ]
     },
     "execution_count": 353,
     "metadata": {},
     "output_type": "execute_result"
    }
   ],
   "source": [
    "#Significant outlier need to do outlier outlier correction on this\n",
    "df['orgyear'].value_counts().sort_index()"
   ]
  },
  {
   "cell_type": "code",
   "execution_count": 354,
   "id": "c53081ba",
   "metadata": {},
   "outputs": [
    {
     "data": {
      "text/plain": [
       "2015.0     2896\n",
       "2016.0     5417\n",
       "2017.0     7432\n",
       "2018.0     6656\n",
       "2019.0    64298\n",
       "2020.0    45036\n",
       "2021.0    56392\n",
       "Name: ctc_updated_year, dtype: int64"
      ]
     },
     "execution_count": 354,
     "metadata": {},
     "output_type": "execute_result"
    }
   ],
   "source": [
    "df['ctc_updated_year'].value_counts().sort_index()"
   ]
  },
  {
   "cell_type": "code",
   "execution_count": 355,
   "id": "fea029c6",
   "metadata": {},
   "outputs": [],
   "source": [
    "#No outliers in ctc_updates_year"
   ]
  },
  {
   "cell_type": "code",
   "execution_count": 356,
   "id": "66b15e60",
   "metadata": {},
   "outputs": [
    {
     "data": {
      "text/html": [
       "<div>\n",
       "<style scoped>\n",
       "    .dataframe tbody tr th:only-of-type {\n",
       "        vertical-align: middle;\n",
       "    }\n",
       "\n",
       "    .dataframe tbody tr th {\n",
       "        vertical-align: top;\n",
       "    }\n",
       "\n",
       "    .dataframe thead th {\n",
       "        text-align: right;\n",
       "    }\n",
       "</style>\n",
       "<table border=\"1\" class=\"dataframe\">\n",
       "  <thead>\n",
       "    <tr style=\"text-align: right;\">\n",
       "      <th></th>\n",
       "      <th>company_hash</th>\n",
       "      <th>orgyear</th>\n",
       "      <th>ctc</th>\n",
       "      <th>job_position</th>\n",
       "      <th>ctc_updated_year</th>\n",
       "    </tr>\n",
       "  </thead>\n",
       "  <tbody>\n",
       "    <tr>\n",
       "      <th>0</th>\n",
       "      <td>atrgxnnt xzaxv</td>\n",
       "      <td>2016.0</td>\n",
       "      <td>1100000</td>\n",
       "      <td>other</td>\n",
       "      <td>2020.0</td>\n",
       "    </tr>\n",
       "    <tr>\n",
       "      <th>1</th>\n",
       "      <td>qtrxvzwt xzegwgbb rxbxnta</td>\n",
       "      <td>2018.0</td>\n",
       "      <td>449999</td>\n",
       "      <td>fullstack engineer</td>\n",
       "      <td>2019.0</td>\n",
       "    </tr>\n",
       "    <tr>\n",
       "      <th>2</th>\n",
       "      <td>ojzwnvwnxw vx</td>\n",
       "      <td>2015.0</td>\n",
       "      <td>2000000</td>\n",
       "      <td>backend engineer</td>\n",
       "      <td>2020.0</td>\n",
       "    </tr>\n",
       "    <tr>\n",
       "      <th>3</th>\n",
       "      <td>ngpgutaxv</td>\n",
       "      <td>2017.0</td>\n",
       "      <td>700000</td>\n",
       "      <td>backend engineer</td>\n",
       "      <td>2019.0</td>\n",
       "    </tr>\n",
       "    <tr>\n",
       "      <th>4</th>\n",
       "      <td>qxen sqghu</td>\n",
       "      <td>2017.0</td>\n",
       "      <td>1400000</td>\n",
       "      <td>fullstack engineer</td>\n",
       "      <td>2019.0</td>\n",
       "    </tr>\n",
       "  </tbody>\n",
       "</table>\n",
       "</div>"
      ],
      "text/plain": [
       "                company_hash  orgyear      ctc        job_position  \\\n",
       "0             atrgxnnt xzaxv   2016.0  1100000               other   \n",
       "1  qtrxvzwt xzegwgbb rxbxnta   2018.0   449999  fullstack engineer   \n",
       "2              ojzwnvwnxw vx   2015.0  2000000    backend engineer   \n",
       "3                  ngpgutaxv   2017.0   700000    backend engineer   \n",
       "4                 qxen sqghu   2017.0  1400000  fullstack engineer   \n",
       "\n",
       "   ctc_updated_year  \n",
       "0            2020.0  \n",
       "1            2019.0  \n",
       "2            2020.0  \n",
       "3            2019.0  \n",
       "4            2019.0  "
      ]
     },
     "execution_count": 356,
     "metadata": {},
     "output_type": "execute_result"
    }
   ],
   "source": [
    "df.head()"
   ]
  },
  {
   "cell_type": "code",
   "execution_count": 357,
   "id": "01ff18e9",
   "metadata": {},
   "outputs": [],
   "source": [
    "#removing outliers from orgyear using IQR\n",
    "q1=df.orgyear.quantile(0.25)\n",
    "q3=df.orgyear.quantile(0.75)\n",
    "iqr=q3-q1\n",
    "df=df.loc[(df.orgyear>=q1-1.5*iqr) & (df.orgyear<=q3+1.5*iqr)]\n",
    "#removing outliers from ctc using IQR\n",
    "q1=df.ctc.quantile(0.25)\n",
    "q3=df.ctc.quantile(0.75)\n",
    "iqr=q3-q1\n",
    "df=df.loc[(df.ctc>=q1-1.5*iqr) & (df.ctc<=q3+1.5*iqr)]"
   ]
  },
  {
   "cell_type": "code",
   "execution_count": 358,
   "id": "270cabff",
   "metadata": {},
   "outputs": [],
   "source": [
    "#Lets do univariate analysis and bivaraite analysis on the numerical columns \n"
   ]
  },
  {
   "cell_type": "code",
   "execution_count": 359,
   "id": "ba876e95",
   "metadata": {},
   "outputs": [
    {
     "data": {
      "text/plain": [
       "<seaborn.axisgrid.FacetGrid at 0x16eeff4ed60>"
      ]
     },
     "execution_count": 359,
     "metadata": {},
     "output_type": "execute_result"
    },
    {
     "data": {
      "image/png": "[encoded data removed]",
      "text/plain": [
       "<Figure size 756x504 with 1 Axes>"
      ]
     },
     "metadata": {
      "needs_background": "light"
     },
     "output_type": "display_data"
    }
   ],
   "source": [
    "sns.displot( x = 'ctc', data = df, kde = True, height = 7, aspect = 1.5)\n",
    "#Most of the leatners earn between 3 lacs and 20 lacs"
   ]
  },
  {
   "cell_type": "code",
   "execution_count": 360,
   "id": "5a874434",
   "metadata": {},
   "outputs": [
    {
     "data": {
      "text/plain": [
       "<AxesSubplot:xlabel='ctc_updated_year', ylabel='count'>"
      ]
     },
     "execution_count": 360,
     "metadata": {},
     "output_type": "execute_result"
    },
    {
     "data": {
      "image/png": "[encoded data removed]",
      "text/plain": [
       "<Figure size 720x360 with 1 Axes>"
      ]
     },
     "metadata": {
      "needs_background": "light"
     },
     "output_type": "display_data"
    }
   ],
   "source": [
    "#ctc_updated_year\n",
    "fig, ax = plt.subplots(figsize=(10, 5))\n",
    "sns.countplot(x= 'ctc_updated_year', data = df, ax= ax)\n",
    "#ctc was updated mostly in the year 2019,2020 and 2021"
   ]
  },
  {
   "cell_type": "code",
   "execution_count": 361,
   "id": "8556dfb3",
   "metadata": {},
   "outputs": [
    {
     "data": {
      "text/plain": [
       "<AxesSubplot:xlabel='orgyear', ylabel='count'>"
      ]
     },
     "execution_count": 361,
     "metadata": {},
     "output_type": "execute_result"
    },
    {
     "data": {
      "image/png": "[encoded data removed]",
      "text/plain": [
       "<Figure size 1296x360 with 1 Axes>"
      ]
     },
     "metadata": {
      "needs_background": "light"
     },
     "output_type": "display_data"
    }
   ],
   "source": [
    "fig, ax = plt.subplots(figsize=(18, 5))\n",
    "sns.countplot(x= 'orgyear', data = df, ax= ax)\n",
    "#Most of the learners joined the companies is between 2014 to 2020 (both inclusive)"
   ]
  },
  {
   "cell_type": "code",
   "execution_count": 362,
   "id": "70691a91",
   "metadata": {},
   "outputs": [
    {
     "data": {
      "text/plain": [
       "<AxesSubplot:>"
      ]
     },
     "execution_count": 362,
     "metadata": {},
     "output_type": "execute_result"
    },
    {
     "data": {
      "image/png": "[encoded data removed]",
      "text/plain": [
       "<Figure size 720x720 with 2 Axes>"
      ]
     },
     "metadata": {
      "needs_background": "light"
     },
     "output_type": "display_data"
    }
   ],
   "source": [
    "#Bivariate analysis\n",
    "\n",
    "#Heatmap\n",
    "#Since variables aren't normally distributed we do not consider Pearson correlation\n",
    "fig, ax = plt.subplots(figsize=(10, 10))\n",
    "Var_Corr = df.corr(method = 'spearman')\n",
    "sns.heatmap(Var_Corr, xticklabels=Var_Corr.columns, yticklabels=Var_Corr.columns, annot=True, ax=ax)"
   ]
  },
  {
   "cell_type": "code",
   "execution_count": 363,
   "id": "62961d6d",
   "metadata": {},
   "outputs": [
    {
     "data": {
      "text/plain": [
       "<AxesSubplot:>"
      ]
     },
     "execution_count": 363,
     "metadata": {},
     "output_type": "execute_result"
    },
    {
     "data": {
      "image/png": "[encoded data removed]",
      "text/plain": [
       "<Figure size 720x720 with 2 Axes>"
      ]
     },
     "metadata": {
      "needs_background": "light"
     },
     "output_type": "display_data"
    }
   ],
   "source": [
    "fig, ax = plt.subplots(figsize=(10, 10))\n",
    "Var_Corr = df.corr(method = 'kendall')\n",
    "sns.heatmap(Var_Corr, xticklabels=Var_Corr.columns, yticklabels=Var_Corr.columns, annot=True, ax=ax)"
   ]
  },
  {
   "cell_type": "code",
   "execution_count": 364,
   "id": "1a1ea50d",
   "metadata": {},
   "outputs": [],
   "source": [
    "#Nothing significant from bivariate analysis"
   ]
  },
  {
   "cell_type": "code",
   "execution_count": 365,
   "id": "a76f1673",
   "metadata": {},
   "outputs": [
    {
     "name": "stdout",
     "output_type": "stream",
     "text": [
      "(168987, 5)\n",
      "(168986, 5)\n"
     ]
    }
   ],
   "source": [
    "print(df.shape)\n",
    "print(df.drop_duplicates().shape)\n",
    "df.drop_duplicates(inplace=True)"
   ]
  },
  {
   "cell_type": "code",
   "execution_count": 366,
   "id": "c392f702",
   "metadata": {},
   "outputs": [],
   "source": [
    "#There are lot of nan's in the job position "
   ]
  },
  {
   "cell_type": "code",
   "execution_count": 367,
   "id": "a280257b",
   "metadata": {},
   "outputs": [],
   "source": [
    "#We see some 'nan's in job_position\n",
    "#Replace string nan in job position with numpy nan\n",
    "df.loc[df['job_position']=='nan','job_position']=np.nan"
   ]
  },
  {
   "cell_type": "code",
   "execution_count": 368,
   "id": "02bce960",
   "metadata": {},
   "outputs": [],
   "source": [
    "# Masking companies by renaming it to \"Others\" having count less than 5"
   ]
  },
  {
   "cell_type": "code",
   "execution_count": 369,
   "id": "f6c47459",
   "metadata": {},
   "outputs": [
    {
     "data": {
      "text/plain": [
       "nvnv wgzohrnvzwj otqcxwto    4111\n",
       "xzegojo                      2910\n",
       "vbvkgz                       2226\n",
       "wgszxkvzn                    2115\n",
       "vwwtznhqt                    1998\n",
       "                             ... \n",
       "mvqw xzaxv                      1\n",
       "wgznghq                         1\n",
       "uqgbvwn xzegntwy ucn rna        1\n",
       "bvctqxwpo ftm otqcxwto          1\n",
       "wyvqntq wgbbhzxwvnxgzo          1\n",
       "Name: company_hash, Length: 34008, dtype: int64"
      ]
     },
     "execution_count": 369,
     "metadata": {},
     "output_type": "execute_result"
    }
   ],
   "source": [
    "df.company_hash.value_counts()"
   ]
  },
  {
   "cell_type": "code",
   "execution_count": 370,
   "id": "01921cfc",
   "metadata": {},
   "outputs": [
    {
     "data": {
      "text/plain": [
       "nvnv wgzohrnvzwj otqcxwto    False\n",
       "xzegojo                      False\n",
       "vbvkgz                       False\n",
       "wgszxkvzn                    False\n",
       "vwwtznhqt                    False\n",
       "                             ...  \n",
       "mvqw xzaxv                    True\n",
       "wgznghq                       True\n",
       "uqgbvwn xzegntwy ucn rna      True\n",
       "bvctqxwpo ftm otqcxwto        True\n",
       "wyvqntq wgbbhzxwvnxgzo        True\n",
       "Name: company_hash, Length: 34008, dtype: bool"
      ]
     },
     "execution_count": 370,
     "metadata": {},
     "output_type": "execute_result"
    }
   ],
   "source": [
    " (df['company_hash'].value_counts())<=5"
   ]
  },
  {
   "cell_type": "code",
   "execution_count": 371,
   "id": "313ddaa8",
   "metadata": {},
   "outputs": [
    {
     "data": {
      "text/plain": [
       "0         False\n",
       "1         False\n",
       "2          True\n",
       "3         False\n",
       "4         False\n",
       "          ...  \n",
       "205836    False\n",
       "205838    False\n",
       "205839    False\n",
       "205840    False\n",
       "205842    False\n",
       "Name: company_hash, Length: 168986, dtype: bool"
      ]
     },
     "execution_count": 371,
     "metadata": {},
     "output_type": "execute_result"
    }
   ],
   "source": [
    "df['company_hash'].map(df['company_hash'].value_counts())<=5"
   ]
  },
  {
   "cell_type": "code",
   "execution_count": 372,
   "id": "62db055a",
   "metadata": {},
   "outputs": [
    {
     "data": {
      "text/html": [
       "<div>\n",
       "<style scoped>\n",
       "    .dataframe tbody tr th:only-of-type {\n",
       "        vertical-align: middle;\n",
       "    }\n",
       "\n",
       "    .dataframe tbody tr th {\n",
       "        vertical-align: top;\n",
       "    }\n",
       "\n",
       "    .dataframe thead th {\n",
       "        text-align: right;\n",
       "    }\n",
       "</style>\n",
       "<table border=\"1\" class=\"dataframe\">\n",
       "  <thead>\n",
       "    <tr style=\"text-align: right;\">\n",
       "      <th></th>\n",
       "      <th>company_hash</th>\n",
       "      <th>orgyear</th>\n",
       "      <th>ctc</th>\n",
       "      <th>job_position</th>\n",
       "      <th>ctc_updated_year</th>\n",
       "    </tr>\n",
       "  </thead>\n",
       "  <tbody>\n",
       "    <tr>\n",
       "      <th>2</th>\n",
       "      <td>ojzwnvwnxw vx</td>\n",
       "      <td>2015.0</td>\n",
       "      <td>2000000</td>\n",
       "      <td>backend engineer</td>\n",
       "      <td>2020.0</td>\n",
       "    </tr>\n",
       "    <tr>\n",
       "      <th>9</th>\n",
       "      <td>xrbhd</td>\n",
       "      <td>2019.0</td>\n",
       "      <td>360000</td>\n",
       "      <td>NaN</td>\n",
       "      <td>2019.0</td>\n",
       "    </tr>\n",
       "    <tr>\n",
       "      <th>11</th>\n",
       "      <td>ngdor ntwy</td>\n",
       "      <td>2016.0</td>\n",
       "      <td>600000</td>\n",
       "      <td>ios engineer</td>\n",
       "      <td>2021.0</td>\n",
       "    </tr>\n",
       "    <tr>\n",
       "      <th>16</th>\n",
       "      <td>pnw xzaxv ucn rna</td>\n",
       "      <td>2013.0</td>\n",
       "      <td>800000</td>\n",
       "      <td>other</td>\n",
       "      <td>2020.0</td>\n",
       "    </tr>\n",
       "    <tr>\n",
       "      <th>21</th>\n",
       "      <td>axgz srgmvr</td>\n",
       "      <td>2006.0</td>\n",
       "      <td>1550000</td>\n",
       "      <td>engineering leadership</td>\n",
       "      <td>2019.0</td>\n",
       "    </tr>\n",
       "    <tr>\n",
       "      <th>...</th>\n",
       "      <td>...</td>\n",
       "      <td>...</td>\n",
       "      <td>...</td>\n",
       "      <td>...</td>\n",
       "      <td>...</td>\n",
       "    </tr>\n",
       "    <tr>\n",
       "      <th>205811</th>\n",
       "      <td>mrht onvnt axsxnvr</td>\n",
       "      <td>2013.0</td>\n",
       "      <td>85000</td>\n",
       "      <td>NaN</td>\n",
       "      <td>2016.0</td>\n",
       "    </tr>\n",
       "    <tr>\n",
       "      <th>205815</th>\n",
       "      <td>bvptbjnqxu td vbvkgz</td>\n",
       "      <td>2015.0</td>\n",
       "      <td>2400000</td>\n",
       "      <td>NaN</td>\n",
       "      <td>2019.0</td>\n",
       "    </tr>\n",
       "    <tr>\n",
       "      <th>205816</th>\n",
       "      <td>wgat ergf ntwy rru</td>\n",
       "      <td>2019.0</td>\n",
       "      <td>2200000</td>\n",
       "      <td>NaN</td>\n",
       "      <td>2020.0</td>\n",
       "    </tr>\n",
       "    <tr>\n",
       "      <th>205817</th>\n",
       "      <td>wxowg ojntbo</td>\n",
       "      <td>2011.0</td>\n",
       "      <td>3327000</td>\n",
       "      <td>NaN</td>\n",
       "      <td>2019.0</td>\n",
       "    </tr>\n",
       "    <tr>\n",
       "      <th>205834</th>\n",
       "      <td>wyvqntq wgbbhzxwvnxgzo</td>\n",
       "      <td>2020.0</td>\n",
       "      <td>100000</td>\n",
       "      <td>NaN</td>\n",
       "      <td>2019.0</td>\n",
       "    </tr>\n",
       "  </tbody>\n",
       "</table>\n",
       "<p>46749 rows × 5 columns</p>\n",
       "</div>"
      ],
      "text/plain": [
       "                  company_hash  orgyear      ctc            job_position  \\\n",
       "2                ojzwnvwnxw vx   2015.0  2000000        backend engineer   \n",
       "9                        xrbhd   2019.0   360000                     NaN   \n",
       "11                  ngdor ntwy   2016.0   600000            ios engineer   \n",
       "16           pnw xzaxv ucn rna   2013.0   800000                   other   \n",
       "21                 axgz srgmvr   2006.0  1550000  engineering leadership   \n",
       "...                        ...      ...      ...                     ...   \n",
       "205811      mrht onvnt axsxnvr   2013.0    85000                     NaN   \n",
       "205815    bvptbjnqxu td vbvkgz   2015.0  2400000                     NaN   \n",
       "205816      wgat ergf ntwy rru   2019.0  2200000                     NaN   \n",
       "205817            wxowg ojntbo   2011.0  3327000                     NaN   \n",
       "205834  wyvqntq wgbbhzxwvnxgzo   2020.0   100000                     NaN   \n",
       "\n",
       "        ctc_updated_year  \n",
       "2                 2020.0  \n",
       "9                 2019.0  \n",
       "11                2021.0  \n",
       "16                2020.0  \n",
       "21                2019.0  \n",
       "...                  ...  \n",
       "205811            2016.0  \n",
       "205815            2019.0  \n",
       "205816            2020.0  \n",
       "205817            2019.0  \n",
       "205834            2019.0  \n",
       "\n",
       "[46749 rows x 5 columns]"
      ]
     },
     "execution_count": 372,
     "metadata": {},
     "output_type": "execute_result"
    }
   ],
   "source": [
    "df[df.company_hash.map(df.company_hash.value_counts())<=5]"
   ]
  },
  {
   "cell_type": "code",
   "execution_count": 373,
   "id": "582975ad",
   "metadata": {},
   "outputs": [],
   "source": [
    "df['new']=df['company_hash'].mask(df['company_hash'].map(df['company_hash'].value_counts())<=5, 'Others')"
   ]
  },
  {
   "cell_type": "code",
   "execution_count": 374,
   "id": "eaadc33a",
   "metadata": {},
   "outputs": [
    {
     "data": {
      "text/html": [
       "<div>\n",
       "<style scoped>\n",
       "    .dataframe tbody tr th:only-of-type {\n",
       "        vertical-align: middle;\n",
       "    }\n",
       "\n",
       "    .dataframe tbody tr th {\n",
       "        vertical-align: top;\n",
       "    }\n",
       "\n",
       "    .dataframe thead th {\n",
       "        text-align: right;\n",
       "    }\n",
       "</style>\n",
       "<table border=\"1\" class=\"dataframe\">\n",
       "  <thead>\n",
       "    <tr style=\"text-align: right;\">\n",
       "      <th></th>\n",
       "      <th>company_hash</th>\n",
       "      <th>orgyear</th>\n",
       "      <th>ctc</th>\n",
       "      <th>job_position</th>\n",
       "      <th>ctc_updated_year</th>\n",
       "      <th>new</th>\n",
       "    </tr>\n",
       "  </thead>\n",
       "  <tbody>\n",
       "    <tr>\n",
       "      <th>0</th>\n",
       "      <td>atrgxnnt xzaxv</td>\n",
       "      <td>2016.0</td>\n",
       "      <td>1100000</td>\n",
       "      <td>other</td>\n",
       "      <td>2020.0</td>\n",
       "      <td>atrgxnnt xzaxv</td>\n",
       "    </tr>\n",
       "    <tr>\n",
       "      <th>1</th>\n",
       "      <td>qtrxvzwt xzegwgbb rxbxnta</td>\n",
       "      <td>2018.0</td>\n",
       "      <td>449999</td>\n",
       "      <td>fullstack engineer</td>\n",
       "      <td>2019.0</td>\n",
       "      <td>qtrxvzwt xzegwgbb rxbxnta</td>\n",
       "    </tr>\n",
       "    <tr>\n",
       "      <th>2</th>\n",
       "      <td>ojzwnvwnxw vx</td>\n",
       "      <td>2015.0</td>\n",
       "      <td>2000000</td>\n",
       "      <td>backend engineer</td>\n",
       "      <td>2020.0</td>\n",
       "      <td>Others</td>\n",
       "    </tr>\n",
       "    <tr>\n",
       "      <th>3</th>\n",
       "      <td>ngpgutaxv</td>\n",
       "      <td>2017.0</td>\n",
       "      <td>700000</td>\n",
       "      <td>backend engineer</td>\n",
       "      <td>2019.0</td>\n",
       "      <td>ngpgutaxv</td>\n",
       "    </tr>\n",
       "    <tr>\n",
       "      <th>4</th>\n",
       "      <td>qxen sqghu</td>\n",
       "      <td>2017.0</td>\n",
       "      <td>1400000</td>\n",
       "      <td>fullstack engineer</td>\n",
       "      <td>2019.0</td>\n",
       "      <td>qxen sqghu</td>\n",
       "    </tr>\n",
       "    <tr>\n",
       "      <th>...</th>\n",
       "      <td>...</td>\n",
       "      <td>...</td>\n",
       "      <td>...</td>\n",
       "      <td>...</td>\n",
       "      <td>...</td>\n",
       "      <td>...</td>\n",
       "    </tr>\n",
       "    <tr>\n",
       "      <th>205836</th>\n",
       "      <td>mvqwrvjo</td>\n",
       "      <td>2011.0</td>\n",
       "      <td>2250000</td>\n",
       "      <td>NaN</td>\n",
       "      <td>2019.0</td>\n",
       "      <td>mvqwrvjo</td>\n",
       "    </tr>\n",
       "    <tr>\n",
       "      <th>205838</th>\n",
       "      <td>vuurt xzw</td>\n",
       "      <td>2008.0</td>\n",
       "      <td>220000</td>\n",
       "      <td>NaN</td>\n",
       "      <td>2019.0</td>\n",
       "      <td>vuurt xzw</td>\n",
       "    </tr>\n",
       "    <tr>\n",
       "      <th>205839</th>\n",
       "      <td>husqvawgb</td>\n",
       "      <td>2017.0</td>\n",
       "      <td>500000</td>\n",
       "      <td>NaN</td>\n",
       "      <td>2020.0</td>\n",
       "      <td>husqvawgb</td>\n",
       "    </tr>\n",
       "    <tr>\n",
       "      <th>205840</th>\n",
       "      <td>vwwgrxnt</td>\n",
       "      <td>2021.0</td>\n",
       "      <td>700000</td>\n",
       "      <td>NaN</td>\n",
       "      <td>2021.0</td>\n",
       "      <td>vwwgrxnt</td>\n",
       "    </tr>\n",
       "    <tr>\n",
       "      <th>205842</th>\n",
       "      <td>bgqsvz onvzrtj</td>\n",
       "      <td>2014.0</td>\n",
       "      <td>1240000</td>\n",
       "      <td>NaN</td>\n",
       "      <td>2016.0</td>\n",
       "      <td>bgqsvz onvzrtj</td>\n",
       "    </tr>\n",
       "  </tbody>\n",
       "</table>\n",
       "<p>168986 rows × 6 columns</p>\n",
       "</div>"
      ],
      "text/plain": [
       "                     company_hash  orgyear      ctc        job_position  \\\n",
       "0                  atrgxnnt xzaxv   2016.0  1100000               other   \n",
       "1       qtrxvzwt xzegwgbb rxbxnta   2018.0   449999  fullstack engineer   \n",
       "2                   ojzwnvwnxw vx   2015.0  2000000    backend engineer   \n",
       "3                       ngpgutaxv   2017.0   700000    backend engineer   \n",
       "4                      qxen sqghu   2017.0  1400000  fullstack engineer   \n",
       "...                           ...      ...      ...                 ...   \n",
       "205836                   mvqwrvjo   2011.0  2250000                 NaN   \n",
       "205838                  vuurt xzw   2008.0   220000                 NaN   \n",
       "205839                  husqvawgb   2017.0   500000                 NaN   \n",
       "205840                   vwwgrxnt   2021.0   700000                 NaN   \n",
       "205842             bgqsvz onvzrtj   2014.0  1240000                 NaN   \n",
       "\n",
       "        ctc_updated_year                        new  \n",
       "0                 2020.0             atrgxnnt xzaxv  \n",
       "1                 2019.0  qtrxvzwt xzegwgbb rxbxnta  \n",
       "2                 2020.0                     Others  \n",
       "3                 2019.0                  ngpgutaxv  \n",
       "4                 2019.0                 qxen sqghu  \n",
       "...                  ...                        ...  \n",
       "205836            2019.0                   mvqwrvjo  \n",
       "205838            2019.0                  vuurt xzw  \n",
       "205839            2020.0                  husqvawgb  \n",
       "205840            2021.0                   vwwgrxnt  \n",
       "205842            2016.0             bgqsvz onvzrtj  \n",
       "\n",
       "[168986 rows x 6 columns]"
      ]
     },
     "execution_count": 374,
     "metadata": {},
     "output_type": "execute_result"
    }
   ],
   "source": [
    "df"
   ]
  },
  {
   "cell_type": "code",
   "execution_count": 375,
   "id": "b7d9702b",
   "metadata": {},
   "outputs": [
    {
     "data": {
      "text/plain": [
       "xzoygqno                   5\n",
       "bjowyggruvst               5\n",
       "bjbgztjpvqbv               5\n",
       "wgznxztznvr vs             5\n",
       "rtno nqvzougqn             5\n",
       "                          ..\n",
       "hmtqnvr                    1\n",
       "uqgbvn                     1\n",
       "lp ntwyzgogen rna zgxav    1\n",
       "sggrst                     1\n",
       "wyvqntq wgbbhzxwvnxgzo     1\n",
       "Name: company_hash, Length: 31066, dtype: int64"
      ]
     },
     "execution_count": 375,
     "metadata": {},
     "output_type": "execute_result"
    }
   ],
   "source": [
    "df[df['new']=='Others']['company_hash'].value_counts()"
   ]
  },
  {
   "cell_type": "code",
   "execution_count": 376,
   "id": "691687a8",
   "metadata": {},
   "outputs": [],
   "source": [
    "#By deafult axis = 0, means we are going column wise\n",
    "df=df.apply(lambda x: x.mask(x.map(x.value_counts())<=5,'Others') if x.name=='company_hash' else x)"
   ]
  },
  {
   "cell_type": "code",
   "execution_count": 377,
   "id": "5b9cf840",
   "metadata": {},
   "outputs": [
    {
     "data": {
      "text/plain": [
       "Others                        46749\n",
       "nvnv wgzohrnvzwj otqcxwto      4111\n",
       "xzegojo                        2910\n",
       "vbvkgz                         2226\n",
       "wgszxkvzn                      2115\n",
       "                              ...  \n",
       "avowti                            6\n",
       "ovaart ugxzn ntwyzgrgsxto         6\n",
       "xzonvzn ojontbo xzw               6\n",
       "vrsgowvrt ntwyzgrgsxto xzw        6\n",
       "ohbngnvr ojontbo                  6\n",
       "Name: company_hash, Length: 2943, dtype: int64"
      ]
     },
     "execution_count": 377,
     "metadata": {},
     "output_type": "execute_result"
    }
   ],
   "source": [
    "df['company_hash'].value_counts()"
   ]
  },
  {
   "cell_type": "code",
   "execution_count": 378,
   "id": "b32c7ec6",
   "metadata": {},
   "outputs": [],
   "source": [
    "df.drop(columns='new',inplace=True)"
   ]
  },
  {
   "cell_type": "code",
   "execution_count": 379,
   "id": "f18bd8f7",
   "metadata": {},
   "outputs": [],
   "source": [
    "#Creating Years of Experience Columns"
   ]
  },
  {
   "cell_type": "code",
   "execution_count": 380,
   "id": "9b2a22e0",
   "metadata": {},
   "outputs": [
    {
     "data": {
      "text/plain": [
       "(147140, 5)"
      ]
     },
     "execution_count": 380,
     "metadata": {},
     "output_type": "execute_result"
    }
   ],
   "source": [
    "df.drop_duplicates(inplace=True)\n",
    "df.shape"
   ]
  },
  {
   "cell_type": "code",
   "execution_count": 381,
   "id": "7e17dc18",
   "metadata": {},
   "outputs": [],
   "source": [
    "#orgyear check\n",
    "df['orgyear'] = df.apply(lambda x: x['orgyear'] if x['orgyear'] <=2022 else 2022, axis=1)"
   ]
  },
  {
   "cell_type": "code",
   "execution_count": 382,
   "id": "cc3ab26a",
   "metadata": {},
   "outputs": [],
   "source": [
    "df['years_of_experience']=2022-df['orgyear']"
   ]
  },
  {
   "cell_type": "code",
   "execution_count": 383,
   "id": "59df0751",
   "metadata": {},
   "outputs": [],
   "source": [
    "#ctc_updated_year_check\n",
    "df['ctc_updated_year'] = df.apply(lambda x: x['orgyear'] if x['ctc_updated_year'] < x['orgyear']\n",
    "                                                         else x['ctc_updated_year'], axis=1)"
   ]
  },
  {
   "cell_type": "code",
   "execution_count": 384,
   "id": "a6973784",
   "metadata": {},
   "outputs": [],
   "source": [
    "#Filling null values with others -- if not done before\n",
    "df['job_position'] = df['job_position'].fillna('Others')\n",
    "df['company_hash'] = df['company_hash'].fillna('Others')"
   ]
  },
  {
   "cell_type": "code",
   "execution_count": 385,
   "id": "e69b8f02",
   "metadata": {},
   "outputs": [
    {
     "data": {
      "text/plain": [
       "company_hash           0\n",
       "orgyear                0\n",
       "ctc                    0\n",
       "job_position           0\n",
       "ctc_updated_year       0\n",
       "years_of_experience    0\n",
       "dtype: int64"
      ]
     },
     "execution_count": 385,
     "metadata": {},
     "output_type": "execute_result"
    }
   ],
   "source": [
    "df.isnull().sum()\n",
    "#All good now"
   ]
  },
  {
   "cell_type": "code",
   "execution_count": 386,
   "id": "0b76b9b0",
   "metadata": {},
   "outputs": [
    {
     "data": {
      "text/html": [
       "<div>\n",
       "<style scoped>\n",
       "    .dataframe tbody tr th:only-of-type {\n",
       "        vertical-align: middle;\n",
       "    }\n",
       "\n",
       "    .dataframe tbody tr th {\n",
       "        vertical-align: top;\n",
       "    }\n",
       "\n",
       "    .dataframe thead th {\n",
       "        text-align: right;\n",
       "    }\n",
       "</style>\n",
       "<table border=\"1\" class=\"dataframe\">\n",
       "  <thead>\n",
       "    <tr style=\"text-align: right;\">\n",
       "      <th></th>\n",
       "      <th>orgyear</th>\n",
       "      <th>ctc</th>\n",
       "      <th>ctc_updated_year</th>\n",
       "      <th>years_of_experience</th>\n",
       "    </tr>\n",
       "  </thead>\n",
       "  <tbody>\n",
       "    <tr>\n",
       "      <th>count</th>\n",
       "      <td>147140.000000</td>\n",
       "      <td>1.471400e+05</td>\n",
       "      <td>147140.000000</td>\n",
       "      <td>147140.000000</td>\n",
       "    </tr>\n",
       "    <tr>\n",
       "      <th>mean</th>\n",
       "      <td>2015.481647</td>\n",
       "      <td>1.127801e+06</td>\n",
       "      <td>2019.600041</td>\n",
       "      <td>6.518353</td>\n",
       "    </tr>\n",
       "    <tr>\n",
       "      <th>std</th>\n",
       "      <td>3.311169</td>\n",
       "      <td>7.435970e+05</td>\n",
       "      <td>1.339111</td>\n",
       "      <td>3.311169</td>\n",
       "    </tr>\n",
       "    <tr>\n",
       "      <th>min</th>\n",
       "      <td>2006.000000</td>\n",
       "      <td>2.000000e+00</td>\n",
       "      <td>2015.000000</td>\n",
       "      <td>0.000000</td>\n",
       "    </tr>\n",
       "    <tr>\n",
       "      <th>25%</th>\n",
       "      <td>2013.000000</td>\n",
       "      <td>5.700000e+05</td>\n",
       "      <td>2019.000000</td>\n",
       "      <td>4.000000</td>\n",
       "    </tr>\n",
       "    <tr>\n",
       "      <th>50%</th>\n",
       "      <td>2016.000000</td>\n",
       "      <td>9.500000e+05</td>\n",
       "      <td>2020.000000</td>\n",
       "      <td>6.000000</td>\n",
       "    </tr>\n",
       "    <tr>\n",
       "      <th>75%</th>\n",
       "      <td>2018.000000</td>\n",
       "      <td>1.550000e+06</td>\n",
       "      <td>2021.000000</td>\n",
       "      <td>9.000000</td>\n",
       "    </tr>\n",
       "    <tr>\n",
       "      <th>max</th>\n",
       "      <td>2022.000000</td>\n",
       "      <td>3.330000e+06</td>\n",
       "      <td>2022.000000</td>\n",
       "      <td>16.000000</td>\n",
       "    </tr>\n",
       "  </tbody>\n",
       "</table>\n",
       "</div>"
      ],
      "text/plain": [
       "             orgyear           ctc  ctc_updated_year  years_of_experience\n",
       "count  147140.000000  1.471400e+05     147140.000000        147140.000000\n",
       "mean     2015.481647  1.127801e+06       2019.600041             6.518353\n",
       "std         3.311169  7.435970e+05          1.339111             3.311169\n",
       "min      2006.000000  2.000000e+00       2015.000000             0.000000\n",
       "25%      2013.000000  5.700000e+05       2019.000000             4.000000\n",
       "50%      2016.000000  9.500000e+05       2020.000000             6.000000\n",
       "75%      2018.000000  1.550000e+06       2021.000000             9.000000\n",
       "max      2022.000000  3.330000e+06       2022.000000            16.000000"
      ]
     },
     "execution_count": 386,
     "metadata": {},
     "output_type": "execute_result"
    }
   ],
   "source": [
    "df.describe()"
   ]
  },
  {
   "cell_type": "code",
   "execution_count": 387,
   "id": "763c74f5",
   "metadata": {},
   "outputs": [],
   "source": [
    "#Manual clustering "
   ]
  },
  {
   "cell_type": "code",
   "execution_count": 388,
   "id": "595709b2",
   "metadata": {},
   "outputs": [],
   "source": [
    "# company, job position and years of experience"
   ]
  },
  {
   "cell_type": "code",
   "execution_count": 389,
   "id": "b3a4e78c",
   "metadata": {},
   "outputs": [],
   "source": [
    "grp_cjy =  df.groupby(['years_of_experience', 'job_position','company_hash'], as_index=True)['ctc'].describe()"
   ]
  },
  {
   "cell_type": "code",
   "execution_count": 390,
   "id": "acffb9ec",
   "metadata": {},
   "outputs": [
    {
     "data": {
      "text/html": [
       "<div>\n",
       "<style scoped>\n",
       "    .dataframe tbody tr th:only-of-type {\n",
       "        vertical-align: middle;\n",
       "    }\n",
       "\n",
       "    .dataframe tbody tr th {\n",
       "        vertical-align: top;\n",
       "    }\n",
       "\n",
       "    .dataframe thead th {\n",
       "        text-align: right;\n",
       "    }\n",
       "</style>\n",
       "<table border=\"1\" class=\"dataframe\">\n",
       "  <thead>\n",
       "    <tr style=\"text-align: right;\">\n",
       "      <th></th>\n",
       "      <th></th>\n",
       "      <th></th>\n",
       "      <th>count</th>\n",
       "      <th>mean</th>\n",
       "      <th>std</th>\n",
       "      <th>min</th>\n",
       "      <th>25%</th>\n",
       "      <th>50%</th>\n",
       "      <th>75%</th>\n",
       "      <th>max</th>\n",
       "    </tr>\n",
       "    <tr>\n",
       "      <th>years_of_experience</th>\n",
       "      <th>job_position</th>\n",
       "      <th>company_hash</th>\n",
       "      <th></th>\n",
       "      <th></th>\n",
       "      <th></th>\n",
       "      <th></th>\n",
       "      <th></th>\n",
       "      <th></th>\n",
       "      <th></th>\n",
       "      <th></th>\n",
       "    </tr>\n",
       "  </thead>\n",
       "  <tbody>\n",
       "    <tr>\n",
       "      <th rowspan=\"5\" valign=\"top\">0.0</th>\n",
       "      <th rowspan=\"5\" valign=\"top\">Others</th>\n",
       "      <th>Others</th>\n",
       "      <td>54.0</td>\n",
       "      <td>7.421518e+05</td>\n",
       "      <td>651538.866897</td>\n",
       "      <td>200.0</td>\n",
       "      <td>282500.0</td>\n",
       "      <td>525000.0</td>\n",
       "      <td>1154999.75</td>\n",
       "      <td>3000000.0</td>\n",
       "    </tr>\n",
       "    <tr>\n",
       "      <th>agzn fgqp xz vzj gqsvzxkvnxgz</th>\n",
       "      <td>1.0</td>\n",
       "      <td>1.600000e+06</td>\n",
       "      <td>NaN</td>\n",
       "      <td>1600000.0</td>\n",
       "      <td>1600000.0</td>\n",
       "      <td>1600000.0</td>\n",
       "      <td>1600000.00</td>\n",
       "      <td>1600000.0</td>\n",
       "    </tr>\n",
       "    <tr>\n",
       "      <th>atrgxnnt</th>\n",
       "      <td>1.0</td>\n",
       "      <td>1.000000e+06</td>\n",
       "      <td>NaN</td>\n",
       "      <td>1000000.0</td>\n",
       "      <td>1000000.0</td>\n",
       "      <td>1000000.0</td>\n",
       "      <td>1000000.00</td>\n",
       "      <td>1000000.0</td>\n",
       "    </tr>\n",
       "    <tr>\n",
       "      <th>atrr</th>\n",
       "      <td>1.0</td>\n",
       "      <td>1.000000e+06</td>\n",
       "      <td>NaN</td>\n",
       "      <td>1000000.0</td>\n",
       "      <td>1000000.0</td>\n",
       "      <td>1000000.0</td>\n",
       "      <td>1000000.00</td>\n",
       "      <td>1000000.0</td>\n",
       "    </tr>\n",
       "    <tr>\n",
       "      <th>atrr ntwyzgrgsxto</th>\n",
       "      <td>2.0</td>\n",
       "      <td>1.000000e+06</td>\n",
       "      <td>282842.712475</td>\n",
       "      <td>800000.0</td>\n",
       "      <td>900000.0</td>\n",
       "      <td>1000000.0</td>\n",
       "      <td>1100000.00</td>\n",
       "      <td>1200000.0</td>\n",
       "    </tr>\n",
       "    <tr>\n",
       "      <th>...</th>\n",
       "      <th>...</th>\n",
       "      <th>...</th>\n",
       "      <td>...</td>\n",
       "      <td>...</td>\n",
       "      <td>...</td>\n",
       "      <td>...</td>\n",
       "      <td>...</td>\n",
       "      <td>...</td>\n",
       "      <td>...</td>\n",
       "      <td>...</td>\n",
       "    </tr>\n",
       "    <tr>\n",
       "      <th rowspan=\"5\" valign=\"top\">16.0</th>\n",
       "      <th rowspan=\"4\" valign=\"top\">support engineer</th>\n",
       "      <th>xzegojo</th>\n",
       "      <td>1.0</td>\n",
       "      <td>8.000000e+05</td>\n",
       "      <td>NaN</td>\n",
       "      <td>800000.0</td>\n",
       "      <td>800000.0</td>\n",
       "      <td>800000.0</td>\n",
       "      <td>800000.00</td>\n",
       "      <td>800000.0</td>\n",
       "    </tr>\n",
       "    <tr>\n",
       "      <th>xzegq</th>\n",
       "      <td>1.0</td>\n",
       "      <td>9.000000e+05</td>\n",
       "      <td>NaN</td>\n",
       "      <td>900000.0</td>\n",
       "      <td>900000.0</td>\n",
       "      <td>900000.0</td>\n",
       "      <td>900000.00</td>\n",
       "      <td>900000.0</td>\n",
       "    </tr>\n",
       "    <tr>\n",
       "      <th>ywr ntwyzgrgsxto</th>\n",
       "      <td>2.0</td>\n",
       "      <td>8.500000e+05</td>\n",
       "      <td>494974.746831</td>\n",
       "      <td>500000.0</td>\n",
       "      <td>675000.0</td>\n",
       "      <td>850000.0</td>\n",
       "      <td>1025000.00</td>\n",
       "      <td>1200000.0</td>\n",
       "    </tr>\n",
       "    <tr>\n",
       "      <th>zvz</th>\n",
       "      <td>1.0</td>\n",
       "      <td>4.000000e+05</td>\n",
       "      <td>NaN</td>\n",
       "      <td>400000.0</td>\n",
       "      <td>400000.0</td>\n",
       "      <td>400000.0</td>\n",
       "      <td>400000.00</td>\n",
       "      <td>400000.0</td>\n",
       "    </tr>\n",
       "    <tr>\n",
       "      <th>team lead</th>\n",
       "      <th>utqoxontzn ojontbo</th>\n",
       "      <td>1.0</td>\n",
       "      <td>1.600000e+06</td>\n",
       "      <td>NaN</td>\n",
       "      <td>1600000.0</td>\n",
       "      <td>1600000.0</td>\n",
       "      <td>1600000.0</td>\n",
       "      <td>1600000.00</td>\n",
       "      <td>1600000.0</td>\n",
       "    </tr>\n",
       "  </tbody>\n",
       "</table>\n",
       "<p>56097 rows × 8 columns</p>\n",
       "</div>"
      ],
      "text/plain": [
       "                                                                    count  \\\n",
       "years_of_experience job_position     company_hash                           \n",
       "0.0                 Others           Others                          54.0   \n",
       "                                     agzn fgqp xz vzj gqsvzxkvnxgz    1.0   \n",
       "                                     atrgxnnt                         1.0   \n",
       "                                     atrr                             1.0   \n",
       "                                     atrr ntwyzgrgsxto                2.0   \n",
       "...                                                                   ...   \n",
       "16.0                support engineer xzegojo                          1.0   \n",
       "                                     xzegq                            1.0   \n",
       "                                     ywr ntwyzgrgsxto                 2.0   \n",
       "                                     zvz                              1.0   \n",
       "                    team lead        utqoxontzn ojontbo               1.0   \n",
       "\n",
       "                                                                            mean  \\\n",
       "years_of_experience job_position     company_hash                                  \n",
       "0.0                 Others           Others                         7.421518e+05   \n",
       "                                     agzn fgqp xz vzj gqsvzxkvnxgz  1.600000e+06   \n",
       "                                     atrgxnnt                       1.000000e+06   \n",
       "                                     atrr                           1.000000e+06   \n",
       "                                     atrr ntwyzgrgsxto              1.000000e+06   \n",
       "...                                                                          ...   \n",
       "16.0                support engineer xzegojo                        8.000000e+05   \n",
       "                                     xzegq                          9.000000e+05   \n",
       "                                     ywr ntwyzgrgsxto               8.500000e+05   \n",
       "                                     zvz                            4.000000e+05   \n",
       "                    team lead        utqoxontzn ojontbo             1.600000e+06   \n",
       "\n",
       "                                                                              std  \\\n",
       "years_of_experience job_position     company_hash                                   \n",
       "0.0                 Others           Others                         651538.866897   \n",
       "                                     agzn fgqp xz vzj gqsvzxkvnxgz            NaN   \n",
       "                                     atrgxnnt                                 NaN   \n",
       "                                     atrr                                     NaN   \n",
       "                                     atrr ntwyzgrgsxto              282842.712475   \n",
       "...                                                                           ...   \n",
       "16.0                support engineer xzegojo                                  NaN   \n",
       "                                     xzegq                                    NaN   \n",
       "                                     ywr ntwyzgrgsxto               494974.746831   \n",
       "                                     zvz                                      NaN   \n",
       "                    team lead        utqoxontzn ojontbo                       NaN   \n",
       "\n",
       "                                                                          min  \\\n",
       "years_of_experience job_position     company_hash                               \n",
       "0.0                 Others           Others                             200.0   \n",
       "                                     agzn fgqp xz vzj gqsvzxkvnxgz  1600000.0   \n",
       "                                     atrgxnnt                       1000000.0   \n",
       "                                     atrr                           1000000.0   \n",
       "                                     atrr ntwyzgrgsxto               800000.0   \n",
       "...                                                                       ...   \n",
       "16.0                support engineer xzegojo                         800000.0   \n",
       "                                     xzegq                           900000.0   \n",
       "                                     ywr ntwyzgrgsxto                500000.0   \n",
       "                                     zvz                             400000.0   \n",
       "                    team lead        utqoxontzn ojontbo             1600000.0   \n",
       "\n",
       "                                                                          25%  \\\n",
       "years_of_experience job_position     company_hash                               \n",
       "0.0                 Others           Others                          282500.0   \n",
       "                                     agzn fgqp xz vzj gqsvzxkvnxgz  1600000.0   \n",
       "                                     atrgxnnt                       1000000.0   \n",
       "                                     atrr                           1000000.0   \n",
       "                                     atrr ntwyzgrgsxto               900000.0   \n",
       "...                                                                       ...   \n",
       "16.0                support engineer xzegojo                         800000.0   \n",
       "                                     xzegq                           900000.0   \n",
       "                                     ywr ntwyzgrgsxto                675000.0   \n",
       "                                     zvz                             400000.0   \n",
       "                    team lead        utqoxontzn ojontbo             1600000.0   \n",
       "\n",
       "                                                                          50%  \\\n",
       "years_of_experience job_position     company_hash                               \n",
       "0.0                 Others           Others                          525000.0   \n",
       "                                     agzn fgqp xz vzj gqsvzxkvnxgz  1600000.0   \n",
       "                                     atrgxnnt                       1000000.0   \n",
       "                                     atrr                           1000000.0   \n",
       "                                     atrr ntwyzgrgsxto              1000000.0   \n",
       "...                                                                       ...   \n",
       "16.0                support engineer xzegojo                         800000.0   \n",
       "                                     xzegq                           900000.0   \n",
       "                                     ywr ntwyzgrgsxto                850000.0   \n",
       "                                     zvz                             400000.0   \n",
       "                    team lead        utqoxontzn ojontbo             1600000.0   \n",
       "\n",
       "                                                                           75%  \\\n",
       "years_of_experience job_position     company_hash                                \n",
       "0.0                 Others           Others                         1154999.75   \n",
       "                                     agzn fgqp xz vzj gqsvzxkvnxgz  1600000.00   \n",
       "                                     atrgxnnt                       1000000.00   \n",
       "                                     atrr                           1000000.00   \n",
       "                                     atrr ntwyzgrgsxto              1100000.00   \n",
       "...                                                                        ...   \n",
       "16.0                support engineer xzegojo                         800000.00   \n",
       "                                     xzegq                           900000.00   \n",
       "                                     ywr ntwyzgrgsxto               1025000.00   \n",
       "                                     zvz                             400000.00   \n",
       "                    team lead        utqoxontzn ojontbo             1600000.00   \n",
       "\n",
       "                                                                          max  \n",
       "years_of_experience job_position     company_hash                              \n",
       "0.0                 Others           Others                         3000000.0  \n",
       "                                     agzn fgqp xz vzj gqsvzxkvnxgz  1600000.0  \n",
       "                                     atrgxnnt                       1000000.0  \n",
       "                                     atrr                           1000000.0  \n",
       "                                     atrr ntwyzgrgsxto              1200000.0  \n",
       "...                                                                       ...  \n",
       "16.0                support engineer xzegojo                         800000.0  \n",
       "                                     xzegq                           900000.0  \n",
       "                                     ywr ntwyzgrgsxto               1200000.0  \n",
       "                                     zvz                             400000.0  \n",
       "                    team lead        utqoxontzn ojontbo             1600000.0  \n",
       "\n",
       "[56097 rows x 8 columns]"
      ]
     },
     "execution_count": 390,
     "metadata": {},
     "output_type": "execute_result"
    }
   ],
   "source": [
    "grp_cjy"
   ]
  },
  {
   "cell_type": "code",
   "execution_count": 391,
   "id": "72ecf3c9",
   "metadata": {},
   "outputs": [
    {
     "data": {
      "text/plain": [
       "pandas.core.frame.DataFrame"
      ]
     },
     "execution_count": 391,
     "metadata": {},
     "output_type": "execute_result"
    }
   ],
   "source": [
    "#Describe returns a dataframe \n",
    "type(grp_cjy)"
   ]
  },
  {
   "cell_type": "code",
   "execution_count": 392,
   "id": "8da297cb",
   "metadata": {},
   "outputs": [],
   "source": [
    "df_cjy=df.merge(grp_cjy, on=['years_of_experience', 'job_position','company_hash'], how = 'left')"
   ]
  },
  {
   "cell_type": "code",
   "execution_count": 393,
   "id": "3ed81b01",
   "metadata": {},
   "outputs": [
    {
     "data": {
      "text/html": [
       "<div>\n",
       "<style scoped>\n",
       "    .dataframe tbody tr th:only-of-type {\n",
       "        vertical-align: middle;\n",
       "    }\n",
       "\n",
       "    .dataframe tbody tr th {\n",
       "        vertical-align: top;\n",
       "    }\n",
       "\n",
       "    .dataframe thead th {\n",
       "        text-align: right;\n",
       "    }\n",
       "</style>\n",
       "<table border=\"1\" class=\"dataframe\">\n",
       "  <thead>\n",
       "    <tr style=\"text-align: right;\">\n",
       "      <th></th>\n",
       "      <th>company_hash</th>\n",
       "      <th>orgyear</th>\n",
       "      <th>ctc</th>\n",
       "      <th>job_position</th>\n",
       "      <th>ctc_updated_year</th>\n",
       "      <th>years_of_experience</th>\n",
       "      <th>count</th>\n",
       "      <th>mean</th>\n",
       "      <th>std</th>\n",
       "      <th>min</th>\n",
       "      <th>25%</th>\n",
       "      <th>50%</th>\n",
       "      <th>75%</th>\n",
       "      <th>max</th>\n",
       "    </tr>\n",
       "  </thead>\n",
       "  <tbody>\n",
       "    <tr>\n",
       "      <th>0</th>\n",
       "      <td>atrgxnnt xzaxv</td>\n",
       "      <td>2016.0</td>\n",
       "      <td>1100000</td>\n",
       "      <td>other</td>\n",
       "      <td>2020.0</td>\n",
       "      <td>6.0</td>\n",
       "      <td>1.0</td>\n",
       "      <td>1.100000e+06</td>\n",
       "      <td>NaN</td>\n",
       "      <td>1100000.0</td>\n",
       "      <td>1100000.0</td>\n",
       "      <td>1100000.0</td>\n",
       "      <td>1100000.0</td>\n",
       "      <td>1100000.0</td>\n",
       "    </tr>\n",
       "    <tr>\n",
       "      <th>1</th>\n",
       "      <td>qtrxvzwt xzegwgbb rxbxnta</td>\n",
       "      <td>2018.0</td>\n",
       "      <td>449999</td>\n",
       "      <td>fullstack engineer</td>\n",
       "      <td>2019.0</td>\n",
       "      <td>4.0</td>\n",
       "      <td>7.0</td>\n",
       "      <td>7.742856e+05</td>\n",
       "      <td>250922.324350</td>\n",
       "      <td>449999.0</td>\n",
       "      <td>610000.0</td>\n",
       "      <td>750000.0</td>\n",
       "      <td>900000.0</td>\n",
       "      <td>1200000.0</td>\n",
       "    </tr>\n",
       "    <tr>\n",
       "      <th>2</th>\n",
       "      <td>Others</td>\n",
       "      <td>2015.0</td>\n",
       "      <td>2000000</td>\n",
       "      <td>backend engineer</td>\n",
       "      <td>2020.0</td>\n",
       "      <td>7.0</td>\n",
       "      <td>456.0</td>\n",
       "      <td>9.609559e+05</td>\n",
       "      <td>776546.830662</td>\n",
       "      <td>1000.0</td>\n",
       "      <td>307500.0</td>\n",
       "      <td>800000.0</td>\n",
       "      <td>1435000.0</td>\n",
       "      <td>3200000.0</td>\n",
       "    </tr>\n",
       "    <tr>\n",
       "      <th>3</th>\n",
       "      <td>ngpgutaxv</td>\n",
       "      <td>2017.0</td>\n",
       "      <td>700000</td>\n",
       "      <td>backend engineer</td>\n",
       "      <td>2019.0</td>\n",
       "      <td>5.0</td>\n",
       "      <td>7.0</td>\n",
       "      <td>1.158571e+06</td>\n",
       "      <td>404780.951933</td>\n",
       "      <td>700000.0</td>\n",
       "      <td>825000.0</td>\n",
       "      <td>1200000.0</td>\n",
       "      <td>1405000.0</td>\n",
       "      <td>1750000.0</td>\n",
       "    </tr>\n",
       "    <tr>\n",
       "      <th>4</th>\n",
       "      <td>qxen sqghu</td>\n",
       "      <td>2017.0</td>\n",
       "      <td>1400000</td>\n",
       "      <td>fullstack engineer</td>\n",
       "      <td>2019.0</td>\n",
       "      <td>5.0</td>\n",
       "      <td>1.0</td>\n",
       "      <td>1.400000e+06</td>\n",
       "      <td>NaN</td>\n",
       "      <td>1400000.0</td>\n",
       "      <td>1400000.0</td>\n",
       "      <td>1400000.0</td>\n",
       "      <td>1400000.0</td>\n",
       "      <td>1400000.0</td>\n",
       "    </tr>\n",
       "  </tbody>\n",
       "</table>\n",
       "</div>"
      ],
      "text/plain": [
       "                company_hash  orgyear      ctc        job_position  \\\n",
       "0             atrgxnnt xzaxv   2016.0  1100000               other   \n",
       "1  qtrxvzwt xzegwgbb rxbxnta   2018.0   449999  fullstack engineer   \n",
       "2                     Others   2015.0  2000000    backend engineer   \n",
       "3                  ngpgutaxv   2017.0   700000    backend engineer   \n",
       "4                 qxen sqghu   2017.0  1400000  fullstack engineer   \n",
       "\n",
       "   ctc_updated_year  years_of_experience  count          mean            std  \\\n",
       "0            2020.0                  6.0    1.0  1.100000e+06            NaN   \n",
       "1            2019.0                  4.0    7.0  7.742856e+05  250922.324350   \n",
       "2            2020.0                  7.0  456.0  9.609559e+05  776546.830662   \n",
       "3            2019.0                  5.0    7.0  1.158571e+06  404780.951933   \n",
       "4            2019.0                  5.0    1.0  1.400000e+06            NaN   \n",
       "\n",
       "         min        25%        50%        75%        max  \n",
       "0  1100000.0  1100000.0  1100000.0  1100000.0  1100000.0  \n",
       "1   449999.0   610000.0   750000.0   900000.0  1200000.0  \n",
       "2     1000.0   307500.0   800000.0  1435000.0  3200000.0  \n",
       "3   700000.0   825000.0  1200000.0  1405000.0  1750000.0  \n",
       "4  1400000.0  1400000.0  1400000.0  1400000.0  1400000.0  "
      ]
     },
     "execution_count": 393,
     "metadata": {},
     "output_type": "execute_result"
    }
   ],
   "source": [
    "df_cjy.head()"
   ]
  },
  {
   "cell_type": "code",
   "execution_count": 394,
   "id": "8dbcde55",
   "metadata": {},
   "outputs": [
    {
     "data": {
      "text/html": [
       "<div>\n",
       "<style scoped>\n",
       "    .dataframe tbody tr th:only-of-type {\n",
       "        vertical-align: middle;\n",
       "    }\n",
       "\n",
       "    .dataframe tbody tr th {\n",
       "        vertical-align: top;\n",
       "    }\n",
       "\n",
       "    .dataframe thead th {\n",
       "        text-align: right;\n",
       "    }\n",
       "</style>\n",
       "<table border=\"1\" class=\"dataframe\">\n",
       "  <thead>\n",
       "    <tr style=\"text-align: right;\">\n",
       "      <th></th>\n",
       "      <th>company_hash</th>\n",
       "      <th>orgyear</th>\n",
       "      <th>ctc</th>\n",
       "      <th>job_position</th>\n",
       "      <th>ctc_updated_year</th>\n",
       "      <th>years_of_experience</th>\n",
       "      <th>count</th>\n",
       "      <th>mean</th>\n",
       "      <th>std</th>\n",
       "      <th>min</th>\n",
       "      <th>25%</th>\n",
       "      <th>50%</th>\n",
       "      <th>75%</th>\n",
       "      <th>max</th>\n",
       "    </tr>\n",
       "  </thead>\n",
       "  <tbody>\n",
       "    <tr>\n",
       "      <th>896</th>\n",
       "      <td>Others</td>\n",
       "      <td>2022.0</td>\n",
       "      <td>120000</td>\n",
       "      <td>Others</td>\n",
       "      <td>2022.0</td>\n",
       "      <td>0.0</td>\n",
       "      <td>54.0</td>\n",
       "      <td>7.421518e+05</td>\n",
       "      <td>651538.866897</td>\n",
       "      <td>200.0</td>\n",
       "      <td>282500.0</td>\n",
       "      <td>525000.0</td>\n",
       "      <td>1154999.75</td>\n",
       "      <td>3000000.0</td>\n",
       "    </tr>\n",
       "    <tr>\n",
       "      <th>2600</th>\n",
       "      <td>Others</td>\n",
       "      <td>2022.0</td>\n",
       "      <td>430000</td>\n",
       "      <td>Others</td>\n",
       "      <td>2022.0</td>\n",
       "      <td>0.0</td>\n",
       "      <td>54.0</td>\n",
       "      <td>7.421518e+05</td>\n",
       "      <td>651538.866897</td>\n",
       "      <td>200.0</td>\n",
       "      <td>282500.0</td>\n",
       "      <td>525000.0</td>\n",
       "      <td>1154999.75</td>\n",
       "      <td>3000000.0</td>\n",
       "    </tr>\n",
       "    <tr>\n",
       "      <th>7701</th>\n",
       "      <td>Others</td>\n",
       "      <td>2022.0</td>\n",
       "      <td>570000</td>\n",
       "      <td>Others</td>\n",
       "      <td>2022.0</td>\n",
       "      <td>0.0</td>\n",
       "      <td>54.0</td>\n",
       "      <td>7.421518e+05</td>\n",
       "      <td>651538.866897</td>\n",
       "      <td>200.0</td>\n",
       "      <td>282500.0</td>\n",
       "      <td>525000.0</td>\n",
       "      <td>1154999.75</td>\n",
       "      <td>3000000.0</td>\n",
       "    </tr>\n",
       "    <tr>\n",
       "      <th>7880</th>\n",
       "      <td>Others</td>\n",
       "      <td>2022.0</td>\n",
       "      <td>550000</td>\n",
       "      <td>Others</td>\n",
       "      <td>2022.0</td>\n",
       "      <td>0.0</td>\n",
       "      <td>54.0</td>\n",
       "      <td>7.421518e+05</td>\n",
       "      <td>651538.866897</td>\n",
       "      <td>200.0</td>\n",
       "      <td>282500.0</td>\n",
       "      <td>525000.0</td>\n",
       "      <td>1154999.75</td>\n",
       "      <td>3000000.0</td>\n",
       "    </tr>\n",
       "    <tr>\n",
       "      <th>8804</th>\n",
       "      <td>Others</td>\n",
       "      <td>2022.0</td>\n",
       "      <td>680000</td>\n",
       "      <td>Others</td>\n",
       "      <td>2022.0</td>\n",
       "      <td>0.0</td>\n",
       "      <td>54.0</td>\n",
       "      <td>7.421518e+05</td>\n",
       "      <td>651538.866897</td>\n",
       "      <td>200.0</td>\n",
       "      <td>282500.0</td>\n",
       "      <td>525000.0</td>\n",
       "      <td>1154999.75</td>\n",
       "      <td>3000000.0</td>\n",
       "    </tr>\n",
       "    <tr>\n",
       "      <th>...</th>\n",
       "      <td>...</td>\n",
       "      <td>...</td>\n",
       "      <td>...</td>\n",
       "      <td>...</td>\n",
       "      <td>...</td>\n",
       "      <td>...</td>\n",
       "      <td>...</td>\n",
       "      <td>...</td>\n",
       "      <td>...</td>\n",
       "      <td>...</td>\n",
       "      <td>...</td>\n",
       "      <td>...</td>\n",
       "      <td>...</td>\n",
       "      <td>...</td>\n",
       "    </tr>\n",
       "    <tr>\n",
       "      <th>73964</th>\n",
       "      <td>xzegq</td>\n",
       "      <td>2006.0</td>\n",
       "      <td>900000</td>\n",
       "      <td>support engineer</td>\n",
       "      <td>2021.0</td>\n",
       "      <td>16.0</td>\n",
       "      <td>1.0</td>\n",
       "      <td>9.000000e+05</td>\n",
       "      <td>NaN</td>\n",
       "      <td>900000.0</td>\n",
       "      <td>900000.0</td>\n",
       "      <td>900000.0</td>\n",
       "      <td>900000.00</td>\n",
       "      <td>900000.0</td>\n",
       "    </tr>\n",
       "    <tr>\n",
       "      <th>11374</th>\n",
       "      <td>ywr ntwyzgrgsxto</td>\n",
       "      <td>2006.0</td>\n",
       "      <td>500000</td>\n",
       "      <td>support engineer</td>\n",
       "      <td>2021.0</td>\n",
       "      <td>16.0</td>\n",
       "      <td>2.0</td>\n",
       "      <td>8.500000e+05</td>\n",
       "      <td>494974.746831</td>\n",
       "      <td>500000.0</td>\n",
       "      <td>675000.0</td>\n",
       "      <td>850000.0</td>\n",
       "      <td>1025000.00</td>\n",
       "      <td>1200000.0</td>\n",
       "    </tr>\n",
       "    <tr>\n",
       "      <th>37281</th>\n",
       "      <td>ywr ntwyzgrgsxto</td>\n",
       "      <td>2006.0</td>\n",
       "      <td>1200000</td>\n",
       "      <td>support engineer</td>\n",
       "      <td>2021.0</td>\n",
       "      <td>16.0</td>\n",
       "      <td>2.0</td>\n",
       "      <td>8.500000e+05</td>\n",
       "      <td>494974.746831</td>\n",
       "      <td>500000.0</td>\n",
       "      <td>675000.0</td>\n",
       "      <td>850000.0</td>\n",
       "      <td>1025000.00</td>\n",
       "      <td>1200000.0</td>\n",
       "    </tr>\n",
       "    <tr>\n",
       "      <th>14290</th>\n",
       "      <td>zvz</td>\n",
       "      <td>2006.0</td>\n",
       "      <td>400000</td>\n",
       "      <td>support engineer</td>\n",
       "      <td>2021.0</td>\n",
       "      <td>16.0</td>\n",
       "      <td>1.0</td>\n",
       "      <td>4.000000e+05</td>\n",
       "      <td>NaN</td>\n",
       "      <td>400000.0</td>\n",
       "      <td>400000.0</td>\n",
       "      <td>400000.0</td>\n",
       "      <td>400000.00</td>\n",
       "      <td>400000.0</td>\n",
       "    </tr>\n",
       "    <tr>\n",
       "      <th>59896</th>\n",
       "      <td>utqoxontzn ojontbo</td>\n",
       "      <td>2006.0</td>\n",
       "      <td>1600000</td>\n",
       "      <td>team lead</td>\n",
       "      <td>2021.0</td>\n",
       "      <td>16.0</td>\n",
       "      <td>1.0</td>\n",
       "      <td>1.600000e+06</td>\n",
       "      <td>NaN</td>\n",
       "      <td>1600000.0</td>\n",
       "      <td>1600000.0</td>\n",
       "      <td>1600000.0</td>\n",
       "      <td>1600000.00</td>\n",
       "      <td>1600000.0</td>\n",
       "    </tr>\n",
       "  </tbody>\n",
       "</table>\n",
       "<p>147140 rows × 14 columns</p>\n",
       "</div>"
      ],
      "text/plain": [
       "             company_hash  orgyear      ctc      job_position  \\\n",
       "896                Others   2022.0   120000            Others   \n",
       "2600               Others   2022.0   430000            Others   \n",
       "7701               Others   2022.0   570000            Others   \n",
       "7880               Others   2022.0   550000            Others   \n",
       "8804               Others   2022.0   680000            Others   \n",
       "...                   ...      ...      ...               ...   \n",
       "73964               xzegq   2006.0   900000  support engineer   \n",
       "11374    ywr ntwyzgrgsxto   2006.0   500000  support engineer   \n",
       "37281    ywr ntwyzgrgsxto   2006.0  1200000  support engineer   \n",
       "14290                 zvz   2006.0   400000  support engineer   \n",
       "59896  utqoxontzn ojontbo   2006.0  1600000         team lead   \n",
       "\n",
       "       ctc_updated_year  years_of_experience  count          mean  \\\n",
       "896              2022.0                  0.0   54.0  7.421518e+05   \n",
       "2600             2022.0                  0.0   54.0  7.421518e+05   \n",
       "7701             2022.0                  0.0   54.0  7.421518e+05   \n",
       "7880             2022.0                  0.0   54.0  7.421518e+05   \n",
       "8804             2022.0                  0.0   54.0  7.421518e+05   \n",
       "...                 ...                  ...    ...           ...   \n",
       "73964            2021.0                 16.0    1.0  9.000000e+05   \n",
       "11374            2021.0                 16.0    2.0  8.500000e+05   \n",
       "37281            2021.0                 16.0    2.0  8.500000e+05   \n",
       "14290            2021.0                 16.0    1.0  4.000000e+05   \n",
       "59896            2021.0                 16.0    1.0  1.600000e+06   \n",
       "\n",
       "                 std        min        25%        50%         75%        max  \n",
       "896    651538.866897      200.0   282500.0   525000.0  1154999.75  3000000.0  \n",
       "2600   651538.866897      200.0   282500.0   525000.0  1154999.75  3000000.0  \n",
       "7701   651538.866897      200.0   282500.0   525000.0  1154999.75  3000000.0  \n",
       "7880   651538.866897      200.0   282500.0   525000.0  1154999.75  3000000.0  \n",
       "8804   651538.866897      200.0   282500.0   525000.0  1154999.75  3000000.0  \n",
       "...              ...        ...        ...        ...         ...        ...  \n",
       "73964            NaN   900000.0   900000.0   900000.0   900000.00   900000.0  \n",
       "11374  494974.746831   500000.0   675000.0   850000.0  1025000.00  1200000.0  \n",
       "37281  494974.746831   500000.0   675000.0   850000.0  1025000.00  1200000.0  \n",
       "14290            NaN   400000.0   400000.0   400000.0   400000.00   400000.0  \n",
       "59896            NaN  1600000.0  1600000.0  1600000.0  1600000.00  1600000.0  \n",
       "\n",
       "[147140 rows x 14 columns]"
      ]
     },
     "execution_count": 394,
     "metadata": {},
     "output_type": "execute_result"
    }
   ],
   "source": [
    "df_cjy.sort_values(['years_of_experience','job_position','company_hash'])"
   ]
  },
  {
   "cell_type": "code",
   "execution_count": 395,
   "id": "551b134c",
   "metadata": {},
   "outputs": [
    {
     "data": {
      "text/plain": [
       "(146053, 14)"
      ]
     },
     "execution_count": 395,
     "metadata": {},
     "output_type": "execute_result"
    }
   ],
   "source": [
    "df_cjy.drop_duplicates(inplace=True)\n",
    "df_cjy.shape\n",
    "#no change till now"
   ]
  },
  {
   "cell_type": "code",
   "execution_count": 396,
   "id": "a63e4852",
   "metadata": {},
   "outputs": [],
   "source": [
    "#Need to add designation based on how much each employee earns\n",
    "\n",
    "def condition_designation(a,b_50,b_75):\n",
    "    if a<b_50:\n",
    "        return 3\n",
    "    elif a>=b_50 and a<=b_75:\n",
    "        return 2\n",
    "    elif a>=b_75:\n",
    "        return 1"
   ]
  },
  {
   "cell_type": "code",
   "execution_count": 397,
   "id": "1768c004",
   "metadata": {},
   "outputs": [],
   "source": [
    "df_cjy['designation'] =df_cjy.apply(lambda x: condition_designation(x['ctc'],x['50%'],x['75%']), axis=1)"
   ]
  },
  {
   "cell_type": "code",
   "execution_count": 398,
   "id": "2ca01c73",
   "metadata": {},
   "outputs": [
    {
     "data": {
      "text/html": [
       "<div>\n",
       "<style scoped>\n",
       "    .dataframe tbody tr th:only-of-type {\n",
       "        vertical-align: middle;\n",
       "    }\n",
       "\n",
       "    .dataframe tbody tr th {\n",
       "        vertical-align: top;\n",
       "    }\n",
       "\n",
       "    .dataframe thead th {\n",
       "        text-align: right;\n",
       "    }\n",
       "</style>\n",
       "<table border=\"1\" class=\"dataframe\">\n",
       "  <thead>\n",
       "    <tr style=\"text-align: right;\">\n",
       "      <th></th>\n",
       "      <th>company_hash</th>\n",
       "      <th>orgyear</th>\n",
       "      <th>ctc</th>\n",
       "      <th>job_position</th>\n",
       "      <th>ctc_updated_year</th>\n",
       "      <th>years_of_experience</th>\n",
       "      <th>count</th>\n",
       "      <th>mean</th>\n",
       "      <th>std</th>\n",
       "      <th>min</th>\n",
       "      <th>25%</th>\n",
       "      <th>50%</th>\n",
       "      <th>75%</th>\n",
       "      <th>max</th>\n",
       "      <th>designation</th>\n",
       "    </tr>\n",
       "  </thead>\n",
       "  <tbody>\n",
       "    <tr>\n",
       "      <th>0</th>\n",
       "      <td>atrgxnnt xzaxv</td>\n",
       "      <td>2016.0</td>\n",
       "      <td>1100000</td>\n",
       "      <td>other</td>\n",
       "      <td>2020.0</td>\n",
       "      <td>6.0</td>\n",
       "      <td>1.0</td>\n",
       "      <td>1.100000e+06</td>\n",
       "      <td>NaN</td>\n",
       "      <td>1100000.0</td>\n",
       "      <td>1100000.0</td>\n",
       "      <td>1100000.0</td>\n",
       "      <td>1100000.0</td>\n",
       "      <td>1100000.0</td>\n",
       "      <td>2</td>\n",
       "    </tr>\n",
       "    <tr>\n",
       "      <th>1</th>\n",
       "      <td>qtrxvzwt xzegwgbb rxbxnta</td>\n",
       "      <td>2018.0</td>\n",
       "      <td>449999</td>\n",
       "      <td>fullstack engineer</td>\n",
       "      <td>2019.0</td>\n",
       "      <td>4.0</td>\n",
       "      <td>7.0</td>\n",
       "      <td>7.742856e+05</td>\n",
       "      <td>250922.324350</td>\n",
       "      <td>449999.0</td>\n",
       "      <td>610000.0</td>\n",
       "      <td>750000.0</td>\n",
       "      <td>900000.0</td>\n",
       "      <td>1200000.0</td>\n",
       "      <td>3</td>\n",
       "    </tr>\n",
       "    <tr>\n",
       "      <th>2</th>\n",
       "      <td>Others</td>\n",
       "      <td>2015.0</td>\n",
       "      <td>2000000</td>\n",
       "      <td>backend engineer</td>\n",
       "      <td>2020.0</td>\n",
       "      <td>7.0</td>\n",
       "      <td>456.0</td>\n",
       "      <td>9.609559e+05</td>\n",
       "      <td>776546.830662</td>\n",
       "      <td>1000.0</td>\n",
       "      <td>307500.0</td>\n",
       "      <td>800000.0</td>\n",
       "      <td>1435000.0</td>\n",
       "      <td>3200000.0</td>\n",
       "      <td>1</td>\n",
       "    </tr>\n",
       "    <tr>\n",
       "      <th>3</th>\n",
       "      <td>ngpgutaxv</td>\n",
       "      <td>2017.0</td>\n",
       "      <td>700000</td>\n",
       "      <td>backend engineer</td>\n",
       "      <td>2019.0</td>\n",
       "      <td>5.0</td>\n",
       "      <td>7.0</td>\n",
       "      <td>1.158571e+06</td>\n",
       "      <td>404780.951933</td>\n",
       "      <td>700000.0</td>\n",
       "      <td>825000.0</td>\n",
       "      <td>1200000.0</td>\n",
       "      <td>1405000.0</td>\n",
       "      <td>1750000.0</td>\n",
       "      <td>3</td>\n",
       "    </tr>\n",
       "    <tr>\n",
       "      <th>4</th>\n",
       "      <td>qxen sqghu</td>\n",
       "      <td>2017.0</td>\n",
       "      <td>1400000</td>\n",
       "      <td>fullstack engineer</td>\n",
       "      <td>2019.0</td>\n",
       "      <td>5.0</td>\n",
       "      <td>1.0</td>\n",
       "      <td>1.400000e+06</td>\n",
       "      <td>NaN</td>\n",
       "      <td>1400000.0</td>\n",
       "      <td>1400000.0</td>\n",
       "      <td>1400000.0</td>\n",
       "      <td>1400000.0</td>\n",
       "      <td>1400000.0</td>\n",
       "      <td>2</td>\n",
       "    </tr>\n",
       "  </tbody>\n",
       "</table>\n",
       "</div>"
      ],
      "text/plain": [
       "                company_hash  orgyear      ctc        job_position  \\\n",
       "0             atrgxnnt xzaxv   2016.0  1100000               other   \n",
       "1  qtrxvzwt xzegwgbb rxbxnta   2018.0   449999  fullstack engineer   \n",
       "2                     Others   2015.0  2000000    backend engineer   \n",
       "3                  ngpgutaxv   2017.0   700000    backend engineer   \n",
       "4                 qxen sqghu   2017.0  1400000  fullstack engineer   \n",
       "\n",
       "   ctc_updated_year  years_of_experience  count          mean            std  \\\n",
       "0            2020.0                  6.0    1.0  1.100000e+06            NaN   \n",
       "1            2019.0                  4.0    7.0  7.742856e+05  250922.324350   \n",
       "2            2020.0                  7.0  456.0  9.609559e+05  776546.830662   \n",
       "3            2019.0                  5.0    7.0  1.158571e+06  404780.951933   \n",
       "4            2019.0                  5.0    1.0  1.400000e+06            NaN   \n",
       "\n",
       "         min        25%        50%        75%        max  designation  \n",
       "0  1100000.0  1100000.0  1100000.0  1100000.0  1100000.0            2  \n",
       "1   449999.0   610000.0   750000.0   900000.0  1200000.0            3  \n",
       "2     1000.0   307500.0   800000.0  1435000.0  3200000.0            1  \n",
       "3   700000.0   825000.0  1200000.0  1405000.0  1750000.0            3  \n",
       "4  1400000.0  1400000.0  1400000.0  1400000.0  1400000.0            2  "
      ]
     },
     "execution_count": 398,
     "metadata": {},
     "output_type": "execute_result"
    }
   ],
   "source": [
    "df_cjy.head()"
   ]
  },
  {
   "cell_type": "code",
   "execution_count": 399,
   "id": "316be612",
   "metadata": {},
   "outputs": [
    {
     "data": {
      "text/plain": [
       "2    44.129186\n",
       "3    34.167734\n",
       "1    21.703080\n",
       "Name: designation, dtype: float64"
      ]
     },
     "execution_count": 399,
     "metadata": {},
     "output_type": "execute_result"
    }
   ],
   "source": [
    "df_cjy['designation'].value_counts(normalize=True)*100"
   ]
  },
  {
   "cell_type": "code",
   "execution_count": 400,
   "id": "b9b407af",
   "metadata": {},
   "outputs": [],
   "source": [
    "# Manual Clustering based on company and job position"
   ]
  },
  {
   "cell_type": "code",
   "execution_count": 401,
   "id": "1e259bb7",
   "metadata": {},
   "outputs": [],
   "source": [
    "grouped_c_j=df.groupby(['company_hash', 'job_position'])['ctc'].describe()"
   ]
  },
  {
   "cell_type": "code",
   "execution_count": 402,
   "id": "7bbaff4a",
   "metadata": {},
   "outputs": [
    {
     "data": {
      "text/html": [
       "<div>\n",
       "<style scoped>\n",
       "    .dataframe tbody tr th:only-of-type {\n",
       "        vertical-align: middle;\n",
       "    }\n",
       "\n",
       "    .dataframe tbody tr th {\n",
       "        vertical-align: top;\n",
       "    }\n",
       "\n",
       "    .dataframe thead th {\n",
       "        text-align: right;\n",
       "    }\n",
       "</style>\n",
       "<table border=\"1\" class=\"dataframe\">\n",
       "  <thead>\n",
       "    <tr style=\"text-align: right;\">\n",
       "      <th></th>\n",
       "      <th></th>\n",
       "      <th>count</th>\n",
       "      <th>mean</th>\n",
       "      <th>std</th>\n",
       "      <th>min</th>\n",
       "      <th>25%</th>\n",
       "      <th>50%</th>\n",
       "      <th>75%</th>\n",
       "      <th>max</th>\n",
       "    </tr>\n",
       "    <tr>\n",
       "      <th>company_hash</th>\n",
       "      <th>job_position</th>\n",
       "      <th></th>\n",
       "      <th></th>\n",
       "      <th></th>\n",
       "      <th></th>\n",
       "      <th></th>\n",
       "      <th></th>\n",
       "      <th></th>\n",
       "      <th></th>\n",
       "    </tr>\n",
       "  </thead>\n",
       "  <tbody>\n",
       "    <tr>\n",
       "      <th rowspan=\"5\" valign=\"top\">Others</th>\n",
       "      <th>Others</th>\n",
       "      <td>3296.0</td>\n",
       "      <td>1.021510e+06</td>\n",
       "      <td>832031.028338</td>\n",
       "      <td>15.0</td>\n",
       "      <td>360000.0</td>\n",
       "      <td>800000.0</td>\n",
       "      <td>1500000.0</td>\n",
       "      <td>3327000.0</td>\n",
       "    </tr>\n",
       "    <tr>\n",
       "      <th>a group chat application</th>\n",
       "      <td>1.0</td>\n",
       "      <td>5.000000e+05</td>\n",
       "      <td>NaN</td>\n",
       "      <td>500000.0</td>\n",
       "      <td>500000.0</td>\n",
       "      <td>500000.0</td>\n",
       "      <td>500000.0</td>\n",
       "      <td>500000.0</td>\n",
       "    </tr>\n",
       "    <tr>\n",
       "      <th>abap developer</th>\n",
       "      <td>1.0</td>\n",
       "      <td>5.000000e+05</td>\n",
       "      <td>NaN</td>\n",
       "      <td>500000.0</td>\n",
       "      <td>500000.0</td>\n",
       "      <td>500000.0</td>\n",
       "      <td>500000.0</td>\n",
       "      <td>500000.0</td>\n",
       "    </tr>\n",
       "    <tr>\n",
       "      <th>administrative clerk</th>\n",
       "      <td>1.0</td>\n",
       "      <td>5.000000e+05</td>\n",
       "      <td>NaN</td>\n",
       "      <td>500000.0</td>\n",
       "      <td>500000.0</td>\n",
       "      <td>500000.0</td>\n",
       "      <td>500000.0</td>\n",
       "      <td>500000.0</td>\n",
       "    </tr>\n",
       "    <tr>\n",
       "      <th>administrator</th>\n",
       "      <td>1.0</td>\n",
       "      <td>3.800000e+05</td>\n",
       "      <td>NaN</td>\n",
       "      <td>380000.0</td>\n",
       "      <td>380000.0</td>\n",
       "      <td>380000.0</td>\n",
       "      <td>380000.0</td>\n",
       "      <td>380000.0</td>\n",
       "    </tr>\n",
       "    <tr>\n",
       "      <th>...</th>\n",
       "      <th>...</th>\n",
       "      <td>...</td>\n",
       "      <td>...</td>\n",
       "      <td>...</td>\n",
       "      <td>...</td>\n",
       "      <td>...</td>\n",
       "      <td>...</td>\n",
       "      <td>...</td>\n",
       "      <td>...</td>\n",
       "    </tr>\n",
       "    <tr>\n",
       "      <th rowspan=\"5\" valign=\"top\">zxztrtvuo</th>\n",
       "      <th>fullstack engineer</th>\n",
       "      <td>7.0</td>\n",
       "      <td>8.725714e+05</td>\n",
       "      <td>362166.562575</td>\n",
       "      <td>500000.0</td>\n",
       "      <td>637500.0</td>\n",
       "      <td>710000.0</td>\n",
       "      <td>1061500.0</td>\n",
       "      <td>1500000.0</td>\n",
       "    </tr>\n",
       "    <tr>\n",
       "      <th>ios engineer</th>\n",
       "      <td>1.0</td>\n",
       "      <td>1.200000e+06</td>\n",
       "      <td>NaN</td>\n",
       "      <td>1200000.0</td>\n",
       "      <td>1200000.0</td>\n",
       "      <td>1200000.0</td>\n",
       "      <td>1200000.0</td>\n",
       "      <td>1200000.0</td>\n",
       "    </tr>\n",
       "    <tr>\n",
       "      <th>member of technical staff at nineleaps</th>\n",
       "      <td>1.0</td>\n",
       "      <td>1.200000e+06</td>\n",
       "      <td>NaN</td>\n",
       "      <td>1200000.0</td>\n",
       "      <td>1200000.0</td>\n",
       "      <td>1200000.0</td>\n",
       "      <td>1200000.0</td>\n",
       "      <td>1200000.0</td>\n",
       "    </tr>\n",
       "    <tr>\n",
       "      <th>other</th>\n",
       "      <td>2.0</td>\n",
       "      <td>4.500000e+05</td>\n",
       "      <td>0.000000</td>\n",
       "      <td>450000.0</td>\n",
       "      <td>450000.0</td>\n",
       "      <td>450000.0</td>\n",
       "      <td>450000.0</td>\n",
       "      <td>450000.0</td>\n",
       "    </tr>\n",
       "    <tr>\n",
       "      <th>software developer intern</th>\n",
       "      <td>1.0</td>\n",
       "      <td>1.200000e+06</td>\n",
       "      <td>NaN</td>\n",
       "      <td>1200000.0</td>\n",
       "      <td>1200000.0</td>\n",
       "      <td>1200000.0</td>\n",
       "      <td>1200000.0</td>\n",
       "      <td>1200000.0</td>\n",
       "    </tr>\n",
       "  </tbody>\n",
       "</table>\n",
       "<p>21596 rows × 8 columns</p>\n",
       "</div>"
      ],
      "text/plain": [
       "                                                      count          mean  \\\n",
       "company_hash job_position                                                   \n",
       "Others       Others                                  3296.0  1.021510e+06   \n",
       "             a group chat application                   1.0  5.000000e+05   \n",
       "             abap developer                             1.0  5.000000e+05   \n",
       "             administrative clerk                       1.0  5.000000e+05   \n",
       "             administrator                              1.0  3.800000e+05   \n",
       "...                                                     ...           ...   \n",
       "zxztrtvuo    fullstack engineer                         7.0  8.725714e+05   \n",
       "             ios engineer                               1.0  1.200000e+06   \n",
       "             member of technical staff at nineleaps     1.0  1.200000e+06   \n",
       "             other                                      2.0  4.500000e+05   \n",
       "             software developer intern                  1.0  1.200000e+06   \n",
       "\n",
       "                                                               std        min  \\\n",
       "company_hash job_position                                                       \n",
       "Others       Others                                  832031.028338       15.0   \n",
       "             a group chat application                          NaN   500000.0   \n",
       "             abap developer                                    NaN   500000.0   \n",
       "             administrative clerk                              NaN   500000.0   \n",
       "             administrator                                     NaN   380000.0   \n",
       "...                                                            ...        ...   \n",
       "zxztrtvuo    fullstack engineer                      362166.562575   500000.0   \n",
       "             ios engineer                                      NaN  1200000.0   \n",
       "             member of technical staff at nineleaps            NaN  1200000.0   \n",
       "             other                                        0.000000   450000.0   \n",
       "             software developer intern                         NaN  1200000.0   \n",
       "\n",
       "                                                           25%        50%  \\\n",
       "company_hash job_position                                                   \n",
       "Others       Others                                   360000.0   800000.0   \n",
       "             a group chat application                 500000.0   500000.0   \n",
       "             abap developer                           500000.0   500000.0   \n",
       "             administrative clerk                     500000.0   500000.0   \n",
       "             administrator                            380000.0   380000.0   \n",
       "...                                                        ...        ...   \n",
       "zxztrtvuo    fullstack engineer                       637500.0   710000.0   \n",
       "             ios engineer                            1200000.0  1200000.0   \n",
       "             member of technical staff at nineleaps  1200000.0  1200000.0   \n",
       "             other                                    450000.0   450000.0   \n",
       "             software developer intern               1200000.0  1200000.0   \n",
       "\n",
       "                                                           75%        max  \n",
       "company_hash job_position                                                  \n",
       "Others       Others                                  1500000.0  3327000.0  \n",
       "             a group chat application                 500000.0   500000.0  \n",
       "             abap developer                           500000.0   500000.0  \n",
       "             administrative clerk                     500000.0   500000.0  \n",
       "             administrator                            380000.0   380000.0  \n",
       "...                                                        ...        ...  \n",
       "zxztrtvuo    fullstack engineer                      1061500.0  1500000.0  \n",
       "             ios engineer                            1200000.0  1200000.0  \n",
       "             member of technical staff at nineleaps  1200000.0  1200000.0  \n",
       "             other                                    450000.0   450000.0  \n",
       "             software developer intern               1200000.0  1200000.0  \n",
       "\n",
       "[21596 rows x 8 columns]"
      ]
     },
     "execution_count": 402,
     "metadata": {},
     "output_type": "execute_result"
    }
   ],
   "source": [
    "grouped_c_j"
   ]
  },
  {
   "cell_type": "code",
   "execution_count": 403,
   "id": "83226d16",
   "metadata": {},
   "outputs": [
    {
     "data": {
      "text/plain": [
       "(146053, 6)"
      ]
     },
     "execution_count": 403,
     "metadata": {},
     "output_type": "execute_result"
    }
   ],
   "source": [
    "df.drop_duplicates().shape"
   ]
  },
  {
   "cell_type": "code",
   "execution_count": 404,
   "id": "e5653508",
   "metadata": {},
   "outputs": [],
   "source": [
    "df_cj=df.merge(grouped_c_j, on=['company_hash', 'job_position'], how='left')"
   ]
  },
  {
   "cell_type": "code",
   "execution_count": 405,
   "id": "1018dff6",
   "metadata": {},
   "outputs": [
    {
     "data": {
      "text/html": [
       "<div>\n",
       "<style scoped>\n",
       "    .dataframe tbody tr th:only-of-type {\n",
       "        vertical-align: middle;\n",
       "    }\n",
       "\n",
       "    .dataframe tbody tr th {\n",
       "        vertical-align: top;\n",
       "    }\n",
       "\n",
       "    .dataframe thead th {\n",
       "        text-align: right;\n",
       "    }\n",
       "</style>\n",
       "<table border=\"1\" class=\"dataframe\">\n",
       "  <thead>\n",
       "    <tr style=\"text-align: right;\">\n",
       "      <th></th>\n",
       "      <th>company_hash</th>\n",
       "      <th>orgyear</th>\n",
       "      <th>ctc</th>\n",
       "      <th>job_position</th>\n",
       "      <th>ctc_updated_year</th>\n",
       "      <th>years_of_experience</th>\n",
       "      <th>count</th>\n",
       "      <th>mean</th>\n",
       "      <th>std</th>\n",
       "      <th>min</th>\n",
       "      <th>25%</th>\n",
       "      <th>50%</th>\n",
       "      <th>75%</th>\n",
       "      <th>max</th>\n",
       "    </tr>\n",
       "  </thead>\n",
       "  <tbody>\n",
       "    <tr>\n",
       "      <th>0</th>\n",
       "      <td>atrgxnnt xzaxv</td>\n",
       "      <td>2016.0</td>\n",
       "      <td>1100000</td>\n",
       "      <td>other</td>\n",
       "      <td>2020.0</td>\n",
       "      <td>6.0</td>\n",
       "      <td>2.0</td>\n",
       "      <td>1.085000e+06</td>\n",
       "      <td>2.121320e+04</td>\n",
       "      <td>1070000.0</td>\n",
       "      <td>1077500.0</td>\n",
       "      <td>1085000.0</td>\n",
       "      <td>1092500.0</td>\n",
       "      <td>1100000.0</td>\n",
       "    </tr>\n",
       "    <tr>\n",
       "      <th>1</th>\n",
       "      <td>qtrxvzwt xzegwgbb rxbxnta</td>\n",
       "      <td>2018.0</td>\n",
       "      <td>449999</td>\n",
       "      <td>fullstack engineer</td>\n",
       "      <td>2019.0</td>\n",
       "      <td>4.0</td>\n",
       "      <td>25.0</td>\n",
       "      <td>9.882000e+05</td>\n",
       "      <td>4.874998e+05</td>\n",
       "      <td>300000.0</td>\n",
       "      <td>600000.0</td>\n",
       "      <td>850000.0</td>\n",
       "      <td>1380000.0</td>\n",
       "      <td>2000000.0</td>\n",
       "    </tr>\n",
       "    <tr>\n",
       "      <th>2</th>\n",
       "      <td>Others</td>\n",
       "      <td>2015.0</td>\n",
       "      <td>2000000</td>\n",
       "      <td>backend engineer</td>\n",
       "      <td>2020.0</td>\n",
       "      <td>7.0</td>\n",
       "      <td>3927.0</td>\n",
       "      <td>9.958526e+05</td>\n",
       "      <td>8.105078e+05</td>\n",
       "      <td>1000.0</td>\n",
       "      <td>300000.0</td>\n",
       "      <td>819999.0</td>\n",
       "      <td>1510000.0</td>\n",
       "      <td>3300000.0</td>\n",
       "    </tr>\n",
       "    <tr>\n",
       "      <th>3</th>\n",
       "      <td>ngpgutaxv</td>\n",
       "      <td>2017.0</td>\n",
       "      <td>700000</td>\n",
       "      <td>backend engineer</td>\n",
       "      <td>2019.0</td>\n",
       "      <td>5.0</td>\n",
       "      <td>24.0</td>\n",
       "      <td>1.416667e+06</td>\n",
       "      <td>5.453413e+05</td>\n",
       "      <td>520000.0</td>\n",
       "      <td>1047500.0</td>\n",
       "      <td>1375000.0</td>\n",
       "      <td>1792500.0</td>\n",
       "      <td>2600000.0</td>\n",
       "    </tr>\n",
       "    <tr>\n",
       "      <th>4</th>\n",
       "      <td>qxen sqghu</td>\n",
       "      <td>2017.0</td>\n",
       "      <td>1400000</td>\n",
       "      <td>fullstack engineer</td>\n",
       "      <td>2019.0</td>\n",
       "      <td>5.0</td>\n",
       "      <td>3.0</td>\n",
       "      <td>8.466667e+05</td>\n",
       "      <td>4.801389e+05</td>\n",
       "      <td>540000.0</td>\n",
       "      <td>570000.0</td>\n",
       "      <td>600000.0</td>\n",
       "      <td>1000000.0</td>\n",
       "      <td>1400000.0</td>\n",
       "    </tr>\n",
       "    <tr>\n",
       "      <th>...</th>\n",
       "      <td>...</td>\n",
       "      <td>...</td>\n",
       "      <td>...</td>\n",
       "      <td>...</td>\n",
       "      <td>...</td>\n",
       "      <td>...</td>\n",
       "      <td>...</td>\n",
       "      <td>...</td>\n",
       "      <td>...</td>\n",
       "      <td>...</td>\n",
       "      <td>...</td>\n",
       "      <td>...</td>\n",
       "      <td>...</td>\n",
       "      <td>...</td>\n",
       "    </tr>\n",
       "    <tr>\n",
       "      <th>147135</th>\n",
       "      <td>mvqwrvjo</td>\n",
       "      <td>2011.0</td>\n",
       "      <td>2250000</td>\n",
       "      <td>Others</td>\n",
       "      <td>2019.0</td>\n",
       "      <td>11.0</td>\n",
       "      <td>64.0</td>\n",
       "      <td>1.259969e+06</td>\n",
       "      <td>5.777488e+05</td>\n",
       "      <td>500000.0</td>\n",
       "      <td>800000.0</td>\n",
       "      <td>1020000.0</td>\n",
       "      <td>1607500.0</td>\n",
       "      <td>3200000.0</td>\n",
       "    </tr>\n",
       "    <tr>\n",
       "      <th>147136</th>\n",
       "      <td>vuurt xzw</td>\n",
       "      <td>2008.0</td>\n",
       "      <td>220000</td>\n",
       "      <td>Others</td>\n",
       "      <td>2019.0</td>\n",
       "      <td>14.0</td>\n",
       "      <td>16.0</td>\n",
       "      <td>1.568312e+06</td>\n",
       "      <td>1.231984e+06</td>\n",
       "      <td>60000.0</td>\n",
       "      <td>216250.0</td>\n",
       "      <td>2275000.0</td>\n",
       "      <td>2550000.0</td>\n",
       "      <td>3000000.0</td>\n",
       "    </tr>\n",
       "    <tr>\n",
       "      <th>147137</th>\n",
       "      <td>husqvawgb</td>\n",
       "      <td>2017.0</td>\n",
       "      <td>500000</td>\n",
       "      <td>Others</td>\n",
       "      <td>2020.0</td>\n",
       "      <td>5.0</td>\n",
       "      <td>13.0</td>\n",
       "      <td>1.000769e+06</td>\n",
       "      <td>3.300369e+05</td>\n",
       "      <td>500000.0</td>\n",
       "      <td>750000.0</td>\n",
       "      <td>1000000.0</td>\n",
       "      <td>1200000.0</td>\n",
       "      <td>1500000.0</td>\n",
       "    </tr>\n",
       "    <tr>\n",
       "      <th>147138</th>\n",
       "      <td>vwwgrxnt</td>\n",
       "      <td>2021.0</td>\n",
       "      <td>700000</td>\n",
       "      <td>Others</td>\n",
       "      <td>2021.0</td>\n",
       "      <td>1.0</td>\n",
       "      <td>35.0</td>\n",
       "      <td>1.200371e+06</td>\n",
       "      <td>5.635221e+05</td>\n",
       "      <td>300000.0</td>\n",
       "      <td>771500.0</td>\n",
       "      <td>1100000.0</td>\n",
       "      <td>1400000.0</td>\n",
       "      <td>2700000.0</td>\n",
       "    </tr>\n",
       "    <tr>\n",
       "      <th>147139</th>\n",
       "      <td>bgqsvz onvzrtj</td>\n",
       "      <td>2014.0</td>\n",
       "      <td>1240000</td>\n",
       "      <td>Others</td>\n",
       "      <td>2016.0</td>\n",
       "      <td>8.0</td>\n",
       "      <td>105.0</td>\n",
       "      <td>1.801581e+06</td>\n",
       "      <td>6.903383e+05</td>\n",
       "      <td>100000.0</td>\n",
       "      <td>1450000.0</td>\n",
       "      <td>1800000.0</td>\n",
       "      <td>2300000.0</td>\n",
       "      <td>3240000.0</td>\n",
       "    </tr>\n",
       "  </tbody>\n",
       "</table>\n",
       "<p>147140 rows × 14 columns</p>\n",
       "</div>"
      ],
      "text/plain": [
       "                     company_hash  orgyear      ctc        job_position  \\\n",
       "0                  atrgxnnt xzaxv   2016.0  1100000               other   \n",
       "1       qtrxvzwt xzegwgbb rxbxnta   2018.0   449999  fullstack engineer   \n",
       "2                          Others   2015.0  2000000    backend engineer   \n",
       "3                       ngpgutaxv   2017.0   700000    backend engineer   \n",
       "4                      qxen sqghu   2017.0  1400000  fullstack engineer   \n",
       "...                           ...      ...      ...                 ...   \n",
       "147135                   mvqwrvjo   2011.0  2250000              Others   \n",
       "147136                  vuurt xzw   2008.0   220000              Others   \n",
       "147137                  husqvawgb   2017.0   500000              Others   \n",
       "147138                   vwwgrxnt   2021.0   700000              Others   \n",
       "147139             bgqsvz onvzrtj   2014.0  1240000              Others   \n",
       "\n",
       "        ctc_updated_year  years_of_experience   count          mean  \\\n",
       "0                 2020.0                  6.0     2.0  1.085000e+06   \n",
       "1                 2019.0                  4.0    25.0  9.882000e+05   \n",
       "2                 2020.0                  7.0  3927.0  9.958526e+05   \n",
       "3                 2019.0                  5.0    24.0  1.416667e+06   \n",
       "4                 2019.0                  5.0     3.0  8.466667e+05   \n",
       "...                  ...                  ...     ...           ...   \n",
       "147135            2019.0                 11.0    64.0  1.259969e+06   \n",
       "147136            2019.0                 14.0    16.0  1.568312e+06   \n",
       "147137            2020.0                  5.0    13.0  1.000769e+06   \n",
       "147138            2021.0                  1.0    35.0  1.200371e+06   \n",
       "147139            2016.0                  8.0   105.0  1.801581e+06   \n",
       "\n",
       "                 std        min        25%        50%        75%        max  \n",
       "0       2.121320e+04  1070000.0  1077500.0  1085000.0  1092500.0  1100000.0  \n",
       "1       4.874998e+05   300000.0   600000.0   850000.0  1380000.0  2000000.0  \n",
       "2       8.105078e+05     1000.0   300000.0   819999.0  1510000.0  3300000.0  \n",
       "3       5.453413e+05   520000.0  1047500.0  1375000.0  1792500.0  2600000.0  \n",
       "4       4.801389e+05   540000.0   570000.0   600000.0  1000000.0  1400000.0  \n",
       "...              ...        ...        ...        ...        ...        ...  \n",
       "147135  5.777488e+05   500000.0   800000.0  1020000.0  1607500.0  3200000.0  \n",
       "147136  1.231984e+06    60000.0   216250.0  2275000.0  2550000.0  3000000.0  \n",
       "147137  3.300369e+05   500000.0   750000.0  1000000.0  1200000.0  1500000.0  \n",
       "147138  5.635221e+05   300000.0   771500.0  1100000.0  1400000.0  2700000.0  \n",
       "147139  6.903383e+05   100000.0  1450000.0  1800000.0  2300000.0  3240000.0  \n",
       "\n",
       "[147140 rows x 14 columns]"
      ]
     },
     "execution_count": 405,
     "metadata": {},
     "output_type": "execute_result"
    }
   ],
   "source": [
    "df_cj"
   ]
  },
  {
   "cell_type": "code",
   "execution_count": 406,
   "id": "691b86b8",
   "metadata": {},
   "outputs": [
    {
     "data": {
      "text/html": [
       "<div>\n",
       "<style scoped>\n",
       "    .dataframe tbody tr th:only-of-type {\n",
       "        vertical-align: middle;\n",
       "    }\n",
       "\n",
       "    .dataframe tbody tr th {\n",
       "        vertical-align: top;\n",
       "    }\n",
       "\n",
       "    .dataframe thead th {\n",
       "        text-align: right;\n",
       "    }\n",
       "</style>\n",
       "<table border=\"1\" class=\"dataframe\">\n",
       "  <thead>\n",
       "    <tr style=\"text-align: right;\">\n",
       "      <th></th>\n",
       "      <th>company_hash</th>\n",
       "      <th>orgyear</th>\n",
       "      <th>ctc</th>\n",
       "      <th>job_position</th>\n",
       "      <th>ctc_updated_year</th>\n",
       "      <th>years_of_experience</th>\n",
       "      <th>count</th>\n",
       "      <th>mean</th>\n",
       "      <th>std</th>\n",
       "      <th>min</th>\n",
       "      <th>25%</th>\n",
       "      <th>50%</th>\n",
       "      <th>75%</th>\n",
       "      <th>max</th>\n",
       "    </tr>\n",
       "  </thead>\n",
       "  <tbody>\n",
       "    <tr>\n",
       "      <th>9</th>\n",
       "      <td>Others</td>\n",
       "      <td>2019.0</td>\n",
       "      <td>360000</td>\n",
       "      <td>Others</td>\n",
       "      <td>2019.0</td>\n",
       "      <td>3.0</td>\n",
       "      <td>3296.0</td>\n",
       "      <td>1.021510e+06</td>\n",
       "      <td>832031.028338</td>\n",
       "      <td>15.0</td>\n",
       "      <td>360000.0</td>\n",
       "      <td>800000.0</td>\n",
       "      <td>1500000.0</td>\n",
       "      <td>3327000.0</td>\n",
       "    </tr>\n",
       "    <tr>\n",
       "      <th>71</th>\n",
       "      <td>Others</td>\n",
       "      <td>2021.0</td>\n",
       "      <td>2200000</td>\n",
       "      <td>Others</td>\n",
       "      <td>2021.0</td>\n",
       "      <td>1.0</td>\n",
       "      <td>3296.0</td>\n",
       "      <td>1.021510e+06</td>\n",
       "      <td>832031.028338</td>\n",
       "      <td>15.0</td>\n",
       "      <td>360000.0</td>\n",
       "      <td>800000.0</td>\n",
       "      <td>1500000.0</td>\n",
       "      <td>3327000.0</td>\n",
       "    </tr>\n",
       "    <tr>\n",
       "      <th>72</th>\n",
       "      <td>Others</td>\n",
       "      <td>2020.0</td>\n",
       "      <td>300000</td>\n",
       "      <td>Others</td>\n",
       "      <td>2020.0</td>\n",
       "      <td>2.0</td>\n",
       "      <td>3296.0</td>\n",
       "      <td>1.021510e+06</td>\n",
       "      <td>832031.028338</td>\n",
       "      <td>15.0</td>\n",
       "      <td>360000.0</td>\n",
       "      <td>800000.0</td>\n",
       "      <td>1500000.0</td>\n",
       "      <td>3327000.0</td>\n",
       "    </tr>\n",
       "    <tr>\n",
       "      <th>87</th>\n",
       "      <td>Others</td>\n",
       "      <td>2009.0</td>\n",
       "      <td>350000</td>\n",
       "      <td>Others</td>\n",
       "      <td>2021.0</td>\n",
       "      <td>13.0</td>\n",
       "      <td>3296.0</td>\n",
       "      <td>1.021510e+06</td>\n",
       "      <td>832031.028338</td>\n",
       "      <td>15.0</td>\n",
       "      <td>360000.0</td>\n",
       "      <td>800000.0</td>\n",
       "      <td>1500000.0</td>\n",
       "      <td>3327000.0</td>\n",
       "    </tr>\n",
       "    <tr>\n",
       "      <th>135</th>\n",
       "      <td>Others</td>\n",
       "      <td>2017.0</td>\n",
       "      <td>500000</td>\n",
       "      <td>Others</td>\n",
       "      <td>2020.0</td>\n",
       "      <td>5.0</td>\n",
       "      <td>3296.0</td>\n",
       "      <td>1.021510e+06</td>\n",
       "      <td>832031.028338</td>\n",
       "      <td>15.0</td>\n",
       "      <td>360000.0</td>\n",
       "      <td>800000.0</td>\n",
       "      <td>1500000.0</td>\n",
       "      <td>3327000.0</td>\n",
       "    </tr>\n",
       "    <tr>\n",
       "      <th>...</th>\n",
       "      <td>...</td>\n",
       "      <td>...</td>\n",
       "      <td>...</td>\n",
       "      <td>...</td>\n",
       "      <td>...</td>\n",
       "      <td>...</td>\n",
       "      <td>...</td>\n",
       "      <td>...</td>\n",
       "      <td>...</td>\n",
       "      <td>...</td>\n",
       "      <td>...</td>\n",
       "      <td>...</td>\n",
       "      <td>...</td>\n",
       "      <td>...</td>\n",
       "    </tr>\n",
       "    <tr>\n",
       "      <th>122932</th>\n",
       "      <td>zxztrtvuo</td>\n",
       "      <td>2013.0</td>\n",
       "      <td>1200000</td>\n",
       "      <td>ios engineer</td>\n",
       "      <td>2017.0</td>\n",
       "      <td>9.0</td>\n",
       "      <td>1.0</td>\n",
       "      <td>1.200000e+06</td>\n",
       "      <td>NaN</td>\n",
       "      <td>1200000.0</td>\n",
       "      <td>1200000.0</td>\n",
       "      <td>1200000.0</td>\n",
       "      <td>1200000.0</td>\n",
       "      <td>1200000.0</td>\n",
       "    </tr>\n",
       "    <tr>\n",
       "      <th>53944</th>\n",
       "      <td>zxztrtvuo</td>\n",
       "      <td>2016.0</td>\n",
       "      <td>1200000</td>\n",
       "      <td>member of technical staff at nineleaps</td>\n",
       "      <td>2020.0</td>\n",
       "      <td>6.0</td>\n",
       "      <td>1.0</td>\n",
       "      <td>1.200000e+06</td>\n",
       "      <td>NaN</td>\n",
       "      <td>1200000.0</td>\n",
       "      <td>1200000.0</td>\n",
       "      <td>1200000.0</td>\n",
       "      <td>1200000.0</td>\n",
       "      <td>1200000.0</td>\n",
       "    </tr>\n",
       "    <tr>\n",
       "      <th>9204</th>\n",
       "      <td>zxztrtvuo</td>\n",
       "      <td>2020.0</td>\n",
       "      <td>450000</td>\n",
       "      <td>other</td>\n",
       "      <td>2020.0</td>\n",
       "      <td>2.0</td>\n",
       "      <td>2.0</td>\n",
       "      <td>4.500000e+05</td>\n",
       "      <td>0.000000</td>\n",
       "      <td>450000.0</td>\n",
       "      <td>450000.0</td>\n",
       "      <td>450000.0</td>\n",
       "      <td>450000.0</td>\n",
       "      <td>450000.0</td>\n",
       "    </tr>\n",
       "    <tr>\n",
       "      <th>134141</th>\n",
       "      <td>zxztrtvuo</td>\n",
       "      <td>2019.0</td>\n",
       "      <td>450000</td>\n",
       "      <td>other</td>\n",
       "      <td>2020.0</td>\n",
       "      <td>3.0</td>\n",
       "      <td>2.0</td>\n",
       "      <td>4.500000e+05</td>\n",
       "      <td>0.000000</td>\n",
       "      <td>450000.0</td>\n",
       "      <td>450000.0</td>\n",
       "      <td>450000.0</td>\n",
       "      <td>450000.0</td>\n",
       "      <td>450000.0</td>\n",
       "    </tr>\n",
       "    <tr>\n",
       "      <th>37362</th>\n",
       "      <td>zxztrtvuo</td>\n",
       "      <td>2016.0</td>\n",
       "      <td>1200000</td>\n",
       "      <td>software developer intern</td>\n",
       "      <td>2020.0</td>\n",
       "      <td>6.0</td>\n",
       "      <td>1.0</td>\n",
       "      <td>1.200000e+06</td>\n",
       "      <td>NaN</td>\n",
       "      <td>1200000.0</td>\n",
       "      <td>1200000.0</td>\n",
       "      <td>1200000.0</td>\n",
       "      <td>1200000.0</td>\n",
       "      <td>1200000.0</td>\n",
       "    </tr>\n",
       "  </tbody>\n",
       "</table>\n",
       "<p>147140 rows × 14 columns</p>\n",
       "</div>"
      ],
      "text/plain": [
       "       company_hash  orgyear      ctc                            job_position  \\\n",
       "9            Others   2019.0   360000                                  Others   \n",
       "71           Others   2021.0  2200000                                  Others   \n",
       "72           Others   2020.0   300000                                  Others   \n",
       "87           Others   2009.0   350000                                  Others   \n",
       "135          Others   2017.0   500000                                  Others   \n",
       "...             ...      ...      ...                                     ...   \n",
       "122932    zxztrtvuo   2013.0  1200000                            ios engineer   \n",
       "53944     zxztrtvuo   2016.0  1200000  member of technical staff at nineleaps   \n",
       "9204      zxztrtvuo   2020.0   450000                                   other   \n",
       "134141    zxztrtvuo   2019.0   450000                                   other   \n",
       "37362     zxztrtvuo   2016.0  1200000               software developer intern   \n",
       "\n",
       "        ctc_updated_year  years_of_experience   count          mean  \\\n",
       "9                 2019.0                  3.0  3296.0  1.021510e+06   \n",
       "71                2021.0                  1.0  3296.0  1.021510e+06   \n",
       "72                2020.0                  2.0  3296.0  1.021510e+06   \n",
       "87                2021.0                 13.0  3296.0  1.021510e+06   \n",
       "135               2020.0                  5.0  3296.0  1.021510e+06   \n",
       "...                  ...                  ...     ...           ...   \n",
       "122932            2017.0                  9.0     1.0  1.200000e+06   \n",
       "53944             2020.0                  6.0     1.0  1.200000e+06   \n",
       "9204              2020.0                  2.0     2.0  4.500000e+05   \n",
       "134141            2020.0                  3.0     2.0  4.500000e+05   \n",
       "37362             2020.0                  6.0     1.0  1.200000e+06   \n",
       "\n",
       "                  std        min        25%        50%        75%        max  \n",
       "9       832031.028338       15.0   360000.0   800000.0  1500000.0  3327000.0  \n",
       "71      832031.028338       15.0   360000.0   800000.0  1500000.0  3327000.0  \n",
       "72      832031.028338       15.0   360000.0   800000.0  1500000.0  3327000.0  \n",
       "87      832031.028338       15.0   360000.0   800000.0  1500000.0  3327000.0  \n",
       "135     832031.028338       15.0   360000.0   800000.0  1500000.0  3327000.0  \n",
       "...               ...        ...        ...        ...        ...        ...  \n",
       "122932            NaN  1200000.0  1200000.0  1200000.0  1200000.0  1200000.0  \n",
       "53944             NaN  1200000.0  1200000.0  1200000.0  1200000.0  1200000.0  \n",
       "9204         0.000000   450000.0   450000.0   450000.0   450000.0   450000.0  \n",
       "134141       0.000000   450000.0   450000.0   450000.0   450000.0   450000.0  \n",
       "37362             NaN  1200000.0  1200000.0  1200000.0  1200000.0  1200000.0  \n",
       "\n",
       "[147140 rows x 14 columns]"
      ]
     },
     "execution_count": 406,
     "metadata": {},
     "output_type": "execute_result"
    }
   ],
   "source": [
    "df_cj.sort_values(['company_hash','job_position'])"
   ]
  },
  {
   "cell_type": "code",
   "execution_count": 407,
   "id": "2f3399a2",
   "metadata": {},
   "outputs": [
    {
     "data": {
      "text/plain": [
       "(146053, 14)"
      ]
     },
     "execution_count": 407,
     "metadata": {},
     "output_type": "execute_result"
    }
   ],
   "source": [
    "df_cj.drop_duplicates(inplace=True)\n",
    "df_cj.shape"
   ]
  },
  {
   "cell_type": "code",
   "execution_count": 408,
   "id": "7bf2a799",
   "metadata": {},
   "outputs": [],
   "source": [
    "def condition_classs(a,b_50,b_75):\n",
    "    if a<b_50:\n",
    "        return 3\n",
    "    elif a>=b_50 and a<=b_75:\n",
    "        return 2\n",
    "    elif a>=b_75:\n",
    "        return 1"
   ]
  },
  {
   "cell_type": "code",
   "execution_count": 409,
   "id": "733cd16c",
   "metadata": {},
   "outputs": [],
   "source": [
    "df_cj['class'] =df_cj.apply(lambda x: condition_classs(x['ctc'],x['50%'],x['75%']), axis=1)"
   ]
  },
  {
   "cell_type": "code",
   "execution_count": 410,
   "id": "825963fb",
   "metadata": {},
   "outputs": [
    {
     "data": {
      "text/html": [
       "<div>\n",
       "<style scoped>\n",
       "    .dataframe tbody tr th:only-of-type {\n",
       "        vertical-align: middle;\n",
       "    }\n",
       "\n",
       "    .dataframe tbody tr th {\n",
       "        vertical-align: top;\n",
       "    }\n",
       "\n",
       "    .dataframe thead th {\n",
       "        text-align: right;\n",
       "    }\n",
       "</style>\n",
       "<table border=\"1\" class=\"dataframe\">\n",
       "  <thead>\n",
       "    <tr style=\"text-align: right;\">\n",
       "      <th></th>\n",
       "      <th>company_hash</th>\n",
       "      <th>orgyear</th>\n",
       "      <th>ctc</th>\n",
       "      <th>job_position</th>\n",
       "      <th>ctc_updated_year</th>\n",
       "      <th>years_of_experience</th>\n",
       "      <th>count</th>\n",
       "      <th>mean</th>\n",
       "      <th>std</th>\n",
       "      <th>min</th>\n",
       "      <th>25%</th>\n",
       "      <th>50%</th>\n",
       "      <th>75%</th>\n",
       "      <th>max</th>\n",
       "      <th>class</th>\n",
       "    </tr>\n",
       "  </thead>\n",
       "  <tbody>\n",
       "    <tr>\n",
       "      <th>0</th>\n",
       "      <td>atrgxnnt xzaxv</td>\n",
       "      <td>2016.0</td>\n",
       "      <td>1100000</td>\n",
       "      <td>other</td>\n",
       "      <td>2020.0</td>\n",
       "      <td>6.0</td>\n",
       "      <td>2.0</td>\n",
       "      <td>1.085000e+06</td>\n",
       "      <td>2.121320e+04</td>\n",
       "      <td>1070000.0</td>\n",
       "      <td>1077500.0</td>\n",
       "      <td>1085000.0</td>\n",
       "      <td>1092500.0</td>\n",
       "      <td>1100000.0</td>\n",
       "      <td>1</td>\n",
       "    </tr>\n",
       "    <tr>\n",
       "      <th>1</th>\n",
       "      <td>qtrxvzwt xzegwgbb rxbxnta</td>\n",
       "      <td>2018.0</td>\n",
       "      <td>449999</td>\n",
       "      <td>fullstack engineer</td>\n",
       "      <td>2019.0</td>\n",
       "      <td>4.0</td>\n",
       "      <td>25.0</td>\n",
       "      <td>9.882000e+05</td>\n",
       "      <td>4.874998e+05</td>\n",
       "      <td>300000.0</td>\n",
       "      <td>600000.0</td>\n",
       "      <td>850000.0</td>\n",
       "      <td>1380000.0</td>\n",
       "      <td>2000000.0</td>\n",
       "      <td>3</td>\n",
       "    </tr>\n",
       "    <tr>\n",
       "      <th>2</th>\n",
       "      <td>Others</td>\n",
       "      <td>2015.0</td>\n",
       "      <td>2000000</td>\n",
       "      <td>backend engineer</td>\n",
       "      <td>2020.0</td>\n",
       "      <td>7.0</td>\n",
       "      <td>3927.0</td>\n",
       "      <td>9.958526e+05</td>\n",
       "      <td>8.105078e+05</td>\n",
       "      <td>1000.0</td>\n",
       "      <td>300000.0</td>\n",
       "      <td>819999.0</td>\n",
       "      <td>1510000.0</td>\n",
       "      <td>3300000.0</td>\n",
       "      <td>1</td>\n",
       "    </tr>\n",
       "    <tr>\n",
       "      <th>3</th>\n",
       "      <td>ngpgutaxv</td>\n",
       "      <td>2017.0</td>\n",
       "      <td>700000</td>\n",
       "      <td>backend engineer</td>\n",
       "      <td>2019.0</td>\n",
       "      <td>5.0</td>\n",
       "      <td>24.0</td>\n",
       "      <td>1.416667e+06</td>\n",
       "      <td>5.453413e+05</td>\n",
       "      <td>520000.0</td>\n",
       "      <td>1047500.0</td>\n",
       "      <td>1375000.0</td>\n",
       "      <td>1792500.0</td>\n",
       "      <td>2600000.0</td>\n",
       "      <td>3</td>\n",
       "    </tr>\n",
       "    <tr>\n",
       "      <th>4</th>\n",
       "      <td>qxen sqghu</td>\n",
       "      <td>2017.0</td>\n",
       "      <td>1400000</td>\n",
       "      <td>fullstack engineer</td>\n",
       "      <td>2019.0</td>\n",
       "      <td>5.0</td>\n",
       "      <td>3.0</td>\n",
       "      <td>8.466667e+05</td>\n",
       "      <td>4.801389e+05</td>\n",
       "      <td>540000.0</td>\n",
       "      <td>570000.0</td>\n",
       "      <td>600000.0</td>\n",
       "      <td>1000000.0</td>\n",
       "      <td>1400000.0</td>\n",
       "      <td>1</td>\n",
       "    </tr>\n",
       "    <tr>\n",
       "      <th>...</th>\n",
       "      <td>...</td>\n",
       "      <td>...</td>\n",
       "      <td>...</td>\n",
       "      <td>...</td>\n",
       "      <td>...</td>\n",
       "      <td>...</td>\n",
       "      <td>...</td>\n",
       "      <td>...</td>\n",
       "      <td>...</td>\n",
       "      <td>...</td>\n",
       "      <td>...</td>\n",
       "      <td>...</td>\n",
       "      <td>...</td>\n",
       "      <td>...</td>\n",
       "      <td>...</td>\n",
       "    </tr>\n",
       "    <tr>\n",
       "      <th>147135</th>\n",
       "      <td>mvqwrvjo</td>\n",
       "      <td>2011.0</td>\n",
       "      <td>2250000</td>\n",
       "      <td>Others</td>\n",
       "      <td>2019.0</td>\n",
       "      <td>11.0</td>\n",
       "      <td>64.0</td>\n",
       "      <td>1.259969e+06</td>\n",
       "      <td>5.777488e+05</td>\n",
       "      <td>500000.0</td>\n",
       "      <td>800000.0</td>\n",
       "      <td>1020000.0</td>\n",
       "      <td>1607500.0</td>\n",
       "      <td>3200000.0</td>\n",
       "      <td>1</td>\n",
       "    </tr>\n",
       "    <tr>\n",
       "      <th>147136</th>\n",
       "      <td>vuurt xzw</td>\n",
       "      <td>2008.0</td>\n",
       "      <td>220000</td>\n",
       "      <td>Others</td>\n",
       "      <td>2019.0</td>\n",
       "      <td>14.0</td>\n",
       "      <td>16.0</td>\n",
       "      <td>1.568312e+06</td>\n",
       "      <td>1.231984e+06</td>\n",
       "      <td>60000.0</td>\n",
       "      <td>216250.0</td>\n",
       "      <td>2275000.0</td>\n",
       "      <td>2550000.0</td>\n",
       "      <td>3000000.0</td>\n",
       "      <td>3</td>\n",
       "    </tr>\n",
       "    <tr>\n",
       "      <th>147137</th>\n",
       "      <td>husqvawgb</td>\n",
       "      <td>2017.0</td>\n",
       "      <td>500000</td>\n",
       "      <td>Others</td>\n",
       "      <td>2020.0</td>\n",
       "      <td>5.0</td>\n",
       "      <td>13.0</td>\n",
       "      <td>1.000769e+06</td>\n",
       "      <td>3.300369e+05</td>\n",
       "      <td>500000.0</td>\n",
       "      <td>750000.0</td>\n",
       "      <td>1000000.0</td>\n",
       "      <td>1200000.0</td>\n",
       "      <td>1500000.0</td>\n",
       "      <td>3</td>\n",
       "    </tr>\n",
       "    <tr>\n",
       "      <th>147138</th>\n",
       "      <td>vwwgrxnt</td>\n",
       "      <td>2021.0</td>\n",
       "      <td>700000</td>\n",
       "      <td>Others</td>\n",
       "      <td>2021.0</td>\n",
       "      <td>1.0</td>\n",
       "      <td>35.0</td>\n",
       "      <td>1.200371e+06</td>\n",
       "      <td>5.635221e+05</td>\n",
       "      <td>300000.0</td>\n",
       "      <td>771500.0</td>\n",
       "      <td>1100000.0</td>\n",
       "      <td>1400000.0</td>\n",
       "      <td>2700000.0</td>\n",
       "      <td>3</td>\n",
       "    </tr>\n",
       "    <tr>\n",
       "      <th>147139</th>\n",
       "      <td>bgqsvz onvzrtj</td>\n",
       "      <td>2014.0</td>\n",
       "      <td>1240000</td>\n",
       "      <td>Others</td>\n",
       "      <td>2016.0</td>\n",
       "      <td>8.0</td>\n",
       "      <td>105.0</td>\n",
       "      <td>1.801581e+06</td>\n",
       "      <td>6.903383e+05</td>\n",
       "      <td>100000.0</td>\n",
       "      <td>1450000.0</td>\n",
       "      <td>1800000.0</td>\n",
       "      <td>2300000.0</td>\n",
       "      <td>3240000.0</td>\n",
       "      <td>3</td>\n",
       "    </tr>\n",
       "  </tbody>\n",
       "</table>\n",
       "<p>146053 rows × 15 columns</p>\n",
       "</div>"
      ],
      "text/plain": [
       "                     company_hash  orgyear      ctc        job_position  \\\n",
       "0                  atrgxnnt xzaxv   2016.0  1100000               other   \n",
       "1       qtrxvzwt xzegwgbb rxbxnta   2018.0   449999  fullstack engineer   \n",
       "2                          Others   2015.0  2000000    backend engineer   \n",
       "3                       ngpgutaxv   2017.0   700000    backend engineer   \n",
       "4                      qxen sqghu   2017.0  1400000  fullstack engineer   \n",
       "...                           ...      ...      ...                 ...   \n",
       "147135                   mvqwrvjo   2011.0  2250000              Others   \n",
       "147136                  vuurt xzw   2008.0   220000              Others   \n",
       "147137                  husqvawgb   2017.0   500000              Others   \n",
       "147138                   vwwgrxnt   2021.0   700000              Others   \n",
       "147139             bgqsvz onvzrtj   2014.0  1240000              Others   \n",
       "\n",
       "        ctc_updated_year  years_of_experience   count          mean  \\\n",
       "0                 2020.0                  6.0     2.0  1.085000e+06   \n",
       "1                 2019.0                  4.0    25.0  9.882000e+05   \n",
       "2                 2020.0                  7.0  3927.0  9.958526e+05   \n",
       "3                 2019.0                  5.0    24.0  1.416667e+06   \n",
       "4                 2019.0                  5.0     3.0  8.466667e+05   \n",
       "...                  ...                  ...     ...           ...   \n",
       "147135            2019.0                 11.0    64.0  1.259969e+06   \n",
       "147136            2019.0                 14.0    16.0  1.568312e+06   \n",
       "147137            2020.0                  5.0    13.0  1.000769e+06   \n",
       "147138            2021.0                  1.0    35.0  1.200371e+06   \n",
       "147139            2016.0                  8.0   105.0  1.801581e+06   \n",
       "\n",
       "                 std        min        25%        50%        75%        max  \\\n",
       "0       2.121320e+04  1070000.0  1077500.0  1085000.0  1092500.0  1100000.0   \n",
       "1       4.874998e+05   300000.0   600000.0   850000.0  1380000.0  2000000.0   \n",
       "2       8.105078e+05     1000.0   300000.0   819999.0  1510000.0  3300000.0   \n",
       "3       5.453413e+05   520000.0  1047500.0  1375000.0  1792500.0  2600000.0   \n",
       "4       4.801389e+05   540000.0   570000.0   600000.0  1000000.0  1400000.0   \n",
       "...              ...        ...        ...        ...        ...        ...   \n",
       "147135  5.777488e+05   500000.0   800000.0  1020000.0  1607500.0  3200000.0   \n",
       "147136  1.231984e+06    60000.0   216250.0  2275000.0  2550000.0  3000000.0   \n",
       "147137  3.300369e+05   500000.0   750000.0  1000000.0  1200000.0  1500000.0   \n",
       "147138  5.635221e+05   300000.0   771500.0  1100000.0  1400000.0  2700000.0   \n",
       "147139  6.903383e+05   100000.0  1450000.0  1800000.0  2300000.0  3240000.0   \n",
       "\n",
       "        class  \n",
       "0           1  \n",
       "1           3  \n",
       "2           1  \n",
       "3           3  \n",
       "4           1  \n",
       "...       ...  \n",
       "147135      1  \n",
       "147136      3  \n",
       "147137      3  \n",
       "147138      3  \n",
       "147139      3  \n",
       "\n",
       "[146053 rows x 15 columns]"
      ]
     },
     "execution_count": 410,
     "metadata": {},
     "output_type": "execute_result"
    }
   ],
   "source": [
    "df_cj"
   ]
  },
  {
   "cell_type": "code",
   "execution_count": 411,
   "id": "e0f32db4",
   "metadata": {},
   "outputs": [
    {
     "data": {
      "text/plain": [
       "3    43.689620\n",
       "2    31.861037\n",
       "1    24.449344\n",
       "Name: class, dtype: float64"
      ]
     },
     "execution_count": 411,
     "metadata": {},
     "output_type": "execute_result"
    }
   ],
   "source": [
    "df_cj['class'].value_counts(normalize=True)*100"
   ]
  },
  {
   "cell_type": "code",
   "execution_count": 412,
   "id": "a83d5a83",
   "metadata": {},
   "outputs": [
    {
     "data": {
      "text/html": [
       "<div>\n",
       "<style scoped>\n",
       "    .dataframe tbody tr th:only-of-type {\n",
       "        vertical-align: middle;\n",
       "    }\n",
       "\n",
       "    .dataframe tbody tr th {\n",
       "        vertical-align: top;\n",
       "    }\n",
       "\n",
       "    .dataframe thead th {\n",
       "        text-align: right;\n",
       "    }\n",
       "</style>\n",
       "<table border=\"1\" class=\"dataframe\">\n",
       "  <thead>\n",
       "    <tr style=\"text-align: right;\">\n",
       "      <th></th>\n",
       "      <th>job_position</th>\n",
       "      <th>ctc</th>\n",
       "    </tr>\n",
       "  </thead>\n",
       "  <tbody>\n",
       "    <tr>\n",
       "      <th>0</th>\n",
       "      <td>other</td>\n",
       "      <td>1100000</td>\n",
       "    </tr>\n",
       "    <tr>\n",
       "      <th>2</th>\n",
       "      <td>backend engineer</td>\n",
       "      <td>2000000</td>\n",
       "    </tr>\n",
       "    <tr>\n",
       "      <th>4</th>\n",
       "      <td>fullstack engineer</td>\n",
       "      <td>1400000</td>\n",
       "    </tr>\n",
       "    <tr>\n",
       "      <th>15</th>\n",
       "      <td>backend engineer</td>\n",
       "      <td>2030000</td>\n",
       "    </tr>\n",
       "    <tr>\n",
       "      <th>17</th>\n",
       "      <td>Others</td>\n",
       "      <td>1400000</td>\n",
       "    </tr>\n",
       "    <tr>\n",
       "      <th>...</th>\n",
       "      <td>...</td>\n",
       "      <td>...</td>\n",
       "    </tr>\n",
       "    <tr>\n",
       "      <th>147124</th>\n",
       "      <td>Others</td>\n",
       "      <td>1330000</td>\n",
       "    </tr>\n",
       "    <tr>\n",
       "      <th>147125</th>\n",
       "      <td>Others</td>\n",
       "      <td>2100000</td>\n",
       "    </tr>\n",
       "    <tr>\n",
       "      <th>147126</th>\n",
       "      <td>Others</td>\n",
       "      <td>1800000</td>\n",
       "    </tr>\n",
       "    <tr>\n",
       "      <th>147134</th>\n",
       "      <td>Others</td>\n",
       "      <td>2280000</td>\n",
       "    </tr>\n",
       "    <tr>\n",
       "      <th>147135</th>\n",
       "      <td>Others</td>\n",
       "      <td>2250000</td>\n",
       "    </tr>\n",
       "  </tbody>\n",
       "</table>\n",
       "<p>35709 rows × 2 columns</p>\n",
       "</div>"
      ],
      "text/plain": [
       "              job_position      ctc\n",
       "0                    other  1100000\n",
       "2         backend engineer  2000000\n",
       "4       fullstack engineer  1400000\n",
       "15        backend engineer  2030000\n",
       "17                  Others  1400000\n",
       "...                    ...      ...\n",
       "147124              Others  1330000\n",
       "147125              Others  2100000\n",
       "147126              Others  1800000\n",
       "147134              Others  2280000\n",
       "147135              Others  2250000\n",
       "\n",
       "[35709 rows x 2 columns]"
      ]
     },
     "execution_count": 412,
     "metadata": {},
     "output_type": "execute_result"
    }
   ],
   "source": [
    "df_cj[df_cj['class']==1][['job_position','ctc']]"
   ]
  },
  {
   "cell_type": "code",
   "execution_count": 413,
   "id": "d75a3b4c",
   "metadata": {},
   "outputs": [
    {
     "data": {
      "text/html": [
       "<div>\n",
       "<style scoped>\n",
       "    .dataframe tbody tr th:only-of-type {\n",
       "        vertical-align: middle;\n",
       "    }\n",
       "\n",
       "    .dataframe tbody tr th {\n",
       "        vertical-align: top;\n",
       "    }\n",
       "\n",
       "    .dataframe thead th {\n",
       "        text-align: right;\n",
       "    }\n",
       "</style>\n",
       "<table border=\"1\" class=\"dataframe\">\n",
       "  <thead>\n",
       "    <tr style=\"text-align: right;\">\n",
       "      <th></th>\n",
       "      <th>count</th>\n",
       "      <th>mean</th>\n",
       "      <th>std</th>\n",
       "      <th>min</th>\n",
       "      <th>25%</th>\n",
       "      <th>50%</th>\n",
       "      <th>75%</th>\n",
       "      <th>max</th>\n",
       "    </tr>\n",
       "    <tr>\n",
       "      <th>job_position</th>\n",
       "      <th></th>\n",
       "      <th></th>\n",
       "      <th></th>\n",
       "      <th></th>\n",
       "      <th></th>\n",
       "      <th></th>\n",
       "      <th></th>\n",
       "      <th></th>\n",
       "    </tr>\n",
       "  </thead>\n",
       "  <tbody>\n",
       "    <tr>\n",
       "      <th>Others</th>\n",
       "      <td>8229.0</td>\n",
       "      <td>1.930377e+06</td>\n",
       "      <td>695369.034053</td>\n",
       "      <td>100000.0</td>\n",
       "      <td>1400000.0</td>\n",
       "      <td>1900000.0</td>\n",
       "      <td>2500000.0</td>\n",
       "      <td>3330000.0</td>\n",
       "    </tr>\n",
       "    <tr>\n",
       "      <th>android engineer</th>\n",
       "      <td>913.0</td>\n",
       "      <td>1.784897e+06</td>\n",
       "      <td>638704.770985</td>\n",
       "      <td>14000.0</td>\n",
       "      <td>1320000.0</td>\n",
       "      <td>1700000.0</td>\n",
       "      <td>2200000.0</td>\n",
       "      <td>3300000.0</td>\n",
       "    </tr>\n",
       "    <tr>\n",
       "      <th>application developer</th>\n",
       "      <td>1.0</td>\n",
       "      <td>1.150000e+06</td>\n",
       "      <td>NaN</td>\n",
       "      <td>1150000.0</td>\n",
       "      <td>1150000.0</td>\n",
       "      <td>1150000.0</td>\n",
       "      <td>1150000.0</td>\n",
       "      <td>1150000.0</td>\n",
       "    </tr>\n",
       "    <tr>\n",
       "      <th>application developer analyst</th>\n",
       "      <td>1.0</td>\n",
       "      <td>6.000000e+05</td>\n",
       "      <td>NaN</td>\n",
       "      <td>600000.0</td>\n",
       "      <td>600000.0</td>\n",
       "      <td>600000.0</td>\n",
       "      <td>600000.0</td>\n",
       "      <td>600000.0</td>\n",
       "    </tr>\n",
       "    <tr>\n",
       "      <th>application development analyst</th>\n",
       "      <td>2.0</td>\n",
       "      <td>8.150000e+05</td>\n",
       "      <td>233345.237792</td>\n",
       "      <td>650000.0</td>\n",
       "      <td>732500.0</td>\n",
       "      <td>815000.0</td>\n",
       "      <td>897500.0</td>\n",
       "      <td>980000.0</td>\n",
       "    </tr>\n",
       "    <tr>\n",
       "      <th>...</th>\n",
       "      <td>...</td>\n",
       "      <td>...</td>\n",
       "      <td>...</td>\n",
       "      <td>...</td>\n",
       "      <td>...</td>\n",
       "      <td>...</td>\n",
       "      <td>...</td>\n",
       "      <td>...</td>\n",
       "    </tr>\n",
       "    <tr>\n",
       "      <th>support engineer</th>\n",
       "      <td>683.0</td>\n",
       "      <td>1.190779e+06</td>\n",
       "      <td>552019.578789</td>\n",
       "      <td>350000.0</td>\n",
       "      <td>830000.0</td>\n",
       "      <td>1000000.0</td>\n",
       "      <td>1400000.0</td>\n",
       "      <td>3310000.0</td>\n",
       "    </tr>\n",
       "    <tr>\n",
       "      <th>system engineer</th>\n",
       "      <td>10.0</td>\n",
       "      <td>8.420000e+05</td>\n",
       "      <td>373118.986086</td>\n",
       "      <td>400000.0</td>\n",
       "      <td>550000.0</td>\n",
       "      <td>775000.0</td>\n",
       "      <td>1100000.0</td>\n",
       "      <td>1500000.0</td>\n",
       "    </tr>\n",
       "    <tr>\n",
       "      <th>teaching assistant</th>\n",
       "      <td>1.0</td>\n",
       "      <td>1.800000e+06</td>\n",
       "      <td>NaN</td>\n",
       "      <td>1800000.0</td>\n",
       "      <td>1800000.0</td>\n",
       "      <td>1800000.0</td>\n",
       "      <td>1800000.0</td>\n",
       "      <td>1800000.0</td>\n",
       "    </tr>\n",
       "    <tr>\n",
       "      <th>team lead</th>\n",
       "      <td>2.0</td>\n",
       "      <td>1.800000e+06</td>\n",
       "      <td>565685.424949</td>\n",
       "      <td>1400000.0</td>\n",
       "      <td>1600000.0</td>\n",
       "      <td>1800000.0</td>\n",
       "      <td>2000000.0</td>\n",
       "      <td>2200000.0</td>\n",
       "    </tr>\n",
       "    <tr>\n",
       "      <th>technology analyst</th>\n",
       "      <td>3.0</td>\n",
       "      <td>8.966667e+05</td>\n",
       "      <td>351046.055858</td>\n",
       "      <td>660000.0</td>\n",
       "      <td>695000.0</td>\n",
       "      <td>730000.0</td>\n",
       "      <td>1015000.0</td>\n",
       "      <td>1300000.0</td>\n",
       "    </tr>\n",
       "  </tbody>\n",
       "</table>\n",
       "<p>108 rows × 8 columns</p>\n",
       "</div>"
      ],
      "text/plain": [
       "                                  count          mean            std  \\\n",
       "job_position                                                           \n",
       "Others                           8229.0  1.930377e+06  695369.034053   \n",
       "android engineer                  913.0  1.784897e+06  638704.770985   \n",
       "application developer               1.0  1.150000e+06            NaN   \n",
       "application developer analyst       1.0  6.000000e+05            NaN   \n",
       "application development analyst     2.0  8.150000e+05  233345.237792   \n",
       "...                                 ...           ...            ...   \n",
       "support engineer                  683.0  1.190779e+06  552019.578789   \n",
       "system engineer                    10.0  8.420000e+05  373118.986086   \n",
       "teaching assistant                  1.0  1.800000e+06            NaN   \n",
       "team lead                           2.0  1.800000e+06  565685.424949   \n",
       "technology analyst                  3.0  8.966667e+05  351046.055858   \n",
       "\n",
       "                                       min        25%        50%        75%  \\\n",
       "job_position                                                                  \n",
       "Others                            100000.0  1400000.0  1900000.0  2500000.0   \n",
       "android engineer                   14000.0  1320000.0  1700000.0  2200000.0   \n",
       "application developer            1150000.0  1150000.0  1150000.0  1150000.0   \n",
       "application developer analyst     600000.0   600000.0   600000.0   600000.0   \n",
       "application development analyst   650000.0   732500.0   815000.0   897500.0   \n",
       "...                                    ...        ...        ...        ...   \n",
       "support engineer                  350000.0   830000.0  1000000.0  1400000.0   \n",
       "system engineer                   400000.0   550000.0   775000.0  1100000.0   \n",
       "teaching assistant               1800000.0  1800000.0  1800000.0  1800000.0   \n",
       "team lead                        1400000.0  1600000.0  1800000.0  2000000.0   \n",
       "technology analyst                660000.0   695000.0   730000.0  1015000.0   \n",
       "\n",
       "                                       max  \n",
       "job_position                                \n",
       "Others                           3330000.0  \n",
       "android engineer                 3300000.0  \n",
       "application developer            1150000.0  \n",
       "application developer analyst     600000.0  \n",
       "application development analyst   980000.0  \n",
       "...                                    ...  \n",
       "support engineer                 3310000.0  \n",
       "system engineer                  1500000.0  \n",
       "teaching assistant               1800000.0  \n",
       "team lead                        2200000.0  \n",
       "technology analyst               1300000.0  \n",
       "\n",
       "[108 rows x 8 columns]"
      ]
     },
     "execution_count": 413,
     "metadata": {},
     "output_type": "execute_result"
    }
   ],
   "source": [
    "# job position that has the highest class\n",
    "df_cj[df_cj['class']==1][['job_position','ctc']].groupby('job_position')['ctc'].describe()"
   ]
  },
  {
   "cell_type": "code",
   "execution_count": 414,
   "id": "564763be",
   "metadata": {},
   "outputs": [
    {
     "data": {
      "text/html": [
       "<div>\n",
       "<style scoped>\n",
       "    .dataframe tbody tr th:only-of-type {\n",
       "        vertical-align: middle;\n",
       "    }\n",
       "\n",
       "    .dataframe tbody tr th {\n",
       "        vertical-align: top;\n",
       "    }\n",
       "\n",
       "    .dataframe thead th {\n",
       "        text-align: right;\n",
       "    }\n",
       "</style>\n",
       "<table border=\"1\" class=\"dataframe\">\n",
       "  <thead>\n",
       "    <tr style=\"text-align: right;\">\n",
       "      <th></th>\n",
       "      <th>company_hash</th>\n",
       "      <th>orgyear</th>\n",
       "      <th>ctc</th>\n",
       "      <th>job_position</th>\n",
       "      <th>ctc_updated_year</th>\n",
       "      <th>years_of_experience</th>\n",
       "      <th>count</th>\n",
       "      <th>mean</th>\n",
       "      <th>std</th>\n",
       "      <th>min</th>\n",
       "      <th>25%</th>\n",
       "      <th>50%</th>\n",
       "      <th>75%</th>\n",
       "      <th>max</th>\n",
       "      <th>class</th>\n",
       "    </tr>\n",
       "  </thead>\n",
       "  <tbody>\n",
       "    <tr>\n",
       "      <th>0</th>\n",
       "      <td>atrgxnnt xzaxv</td>\n",
       "      <td>2016.0</td>\n",
       "      <td>1100000</td>\n",
       "      <td>other</td>\n",
       "      <td>2020.0</td>\n",
       "      <td>6.0</td>\n",
       "      <td>2.0</td>\n",
       "      <td>1.085000e+06</td>\n",
       "      <td>21213.203436</td>\n",
       "      <td>1070000.0</td>\n",
       "      <td>1077500.0</td>\n",
       "      <td>1085000.0</td>\n",
       "      <td>1092500.0</td>\n",
       "      <td>1100000.0</td>\n",
       "      <td>1</td>\n",
       "    </tr>\n",
       "    <tr>\n",
       "      <th>1</th>\n",
       "      <td>qtrxvzwt xzegwgbb rxbxnta</td>\n",
       "      <td>2018.0</td>\n",
       "      <td>449999</td>\n",
       "      <td>fullstack engineer</td>\n",
       "      <td>2019.0</td>\n",
       "      <td>4.0</td>\n",
       "      <td>25.0</td>\n",
       "      <td>9.882000e+05</td>\n",
       "      <td>487499.789590</td>\n",
       "      <td>300000.0</td>\n",
       "      <td>600000.0</td>\n",
       "      <td>850000.0</td>\n",
       "      <td>1380000.0</td>\n",
       "      <td>2000000.0</td>\n",
       "      <td>3</td>\n",
       "    </tr>\n",
       "    <tr>\n",
       "      <th>2</th>\n",
       "      <td>Others</td>\n",
       "      <td>2015.0</td>\n",
       "      <td>2000000</td>\n",
       "      <td>backend engineer</td>\n",
       "      <td>2020.0</td>\n",
       "      <td>7.0</td>\n",
       "      <td>3927.0</td>\n",
       "      <td>9.958526e+05</td>\n",
       "      <td>810507.825376</td>\n",
       "      <td>1000.0</td>\n",
       "      <td>300000.0</td>\n",
       "      <td>819999.0</td>\n",
       "      <td>1510000.0</td>\n",
       "      <td>3300000.0</td>\n",
       "      <td>1</td>\n",
       "    </tr>\n",
       "    <tr>\n",
       "      <th>3</th>\n",
       "      <td>ngpgutaxv</td>\n",
       "      <td>2017.0</td>\n",
       "      <td>700000</td>\n",
       "      <td>backend engineer</td>\n",
       "      <td>2019.0</td>\n",
       "      <td>5.0</td>\n",
       "      <td>24.0</td>\n",
       "      <td>1.416667e+06</td>\n",
       "      <td>545341.270627</td>\n",
       "      <td>520000.0</td>\n",
       "      <td>1047500.0</td>\n",
       "      <td>1375000.0</td>\n",
       "      <td>1792500.0</td>\n",
       "      <td>2600000.0</td>\n",
       "      <td>3</td>\n",
       "    </tr>\n",
       "    <tr>\n",
       "      <th>4</th>\n",
       "      <td>qxen sqghu</td>\n",
       "      <td>2017.0</td>\n",
       "      <td>1400000</td>\n",
       "      <td>fullstack engineer</td>\n",
       "      <td>2019.0</td>\n",
       "      <td>5.0</td>\n",
       "      <td>3.0</td>\n",
       "      <td>8.466667e+05</td>\n",
       "      <td>480138.868801</td>\n",
       "      <td>540000.0</td>\n",
       "      <td>570000.0</td>\n",
       "      <td>600000.0</td>\n",
       "      <td>1000000.0</td>\n",
       "      <td>1400000.0</td>\n",
       "      <td>1</td>\n",
       "    </tr>\n",
       "  </tbody>\n",
       "</table>\n",
       "</div>"
      ],
      "text/plain": [
       "                company_hash  orgyear      ctc        job_position  \\\n",
       "0             atrgxnnt xzaxv   2016.0  1100000               other   \n",
       "1  qtrxvzwt xzegwgbb rxbxnta   2018.0   449999  fullstack engineer   \n",
       "2                     Others   2015.0  2000000    backend engineer   \n",
       "3                  ngpgutaxv   2017.0   700000    backend engineer   \n",
       "4                 qxen sqghu   2017.0  1400000  fullstack engineer   \n",
       "\n",
       "   ctc_updated_year  years_of_experience   count          mean            std  \\\n",
       "0            2020.0                  6.0     2.0  1.085000e+06   21213.203436   \n",
       "1            2019.0                  4.0    25.0  9.882000e+05  487499.789590   \n",
       "2            2020.0                  7.0  3927.0  9.958526e+05  810507.825376   \n",
       "3            2019.0                  5.0    24.0  1.416667e+06  545341.270627   \n",
       "4            2019.0                  5.0     3.0  8.466667e+05  480138.868801   \n",
       "\n",
       "         min        25%        50%        75%        max  class  \n",
       "0  1070000.0  1077500.0  1085000.0  1092500.0  1100000.0      1  \n",
       "1   300000.0   600000.0   850000.0  1380000.0  2000000.0      3  \n",
       "2     1000.0   300000.0   819999.0  1510000.0  3300000.0      1  \n",
       "3   520000.0  1047500.0  1375000.0  1792500.0  2600000.0      3  \n",
       "4   540000.0   570000.0   600000.0  1000000.0  1400000.0      1  "
      ]
     },
     "execution_count": 414,
     "metadata": {},
     "output_type": "execute_result"
    }
   ],
   "source": [
    "df_cj.head()"
   ]
  },
  {
   "cell_type": "code",
   "execution_count": 415,
   "id": "00feb9ff",
   "metadata": {},
   "outputs": [
    {
     "data": {
      "text/html": [
       "<div>\n",
       "<style scoped>\n",
       "    .dataframe tbody tr th:only-of-type {\n",
       "        vertical-align: middle;\n",
       "    }\n",
       "\n",
       "    .dataframe tbody tr th {\n",
       "        vertical-align: top;\n",
       "    }\n",
       "\n",
       "    .dataframe thead th {\n",
       "        text-align: right;\n",
       "    }\n",
       "</style>\n",
       "<table border=\"1\" class=\"dataframe\">\n",
       "  <thead>\n",
       "    <tr style=\"text-align: right;\">\n",
       "      <th></th>\n",
       "      <th>company_hash</th>\n",
       "      <th>orgyear</th>\n",
       "      <th>ctc</th>\n",
       "      <th>job_position</th>\n",
       "      <th>ctc_updated_year</th>\n",
       "      <th>years_of_experience</th>\n",
       "      <th>count</th>\n",
       "      <th>mean</th>\n",
       "      <th>std</th>\n",
       "      <th>min</th>\n",
       "      <th>25%</th>\n",
       "      <th>50%</th>\n",
       "      <th>75%</th>\n",
       "      <th>max</th>\n",
       "      <th>designation</th>\n",
       "    </tr>\n",
       "  </thead>\n",
       "  <tbody>\n",
       "    <tr>\n",
       "      <th>0</th>\n",
       "      <td>atrgxnnt xzaxv</td>\n",
       "      <td>2016.0</td>\n",
       "      <td>1100000</td>\n",
       "      <td>other</td>\n",
       "      <td>2020.0</td>\n",
       "      <td>6.0</td>\n",
       "      <td>1.0</td>\n",
       "      <td>1.100000e+06</td>\n",
       "      <td>NaN</td>\n",
       "      <td>1100000.0</td>\n",
       "      <td>1100000.0</td>\n",
       "      <td>1100000.0</td>\n",
       "      <td>1100000.0</td>\n",
       "      <td>1100000.0</td>\n",
       "      <td>2</td>\n",
       "    </tr>\n",
       "    <tr>\n",
       "      <th>1</th>\n",
       "      <td>qtrxvzwt xzegwgbb rxbxnta</td>\n",
       "      <td>2018.0</td>\n",
       "      <td>449999</td>\n",
       "      <td>fullstack engineer</td>\n",
       "      <td>2019.0</td>\n",
       "      <td>4.0</td>\n",
       "      <td>7.0</td>\n",
       "      <td>7.742856e+05</td>\n",
       "      <td>250922.324350</td>\n",
       "      <td>449999.0</td>\n",
       "      <td>610000.0</td>\n",
       "      <td>750000.0</td>\n",
       "      <td>900000.0</td>\n",
       "      <td>1200000.0</td>\n",
       "      <td>3</td>\n",
       "    </tr>\n",
       "    <tr>\n",
       "      <th>2</th>\n",
       "      <td>Others</td>\n",
       "      <td>2015.0</td>\n",
       "      <td>2000000</td>\n",
       "      <td>backend engineer</td>\n",
       "      <td>2020.0</td>\n",
       "      <td>7.0</td>\n",
       "      <td>456.0</td>\n",
       "      <td>9.609559e+05</td>\n",
       "      <td>776546.830662</td>\n",
       "      <td>1000.0</td>\n",
       "      <td>307500.0</td>\n",
       "      <td>800000.0</td>\n",
       "      <td>1435000.0</td>\n",
       "      <td>3200000.0</td>\n",
       "      <td>1</td>\n",
       "    </tr>\n",
       "    <tr>\n",
       "      <th>3</th>\n",
       "      <td>ngpgutaxv</td>\n",
       "      <td>2017.0</td>\n",
       "      <td>700000</td>\n",
       "      <td>backend engineer</td>\n",
       "      <td>2019.0</td>\n",
       "      <td>5.0</td>\n",
       "      <td>7.0</td>\n",
       "      <td>1.158571e+06</td>\n",
       "      <td>404780.951933</td>\n",
       "      <td>700000.0</td>\n",
       "      <td>825000.0</td>\n",
       "      <td>1200000.0</td>\n",
       "      <td>1405000.0</td>\n",
       "      <td>1750000.0</td>\n",
       "      <td>3</td>\n",
       "    </tr>\n",
       "    <tr>\n",
       "      <th>4</th>\n",
       "      <td>qxen sqghu</td>\n",
       "      <td>2017.0</td>\n",
       "      <td>1400000</td>\n",
       "      <td>fullstack engineer</td>\n",
       "      <td>2019.0</td>\n",
       "      <td>5.0</td>\n",
       "      <td>1.0</td>\n",
       "      <td>1.400000e+06</td>\n",
       "      <td>NaN</td>\n",
       "      <td>1400000.0</td>\n",
       "      <td>1400000.0</td>\n",
       "      <td>1400000.0</td>\n",
       "      <td>1400000.0</td>\n",
       "      <td>1400000.0</td>\n",
       "      <td>2</td>\n",
       "    </tr>\n",
       "  </tbody>\n",
       "</table>\n",
       "</div>"
      ],
      "text/plain": [
       "                company_hash  orgyear      ctc        job_position  \\\n",
       "0             atrgxnnt xzaxv   2016.0  1100000               other   \n",
       "1  qtrxvzwt xzegwgbb rxbxnta   2018.0   449999  fullstack engineer   \n",
       "2                     Others   2015.0  2000000    backend engineer   \n",
       "3                  ngpgutaxv   2017.0   700000    backend engineer   \n",
       "4                 qxen sqghu   2017.0  1400000  fullstack engineer   \n",
       "\n",
       "   ctc_updated_year  years_of_experience  count          mean            std  \\\n",
       "0            2020.0                  6.0    1.0  1.100000e+06            NaN   \n",
       "1            2019.0                  4.0    7.0  7.742856e+05  250922.324350   \n",
       "2            2020.0                  7.0  456.0  9.609559e+05  776546.830662   \n",
       "3            2019.0                  5.0    7.0  1.158571e+06  404780.951933   \n",
       "4            2019.0                  5.0    1.0  1.400000e+06            NaN   \n",
       "\n",
       "         min        25%        50%        75%        max  designation  \n",
       "0  1100000.0  1100000.0  1100000.0  1100000.0  1100000.0            2  \n",
       "1   449999.0   610000.0   750000.0   900000.0  1200000.0            3  \n",
       "2     1000.0   307500.0   800000.0  1435000.0  3200000.0            1  \n",
       "3   700000.0   825000.0  1200000.0  1405000.0  1750000.0            3  \n",
       "4  1400000.0  1400000.0  1400000.0  1400000.0  1400000.0            2  "
      ]
     },
     "execution_count": 415,
     "metadata": {},
     "output_type": "execute_result"
    }
   ],
   "source": [
    "df_cjy.head()"
   ]
  },
  {
   "cell_type": "code",
   "execution_count": 416,
   "id": "4026921d",
   "metadata": {},
   "outputs": [
    {
     "data": {
      "text/plain": [
       "(146053, 15)"
      ]
     },
     "execution_count": 416,
     "metadata": {},
     "output_type": "execute_result"
    }
   ],
   "source": [
    "df_cj.shape"
   ]
  },
  {
   "cell_type": "code",
   "execution_count": 417,
   "id": "5a6c69d4",
   "metadata": {},
   "outputs": [
    {
     "data": {
      "text/plain": [
       "(146053, 15)"
      ]
     },
     "execution_count": 417,
     "metadata": {},
     "output_type": "execute_result"
    }
   ],
   "source": [
    "df_cjy.shape"
   ]
  },
  {
   "cell_type": "code",
   "execution_count": 418,
   "id": "8912cb77",
   "metadata": {},
   "outputs": [],
   "source": [
    "df_cj.drop(columns=['count','mean','std','min','25%','50%','75%','max'],inplace=True)\n",
    "df_cjy.drop(columns=['count','mean','std','min','25%','50%','75%','max'],inplace=True)"
   ]
  },
  {
   "cell_type": "code",
   "execution_count": 419,
   "id": "41febc60",
   "metadata": {},
   "outputs": [
    {
     "data": {
      "text/plain": [
       "(146053, 7)"
      ]
     },
     "execution_count": 419,
     "metadata": {},
     "output_type": "execute_result"
    }
   ],
   "source": [
    "df_cj.drop_duplicates().shape"
   ]
  },
  {
   "cell_type": "code",
   "execution_count": 420,
   "id": "cdca1471",
   "metadata": {},
   "outputs": [
    {
     "data": {
      "text/plain": [
       "(146053, 7)"
      ]
     },
     "execution_count": 420,
     "metadata": {},
     "output_type": "execute_result"
    }
   ],
   "source": [
    "df_cjy.drop_duplicates().shape"
   ]
  },
  {
   "cell_type": "code",
   "execution_count": 421,
   "id": "52ccfaf8",
   "metadata": {},
   "outputs": [],
   "source": [
    "df_cjy_cj=df_cj.merge(df_cjy, on=['company_hash','orgyear','ctc','job_position','ctc_updated_year','years_of_experience'], how='left')"
   ]
  },
  {
   "cell_type": "code",
   "execution_count": 422,
   "id": "d14f1176",
   "metadata": {},
   "outputs": [
    {
     "data": {
      "text/plain": [
       "(146053, 8)"
      ]
     },
     "execution_count": 422,
     "metadata": {},
     "output_type": "execute_result"
    }
   ],
   "source": [
    "df_cjy_cj.shape"
   ]
  },
  {
   "cell_type": "code",
   "execution_count": 423,
   "id": "0e9b3b53",
   "metadata": {},
   "outputs": [
    {
     "data": {
      "text/plain": [
       "(146053, 8)"
      ]
     },
     "execution_count": 423,
     "metadata": {},
     "output_type": "execute_result"
    }
   ],
   "source": [
    "df_cjy_cj.drop_duplicates().shape"
   ]
  },
  {
   "cell_type": "code",
   "execution_count": 424,
   "id": "8e9cf4ff",
   "metadata": {},
   "outputs": [],
   "source": [
    "#Manual clustering based on company"
   ]
  },
  {
   "cell_type": "code",
   "execution_count": 425,
   "id": "0696c67b",
   "metadata": {},
   "outputs": [],
   "source": [
    "grouped_c=df.groupby(['company_hash'])['ctc'].describe()"
   ]
  },
  {
   "cell_type": "code",
   "execution_count": 426,
   "id": "47014027",
   "metadata": {},
   "outputs": [],
   "source": [
    "df_c=df.merge(grouped_c, on=['company_hash'], how='left')"
   ]
  },
  {
   "cell_type": "code",
   "execution_count": 427,
   "id": "225453f0",
   "metadata": {},
   "outputs": [
    {
     "data": {
      "text/html": [
       "<div>\n",
       "<style scoped>\n",
       "    .dataframe tbody tr th:only-of-type {\n",
       "        vertical-align: middle;\n",
       "    }\n",
       "\n",
       "    .dataframe tbody tr th {\n",
       "        vertical-align: top;\n",
       "    }\n",
       "\n",
       "    .dataframe thead th {\n",
       "        text-align: right;\n",
       "    }\n",
       "</style>\n",
       "<table border=\"1\" class=\"dataframe\">\n",
       "  <thead>\n",
       "    <tr style=\"text-align: right;\">\n",
       "      <th></th>\n",
       "      <th>company_hash</th>\n",
       "      <th>orgyear</th>\n",
       "      <th>ctc</th>\n",
       "      <th>job_position</th>\n",
       "      <th>ctc_updated_year</th>\n",
       "      <th>years_of_experience</th>\n",
       "      <th>count</th>\n",
       "      <th>mean</th>\n",
       "      <th>std</th>\n",
       "      <th>min</th>\n",
       "      <th>25%</th>\n",
       "      <th>50%</th>\n",
       "      <th>75%</th>\n",
       "      <th>max</th>\n",
       "    </tr>\n",
       "  </thead>\n",
       "  <tbody>\n",
       "    <tr>\n",
       "      <th>0</th>\n",
       "      <td>atrgxnnt xzaxv</td>\n",
       "      <td>2016.0</td>\n",
       "      <td>1100000</td>\n",
       "      <td>other</td>\n",
       "      <td>2020.0</td>\n",
       "      <td>6.0</td>\n",
       "      <td>9.0</td>\n",
       "      <td>1.115667e+06</td>\n",
       "      <td>458111.885897</td>\n",
       "      <td>500000.0</td>\n",
       "      <td>800000.0</td>\n",
       "      <td>1070000.0</td>\n",
       "      <td>1500000.0</td>\n",
       "      <td>1771000.0</td>\n",
       "    </tr>\n",
       "    <tr>\n",
       "      <th>1</th>\n",
       "      <td>qtrxvzwt xzegwgbb rxbxnta</td>\n",
       "      <td>2018.0</td>\n",
       "      <td>449999</td>\n",
       "      <td>fullstack engineer</td>\n",
       "      <td>2019.0</td>\n",
       "      <td>4.0</td>\n",
       "      <td>384.0</td>\n",
       "      <td>1.055291e+06</td>\n",
       "      <td>636095.670307</td>\n",
       "      <td>10000.0</td>\n",
       "      <td>600000.0</td>\n",
       "      <td>850000.0</td>\n",
       "      <td>1500000.0</td>\n",
       "      <td>3200000.0</td>\n",
       "    </tr>\n",
       "    <tr>\n",
       "      <th>2</th>\n",
       "      <td>Others</td>\n",
       "      <td>2015.0</td>\n",
       "      <td>2000000</td>\n",
       "      <td>backend engineer</td>\n",
       "      <td>2020.0</td>\n",
       "      <td>7.0</td>\n",
       "      <td>24903.0</td>\n",
       "      <td>9.647442e+05</td>\n",
       "      <td>760124.617272</td>\n",
       "      <td>15.0</td>\n",
       "      <td>390000.0</td>\n",
       "      <td>800000.0</td>\n",
       "      <td>1400000.0</td>\n",
       "      <td>3329999.0</td>\n",
       "    </tr>\n",
       "    <tr>\n",
       "      <th>3</th>\n",
       "      <td>ngpgutaxv</td>\n",
       "      <td>2017.0</td>\n",
       "      <td>700000</td>\n",
       "      <td>backend engineer</td>\n",
       "      <td>2019.0</td>\n",
       "      <td>5.0</td>\n",
       "      <td>59.0</td>\n",
       "      <td>1.455508e+06</td>\n",
       "      <td>655423.458086</td>\n",
       "      <td>200000.0</td>\n",
       "      <td>1075000.0</td>\n",
       "      <td>1300000.0</td>\n",
       "      <td>1850000.0</td>\n",
       "      <td>3160000.0</td>\n",
       "    </tr>\n",
       "    <tr>\n",
       "      <th>4</th>\n",
       "      <td>qxen sqghu</td>\n",
       "      <td>2017.0</td>\n",
       "      <td>1400000</td>\n",
       "      <td>fullstack engineer</td>\n",
       "      <td>2019.0</td>\n",
       "      <td>5.0</td>\n",
       "      <td>6.0</td>\n",
       "      <td>9.400000e+05</td>\n",
       "      <td>389871.773792</td>\n",
       "      <td>540000.0</td>\n",
       "      <td>625000.0</td>\n",
       "      <td>850000.0</td>\n",
       "      <td>1300000.0</td>\n",
       "      <td>1400000.0</td>\n",
       "    </tr>\n",
       "  </tbody>\n",
       "</table>\n",
       "</div>"
      ],
      "text/plain": [
       "                company_hash  orgyear      ctc        job_position  \\\n",
       "0             atrgxnnt xzaxv   2016.0  1100000               other   \n",
       "1  qtrxvzwt xzegwgbb rxbxnta   2018.0   449999  fullstack engineer   \n",
       "2                     Others   2015.0  2000000    backend engineer   \n",
       "3                  ngpgutaxv   2017.0   700000    backend engineer   \n",
       "4                 qxen sqghu   2017.0  1400000  fullstack engineer   \n",
       "\n",
       "   ctc_updated_year  years_of_experience    count          mean  \\\n",
       "0            2020.0                  6.0      9.0  1.115667e+06   \n",
       "1            2019.0                  4.0    384.0  1.055291e+06   \n",
       "2            2020.0                  7.0  24903.0  9.647442e+05   \n",
       "3            2019.0                  5.0     59.0  1.455508e+06   \n",
       "4            2019.0                  5.0      6.0  9.400000e+05   \n",
       "\n",
       "             std       min        25%        50%        75%        max  \n",
       "0  458111.885897  500000.0   800000.0  1070000.0  1500000.0  1771000.0  \n",
       "1  636095.670307   10000.0   600000.0   850000.0  1500000.0  3200000.0  \n",
       "2  760124.617272      15.0   390000.0   800000.0  1400000.0  3329999.0  \n",
       "3  655423.458086  200000.0  1075000.0  1300000.0  1850000.0  3160000.0  \n",
       "4  389871.773792  540000.0   625000.0   850000.0  1300000.0  1400000.0  "
      ]
     },
     "execution_count": 427,
     "metadata": {},
     "output_type": "execute_result"
    }
   ],
   "source": [
    "df_c.head(5)"
   ]
  },
  {
   "cell_type": "code",
   "execution_count": 428,
   "id": "fa608886",
   "metadata": {},
   "outputs": [
    {
     "data": {
      "text/html": [
       "<div>\n",
       "<style scoped>\n",
       "    .dataframe tbody tr th:only-of-type {\n",
       "        vertical-align: middle;\n",
       "    }\n",
       "\n",
       "    .dataframe tbody tr th {\n",
       "        vertical-align: top;\n",
       "    }\n",
       "\n",
       "    .dataframe thead th {\n",
       "        text-align: right;\n",
       "    }\n",
       "</style>\n",
       "<table border=\"1\" class=\"dataframe\">\n",
       "  <thead>\n",
       "    <tr style=\"text-align: right;\">\n",
       "      <th></th>\n",
       "      <th>company_hash</th>\n",
       "      <th>orgyear</th>\n",
       "      <th>ctc</th>\n",
       "      <th>job_position</th>\n",
       "      <th>ctc_updated_year</th>\n",
       "      <th>years_of_experience</th>\n",
       "      <th>count</th>\n",
       "      <th>mean</th>\n",
       "      <th>std</th>\n",
       "      <th>min</th>\n",
       "      <th>25%</th>\n",
       "      <th>50%</th>\n",
       "      <th>75%</th>\n",
       "      <th>max</th>\n",
       "    </tr>\n",
       "  </thead>\n",
       "  <tbody>\n",
       "    <tr>\n",
       "      <th>30026</th>\n",
       "      <td>Others</td>\n",
       "      <td>2017.0</td>\n",
       "      <td>730000</td>\n",
       "      <td>ios engineer</td>\n",
       "      <td>2020.0</td>\n",
       "      <td>5.0</td>\n",
       "      <td>24903.0</td>\n",
       "      <td>964744.216801</td>\n",
       "      <td>760124.617272</td>\n",
       "      <td>15.0</td>\n",
       "      <td>390000.0</td>\n",
       "      <td>800000.0</td>\n",
       "      <td>1400000.0</td>\n",
       "      <td>3329999.0</td>\n",
       "    </tr>\n",
       "    <tr>\n",
       "      <th>37763</th>\n",
       "      <td>Others</td>\n",
       "      <td>2021.0</td>\n",
       "      <td>1200000</td>\n",
       "      <td>Others</td>\n",
       "      <td>2021.0</td>\n",
       "      <td>1.0</td>\n",
       "      <td>24903.0</td>\n",
       "      <td>964744.216801</td>\n",
       "      <td>760124.617272</td>\n",
       "      <td>15.0</td>\n",
       "      <td>390000.0</td>\n",
       "      <td>800000.0</td>\n",
       "      <td>1400000.0</td>\n",
       "      <td>3329999.0</td>\n",
       "    </tr>\n",
       "    <tr>\n",
       "      <th>76928</th>\n",
       "      <td>Others</td>\n",
       "      <td>2022.0</td>\n",
       "      <td>1410000</td>\n",
       "      <td>Others</td>\n",
       "      <td>2022.0</td>\n",
       "      <td>0.0</td>\n",
       "      <td>24903.0</td>\n",
       "      <td>964744.216801</td>\n",
       "      <td>760124.617272</td>\n",
       "      <td>15.0</td>\n",
       "      <td>390000.0</td>\n",
       "      <td>800000.0</td>\n",
       "      <td>1400000.0</td>\n",
       "      <td>3329999.0</td>\n",
       "    </tr>\n",
       "    <tr>\n",
       "      <th>17694</th>\n",
       "      <td>Others</td>\n",
       "      <td>2012.0</td>\n",
       "      <td>900000</td>\n",
       "      <td>fullstack engineer</td>\n",
       "      <td>2020.0</td>\n",
       "      <td>10.0</td>\n",
       "      <td>24903.0</td>\n",
       "      <td>964744.216801</td>\n",
       "      <td>760124.617272</td>\n",
       "      <td>15.0</td>\n",
       "      <td>390000.0</td>\n",
       "      <td>800000.0</td>\n",
       "      <td>1400000.0</td>\n",
       "      <td>3329999.0</td>\n",
       "    </tr>\n",
       "    <tr>\n",
       "      <th>76939</th>\n",
       "      <td>Others</td>\n",
       "      <td>2019.0</td>\n",
       "      <td>1900000</td>\n",
       "      <td>Others</td>\n",
       "      <td>2021.0</td>\n",
       "      <td>3.0</td>\n",
       "      <td>24903.0</td>\n",
       "      <td>964744.216801</td>\n",
       "      <td>760124.617272</td>\n",
       "      <td>15.0</td>\n",
       "      <td>390000.0</td>\n",
       "      <td>800000.0</td>\n",
       "      <td>1400000.0</td>\n",
       "      <td>3329999.0</td>\n",
       "    </tr>\n",
       "    <tr>\n",
       "      <th>...</th>\n",
       "      <td>...</td>\n",
       "      <td>...</td>\n",
       "      <td>...</td>\n",
       "      <td>...</td>\n",
       "      <td>...</td>\n",
       "      <td>...</td>\n",
       "      <td>...</td>\n",
       "      <td>...</td>\n",
       "      <td>...</td>\n",
       "      <td>...</td>\n",
       "      <td>...</td>\n",
       "      <td>...</td>\n",
       "      <td>...</td>\n",
       "      <td>...</td>\n",
       "    </tr>\n",
       "    <tr>\n",
       "      <th>73909</th>\n",
       "      <td>zxztrtvuo</td>\n",
       "      <td>2020.0</td>\n",
       "      <td>400000</td>\n",
       "      <td>Others</td>\n",
       "      <td>2020.0</td>\n",
       "      <td>2.0</td>\n",
       "      <td>69.0</td>\n",
       "      <td>957217.376812</td>\n",
       "      <td>564608.271459</td>\n",
       "      <td>400000.0</td>\n",
       "      <td>500000.0</td>\n",
       "      <td>750000.0</td>\n",
       "      <td>1200000.0</td>\n",
       "      <td>2700000.0</td>\n",
       "    </tr>\n",
       "    <tr>\n",
       "      <th>121923</th>\n",
       "      <td>zxztrtvuo</td>\n",
       "      <td>2015.0</td>\n",
       "      <td>1200000</td>\n",
       "      <td>frontend engineer</td>\n",
       "      <td>2019.0</td>\n",
       "      <td>7.0</td>\n",
       "      <td>69.0</td>\n",
       "      <td>957217.376812</td>\n",
       "      <td>564608.271459</td>\n",
       "      <td>400000.0</td>\n",
       "      <td>500000.0</td>\n",
       "      <td>750000.0</td>\n",
       "      <td>1200000.0</td>\n",
       "      <td>2700000.0</td>\n",
       "    </tr>\n",
       "    <tr>\n",
       "      <th>81725</th>\n",
       "      <td>zxztrtvuo</td>\n",
       "      <td>2019.0</td>\n",
       "      <td>400000</td>\n",
       "      <td>Others</td>\n",
       "      <td>2021.0</td>\n",
       "      <td>3.0</td>\n",
       "      <td>69.0</td>\n",
       "      <td>957217.376812</td>\n",
       "      <td>564608.271459</td>\n",
       "      <td>400000.0</td>\n",
       "      <td>500000.0</td>\n",
       "      <td>750000.0</td>\n",
       "      <td>1200000.0</td>\n",
       "      <td>2700000.0</td>\n",
       "    </tr>\n",
       "    <tr>\n",
       "      <th>116629</th>\n",
       "      <td>zxztrtvuo</td>\n",
       "      <td>2017.0</td>\n",
       "      <td>1000000</td>\n",
       "      <td>backend engineer</td>\n",
       "      <td>2019.0</td>\n",
       "      <td>5.0</td>\n",
       "      <td>69.0</td>\n",
       "      <td>957217.376812</td>\n",
       "      <td>564608.271459</td>\n",
       "      <td>400000.0</td>\n",
       "      <td>500000.0</td>\n",
       "      <td>750000.0</td>\n",
       "      <td>1200000.0</td>\n",
       "      <td>2700000.0</td>\n",
       "    </tr>\n",
       "    <tr>\n",
       "      <th>121737</th>\n",
       "      <td>zxztrtvuo</td>\n",
       "      <td>2020.0</td>\n",
       "      <td>450000</td>\n",
       "      <td>Others</td>\n",
       "      <td>2020.0</td>\n",
       "      <td>2.0</td>\n",
       "      <td>69.0</td>\n",
       "      <td>957217.376812</td>\n",
       "      <td>564608.271459</td>\n",
       "      <td>400000.0</td>\n",
       "      <td>500000.0</td>\n",
       "      <td>750000.0</td>\n",
       "      <td>1200000.0</td>\n",
       "      <td>2700000.0</td>\n",
       "    </tr>\n",
       "  </tbody>\n",
       "</table>\n",
       "<p>147140 rows × 14 columns</p>\n",
       "</div>"
      ],
      "text/plain": [
       "       company_hash  orgyear      ctc        job_position  ctc_updated_year  \\\n",
       "30026        Others   2017.0   730000        ios engineer            2020.0   \n",
       "37763        Others   2021.0  1200000              Others            2021.0   \n",
       "76928        Others   2022.0  1410000              Others            2022.0   \n",
       "17694        Others   2012.0   900000  fullstack engineer            2020.0   \n",
       "76939        Others   2019.0  1900000              Others            2021.0   \n",
       "...             ...      ...      ...                 ...               ...   \n",
       "73909     zxztrtvuo   2020.0   400000              Others            2020.0   \n",
       "121923    zxztrtvuo   2015.0  1200000   frontend engineer            2019.0   \n",
       "81725     zxztrtvuo   2019.0   400000              Others            2021.0   \n",
       "116629    zxztrtvuo   2017.0  1000000    backend engineer            2019.0   \n",
       "121737    zxztrtvuo   2020.0   450000              Others            2020.0   \n",
       "\n",
       "        years_of_experience    count           mean            std       min  \\\n",
       "30026                   5.0  24903.0  964744.216801  760124.617272      15.0   \n",
       "37763                   1.0  24903.0  964744.216801  760124.617272      15.0   \n",
       "76928                   0.0  24903.0  964744.216801  760124.617272      15.0   \n",
       "17694                  10.0  24903.0  964744.216801  760124.617272      15.0   \n",
       "76939                   3.0  24903.0  964744.216801  760124.617272      15.0   \n",
       "...                     ...      ...            ...            ...       ...   \n",
       "73909                   2.0     69.0  957217.376812  564608.271459  400000.0   \n",
       "121923                  7.0     69.0  957217.376812  564608.271459  400000.0   \n",
       "81725                   3.0     69.0  957217.376812  564608.271459  400000.0   \n",
       "116629                  5.0     69.0  957217.376812  564608.271459  400000.0   \n",
       "121737                  2.0     69.0  957217.376812  564608.271459  400000.0   \n",
       "\n",
       "             25%       50%        75%        max  \n",
       "30026   390000.0  800000.0  1400000.0  3329999.0  \n",
       "37763   390000.0  800000.0  1400000.0  3329999.0  \n",
       "76928   390000.0  800000.0  1400000.0  3329999.0  \n",
       "17694   390000.0  800000.0  1400000.0  3329999.0  \n",
       "76939   390000.0  800000.0  1400000.0  3329999.0  \n",
       "...          ...       ...        ...        ...  \n",
       "73909   500000.0  750000.0  1200000.0  2700000.0  \n",
       "121923  500000.0  750000.0  1200000.0  2700000.0  \n",
       "81725   500000.0  750000.0  1200000.0  2700000.0  \n",
       "116629  500000.0  750000.0  1200000.0  2700000.0  \n",
       "121737  500000.0  750000.0  1200000.0  2700000.0  \n",
       "\n",
       "[147140 rows x 14 columns]"
      ]
     },
     "execution_count": 428,
     "metadata": {},
     "output_type": "execute_result"
    }
   ],
   "source": [
    "#verify\n",
    "df_c.sort_values(['company_hash'])"
   ]
  },
  {
   "cell_type": "code",
   "execution_count": 429,
   "id": "c31aa60d",
   "metadata": {},
   "outputs": [
    {
     "name": "stdout",
     "output_type": "stream",
     "text": [
      "(147140, 14)\n",
      "(146053, 14)\n"
     ]
    }
   ],
   "source": [
    "print(df_c.shape)\n",
    "print(df_c.drop_duplicates().shape)"
   ]
  },
  {
   "cell_type": "code",
   "execution_count": 430,
   "id": "88ffc07d",
   "metadata": {},
   "outputs": [],
   "source": [
    "# Adding Tier based on salary in each company"
   ]
  },
  {
   "cell_type": "code",
   "execution_count": 431,
   "id": "94e72e6d",
   "metadata": {},
   "outputs": [],
   "source": [
    "def condition_tier(a,b_50,b_75):\n",
    "    if a<b_50:\n",
    "        return 3\n",
    "    elif a>=b_50 and a<=b_75:\n",
    "        return 2\n",
    "    elif a>=b_75:\n",
    "        return 1"
   ]
  },
  {
   "cell_type": "code",
   "execution_count": 432,
   "id": "91c9ce42",
   "metadata": {},
   "outputs": [],
   "source": [
    "df_c['tier'] =df_c.apply(lambda x: condition_tier(x['ctc'],x['50%'],x['75%']),axis=1)"
   ]
  },
  {
   "cell_type": "code",
   "execution_count": 433,
   "id": "56b73aea",
   "metadata": {},
   "outputs": [
    {
     "data": {
      "text/html": [
       "<div>\n",
       "<style scoped>\n",
       "    .dataframe tbody tr th:only-of-type {\n",
       "        vertical-align: middle;\n",
       "    }\n",
       "\n",
       "    .dataframe tbody tr th {\n",
       "        vertical-align: top;\n",
       "    }\n",
       "\n",
       "    .dataframe thead th {\n",
       "        text-align: right;\n",
       "    }\n",
       "</style>\n",
       "<table border=\"1\" class=\"dataframe\">\n",
       "  <thead>\n",
       "    <tr style=\"text-align: right;\">\n",
       "      <th></th>\n",
       "      <th>company_hash</th>\n",
       "      <th>orgyear</th>\n",
       "      <th>ctc</th>\n",
       "      <th>job_position</th>\n",
       "      <th>ctc_updated_year</th>\n",
       "      <th>years_of_experience</th>\n",
       "      <th>count</th>\n",
       "      <th>mean</th>\n",
       "      <th>std</th>\n",
       "      <th>min</th>\n",
       "      <th>25%</th>\n",
       "      <th>50%</th>\n",
       "      <th>75%</th>\n",
       "      <th>max</th>\n",
       "      <th>tier</th>\n",
       "    </tr>\n",
       "  </thead>\n",
       "  <tbody>\n",
       "    <tr>\n",
       "      <th>0</th>\n",
       "      <td>atrgxnnt xzaxv</td>\n",
       "      <td>2016.0</td>\n",
       "      <td>1100000</td>\n",
       "      <td>other</td>\n",
       "      <td>2020.0</td>\n",
       "      <td>6.0</td>\n",
       "      <td>9.0</td>\n",
       "      <td>1.115667e+06</td>\n",
       "      <td>458111.885897</td>\n",
       "      <td>500000.0</td>\n",
       "      <td>800000.0</td>\n",
       "      <td>1070000.0</td>\n",
       "      <td>1500000.0</td>\n",
       "      <td>1771000.0</td>\n",
       "      <td>2</td>\n",
       "    </tr>\n",
       "    <tr>\n",
       "      <th>1</th>\n",
       "      <td>qtrxvzwt xzegwgbb rxbxnta</td>\n",
       "      <td>2018.0</td>\n",
       "      <td>449999</td>\n",
       "      <td>fullstack engineer</td>\n",
       "      <td>2019.0</td>\n",
       "      <td>4.0</td>\n",
       "      <td>384.0</td>\n",
       "      <td>1.055291e+06</td>\n",
       "      <td>636095.670307</td>\n",
       "      <td>10000.0</td>\n",
       "      <td>600000.0</td>\n",
       "      <td>850000.0</td>\n",
       "      <td>1500000.0</td>\n",
       "      <td>3200000.0</td>\n",
       "      <td>3</td>\n",
       "    </tr>\n",
       "    <tr>\n",
       "      <th>2</th>\n",
       "      <td>Others</td>\n",
       "      <td>2015.0</td>\n",
       "      <td>2000000</td>\n",
       "      <td>backend engineer</td>\n",
       "      <td>2020.0</td>\n",
       "      <td>7.0</td>\n",
       "      <td>24903.0</td>\n",
       "      <td>9.647442e+05</td>\n",
       "      <td>760124.617272</td>\n",
       "      <td>15.0</td>\n",
       "      <td>390000.0</td>\n",
       "      <td>800000.0</td>\n",
       "      <td>1400000.0</td>\n",
       "      <td>3329999.0</td>\n",
       "      <td>1</td>\n",
       "    </tr>\n",
       "    <tr>\n",
       "      <th>3</th>\n",
       "      <td>ngpgutaxv</td>\n",
       "      <td>2017.0</td>\n",
       "      <td>700000</td>\n",
       "      <td>backend engineer</td>\n",
       "      <td>2019.0</td>\n",
       "      <td>5.0</td>\n",
       "      <td>59.0</td>\n",
       "      <td>1.455508e+06</td>\n",
       "      <td>655423.458086</td>\n",
       "      <td>200000.0</td>\n",
       "      <td>1075000.0</td>\n",
       "      <td>1300000.0</td>\n",
       "      <td>1850000.0</td>\n",
       "      <td>3160000.0</td>\n",
       "      <td>3</td>\n",
       "    </tr>\n",
       "    <tr>\n",
       "      <th>4</th>\n",
       "      <td>qxen sqghu</td>\n",
       "      <td>2017.0</td>\n",
       "      <td>1400000</td>\n",
       "      <td>fullstack engineer</td>\n",
       "      <td>2019.0</td>\n",
       "      <td>5.0</td>\n",
       "      <td>6.0</td>\n",
       "      <td>9.400000e+05</td>\n",
       "      <td>389871.773792</td>\n",
       "      <td>540000.0</td>\n",
       "      <td>625000.0</td>\n",
       "      <td>850000.0</td>\n",
       "      <td>1300000.0</td>\n",
       "      <td>1400000.0</td>\n",
       "      <td>1</td>\n",
       "    </tr>\n",
       "  </tbody>\n",
       "</table>\n",
       "</div>"
      ],
      "text/plain": [
       "                company_hash  orgyear      ctc        job_position  \\\n",
       "0             atrgxnnt xzaxv   2016.0  1100000               other   \n",
       "1  qtrxvzwt xzegwgbb rxbxnta   2018.0   449999  fullstack engineer   \n",
       "2                     Others   2015.0  2000000    backend engineer   \n",
       "3                  ngpgutaxv   2017.0   700000    backend engineer   \n",
       "4                 qxen sqghu   2017.0  1400000  fullstack engineer   \n",
       "\n",
       "   ctc_updated_year  years_of_experience    count          mean  \\\n",
       "0            2020.0                  6.0      9.0  1.115667e+06   \n",
       "1            2019.0                  4.0    384.0  1.055291e+06   \n",
       "2            2020.0                  7.0  24903.0  9.647442e+05   \n",
       "3            2019.0                  5.0     59.0  1.455508e+06   \n",
       "4            2019.0                  5.0      6.0  9.400000e+05   \n",
       "\n",
       "             std       min        25%        50%        75%        max  tier  \n",
       "0  458111.885897  500000.0   800000.0  1070000.0  1500000.0  1771000.0     2  \n",
       "1  636095.670307   10000.0   600000.0   850000.0  1500000.0  3200000.0     3  \n",
       "2  760124.617272      15.0   390000.0   800000.0  1400000.0  3329999.0     1  \n",
       "3  655423.458086  200000.0  1075000.0  1300000.0  1850000.0  3160000.0     3  \n",
       "4  389871.773792  540000.0   625000.0   850000.0  1300000.0  1400000.0     1  "
      ]
     },
     "execution_count": 433,
     "metadata": {},
     "output_type": "execute_result"
    }
   ],
   "source": [
    "df_c.head()"
   ]
  },
  {
   "cell_type": "code",
   "execution_count": 434,
   "id": "f8efe8b8",
   "metadata": {},
   "outputs": [
    {
     "data": {
      "text/plain": [
       "3    47.974718\n",
       "2    28.165013\n",
       "1    23.860269\n",
       "Name: tier, dtype: float64"
      ]
     },
     "execution_count": 434,
     "metadata": {},
     "output_type": "execute_result"
    }
   ],
   "source": [
    "df_c['tier'].value_counts(normalize=True)*100"
   ]
  },
  {
   "cell_type": "code",
   "execution_count": 435,
   "id": "4f193a59",
   "metadata": {},
   "outputs": [],
   "source": [
    "df_cjy_cj_c=df_cjy_cj.merge(df_c, on=['company_hash','orgyear','ctc','job_position','ctc_updated_year','years_of_experience'], how='left')"
   ]
  },
  {
   "cell_type": "code",
   "execution_count": 436,
   "id": "639f603f",
   "metadata": {},
   "outputs": [
    {
     "data": {
      "text/html": [
       "<div>\n",
       "<style scoped>\n",
       "    .dataframe tbody tr th:only-of-type {\n",
       "        vertical-align: middle;\n",
       "    }\n",
       "\n",
       "    .dataframe tbody tr th {\n",
       "        vertical-align: top;\n",
       "    }\n",
       "\n",
       "    .dataframe thead th {\n",
       "        text-align: right;\n",
       "    }\n",
       "</style>\n",
       "<table border=\"1\" class=\"dataframe\">\n",
       "  <thead>\n",
       "    <tr style=\"text-align: right;\">\n",
       "      <th></th>\n",
       "      <th>company_hash</th>\n",
       "      <th>orgyear</th>\n",
       "      <th>ctc</th>\n",
       "      <th>job_position</th>\n",
       "      <th>ctc_updated_year</th>\n",
       "      <th>years_of_experience</th>\n",
       "      <th>class</th>\n",
       "      <th>designation</th>\n",
       "      <th>count</th>\n",
       "      <th>mean</th>\n",
       "      <th>std</th>\n",
       "      <th>min</th>\n",
       "      <th>25%</th>\n",
       "      <th>50%</th>\n",
       "      <th>75%</th>\n",
       "      <th>max</th>\n",
       "      <th>tier</th>\n",
       "    </tr>\n",
       "  </thead>\n",
       "  <tbody>\n",
       "    <tr>\n",
       "      <th>0</th>\n",
       "      <td>atrgxnnt xzaxv</td>\n",
       "      <td>2016.0</td>\n",
       "      <td>1100000</td>\n",
       "      <td>other</td>\n",
       "      <td>2020.0</td>\n",
       "      <td>6.0</td>\n",
       "      <td>1</td>\n",
       "      <td>2</td>\n",
       "      <td>9.0</td>\n",
       "      <td>1.115667e+06</td>\n",
       "      <td>458111.885897</td>\n",
       "      <td>500000.0</td>\n",
       "      <td>800000.0</td>\n",
       "      <td>1070000.0</td>\n",
       "      <td>1500000.0</td>\n",
       "      <td>1771000.0</td>\n",
       "      <td>2</td>\n",
       "    </tr>\n",
       "    <tr>\n",
       "      <th>1</th>\n",
       "      <td>qtrxvzwt xzegwgbb rxbxnta</td>\n",
       "      <td>2018.0</td>\n",
       "      <td>449999</td>\n",
       "      <td>fullstack engineer</td>\n",
       "      <td>2019.0</td>\n",
       "      <td>4.0</td>\n",
       "      <td>3</td>\n",
       "      <td>3</td>\n",
       "      <td>384.0</td>\n",
       "      <td>1.055291e+06</td>\n",
       "      <td>636095.670307</td>\n",
       "      <td>10000.0</td>\n",
       "      <td>600000.0</td>\n",
       "      <td>850000.0</td>\n",
       "      <td>1500000.0</td>\n",
       "      <td>3200000.0</td>\n",
       "      <td>3</td>\n",
       "    </tr>\n",
       "    <tr>\n",
       "      <th>2</th>\n",
       "      <td>Others</td>\n",
       "      <td>2015.0</td>\n",
       "      <td>2000000</td>\n",
       "      <td>backend engineer</td>\n",
       "      <td>2020.0</td>\n",
       "      <td>7.0</td>\n",
       "      <td>1</td>\n",
       "      <td>1</td>\n",
       "      <td>24903.0</td>\n",
       "      <td>9.647442e+05</td>\n",
       "      <td>760124.617272</td>\n",
       "      <td>15.0</td>\n",
       "      <td>390000.0</td>\n",
       "      <td>800000.0</td>\n",
       "      <td>1400000.0</td>\n",
       "      <td>3329999.0</td>\n",
       "      <td>1</td>\n",
       "    </tr>\n",
       "    <tr>\n",
       "      <th>3</th>\n",
       "      <td>ngpgutaxv</td>\n",
       "      <td>2017.0</td>\n",
       "      <td>700000</td>\n",
       "      <td>backend engineer</td>\n",
       "      <td>2019.0</td>\n",
       "      <td>5.0</td>\n",
       "      <td>3</td>\n",
       "      <td>3</td>\n",
       "      <td>59.0</td>\n",
       "      <td>1.455508e+06</td>\n",
       "      <td>655423.458086</td>\n",
       "      <td>200000.0</td>\n",
       "      <td>1075000.0</td>\n",
       "      <td>1300000.0</td>\n",
       "      <td>1850000.0</td>\n",
       "      <td>3160000.0</td>\n",
       "      <td>3</td>\n",
       "    </tr>\n",
       "    <tr>\n",
       "      <th>4</th>\n",
       "      <td>qxen sqghu</td>\n",
       "      <td>2017.0</td>\n",
       "      <td>1400000</td>\n",
       "      <td>fullstack engineer</td>\n",
       "      <td>2019.0</td>\n",
       "      <td>5.0</td>\n",
       "      <td>1</td>\n",
       "      <td>2</td>\n",
       "      <td>6.0</td>\n",
       "      <td>9.400000e+05</td>\n",
       "      <td>389871.773792</td>\n",
       "      <td>540000.0</td>\n",
       "      <td>625000.0</td>\n",
       "      <td>850000.0</td>\n",
       "      <td>1300000.0</td>\n",
       "      <td>1400000.0</td>\n",
       "      <td>1</td>\n",
       "    </tr>\n",
       "    <tr>\n",
       "      <th>5</th>\n",
       "      <td>yvuuxrj hzbvqqxta bvqptnxzs ucn rna</td>\n",
       "      <td>2018.0</td>\n",
       "      <td>700000</td>\n",
       "      <td>fullstack engineer</td>\n",
       "      <td>2020.0</td>\n",
       "      <td>4.0</td>\n",
       "      <td>2</td>\n",
       "      <td>2</td>\n",
       "      <td>6.0</td>\n",
       "      <td>9.066667e+05</td>\n",
       "      <td>539728.326722</td>\n",
       "      <td>620000.0</td>\n",
       "      <td>640000.0</td>\n",
       "      <td>700000.0</td>\n",
       "      <td>775000.0</td>\n",
       "      <td>2000000.0</td>\n",
       "      <td>2</td>\n",
       "    </tr>\n",
       "    <tr>\n",
       "      <th>6</th>\n",
       "      <td>lubgqsvz wyvot  wg</td>\n",
       "      <td>2018.0</td>\n",
       "      <td>1500000</td>\n",
       "      <td>fullstack engineer</td>\n",
       "      <td>2019.0</td>\n",
       "      <td>4.0</td>\n",
       "      <td>3</td>\n",
       "      <td>3</td>\n",
       "      <td>863.0</td>\n",
       "      <td>1.704393e+06</td>\n",
       "      <td>676089.471194</td>\n",
       "      <td>11000.0</td>\n",
       "      <td>1300000.0</td>\n",
       "      <td>1675000.0</td>\n",
       "      <td>2105000.0</td>\n",
       "      <td>3300000.0</td>\n",
       "      <td>3</td>\n",
       "    </tr>\n",
       "    <tr>\n",
       "      <th>7</th>\n",
       "      <td>vwwtznhqt ntwyzgrgsj</td>\n",
       "      <td>2019.0</td>\n",
       "      <td>400000</td>\n",
       "      <td>backend engineer</td>\n",
       "      <td>2019.0</td>\n",
       "      <td>3.0</td>\n",
       "      <td>3</td>\n",
       "      <td>3</td>\n",
       "      <td>24.0</td>\n",
       "      <td>6.633333e+05</td>\n",
       "      <td>265782.956019</td>\n",
       "      <td>300000.0</td>\n",
       "      <td>422500.0</td>\n",
       "      <td>620000.0</td>\n",
       "      <td>892500.0</td>\n",
       "      <td>1150000.0</td>\n",
       "      <td>3</td>\n",
       "    </tr>\n",
       "    <tr>\n",
       "      <th>8</th>\n",
       "      <td>utqoxontzn ojontbo</td>\n",
       "      <td>2020.0</td>\n",
       "      <td>450000</td>\n",
       "      <td>Others</td>\n",
       "      <td>2020.0</td>\n",
       "      <td>2.0</td>\n",
       "      <td>3</td>\n",
       "      <td>2</td>\n",
       "      <td>415.0</td>\n",
       "      <td>9.752988e+05</td>\n",
       "      <td>555073.324976</td>\n",
       "      <td>90000.0</td>\n",
       "      <td>550000.0</td>\n",
       "      <td>810000.0</td>\n",
       "      <td>1300000.0</td>\n",
       "      <td>3000000.0</td>\n",
       "      <td>3</td>\n",
       "    </tr>\n",
       "    <tr>\n",
       "      <th>9</th>\n",
       "      <td>utqoxontzn ojontbo</td>\n",
       "      <td>2020.0</td>\n",
       "      <td>450000</td>\n",
       "      <td>Others</td>\n",
       "      <td>2020.0</td>\n",
       "      <td>2.0</td>\n",
       "      <td>3</td>\n",
       "      <td>2</td>\n",
       "      <td>415.0</td>\n",
       "      <td>9.752988e+05</td>\n",
       "      <td>555073.324976</td>\n",
       "      <td>90000.0</td>\n",
       "      <td>550000.0</td>\n",
       "      <td>810000.0</td>\n",
       "      <td>1300000.0</td>\n",
       "      <td>3000000.0</td>\n",
       "      <td>3</td>\n",
       "    </tr>\n",
       "  </tbody>\n",
       "</table>\n",
       "</div>"
      ],
      "text/plain": [
       "                          company_hash  orgyear      ctc        job_position  \\\n",
       "0                       atrgxnnt xzaxv   2016.0  1100000               other   \n",
       "1            qtrxvzwt xzegwgbb rxbxnta   2018.0   449999  fullstack engineer   \n",
       "2                               Others   2015.0  2000000    backend engineer   \n",
       "3                            ngpgutaxv   2017.0   700000    backend engineer   \n",
       "4                           qxen sqghu   2017.0  1400000  fullstack engineer   \n",
       "5  yvuuxrj hzbvqqxta bvqptnxzs ucn rna   2018.0   700000  fullstack engineer   \n",
       "6                   lubgqsvz wyvot  wg   2018.0  1500000  fullstack engineer   \n",
       "7                 vwwtznhqt ntwyzgrgsj   2019.0   400000    backend engineer   \n",
       "8                   utqoxontzn ojontbo   2020.0   450000              Others   \n",
       "9                   utqoxontzn ojontbo   2020.0   450000              Others   \n",
       "\n",
       "   ctc_updated_year  years_of_experience  class  designation    count  \\\n",
       "0            2020.0                  6.0      1            2      9.0   \n",
       "1            2019.0                  4.0      3            3    384.0   \n",
       "2            2020.0                  7.0      1            1  24903.0   \n",
       "3            2019.0                  5.0      3            3     59.0   \n",
       "4            2019.0                  5.0      1            2      6.0   \n",
       "5            2020.0                  4.0      2            2      6.0   \n",
       "6            2019.0                  4.0      3            3    863.0   \n",
       "7            2019.0                  3.0      3            3     24.0   \n",
       "8            2020.0                  2.0      3            2    415.0   \n",
       "9            2020.0                  2.0      3            2    415.0   \n",
       "\n",
       "           mean            std       min        25%        50%        75%  \\\n",
       "0  1.115667e+06  458111.885897  500000.0   800000.0  1070000.0  1500000.0   \n",
       "1  1.055291e+06  636095.670307   10000.0   600000.0   850000.0  1500000.0   \n",
       "2  9.647442e+05  760124.617272      15.0   390000.0   800000.0  1400000.0   \n",
       "3  1.455508e+06  655423.458086  200000.0  1075000.0  1300000.0  1850000.0   \n",
       "4  9.400000e+05  389871.773792  540000.0   625000.0   850000.0  1300000.0   \n",
       "5  9.066667e+05  539728.326722  620000.0   640000.0   700000.0   775000.0   \n",
       "6  1.704393e+06  676089.471194   11000.0  1300000.0  1675000.0  2105000.0   \n",
       "7  6.633333e+05  265782.956019  300000.0   422500.0   620000.0   892500.0   \n",
       "8  9.752988e+05  555073.324976   90000.0   550000.0   810000.0  1300000.0   \n",
       "9  9.752988e+05  555073.324976   90000.0   550000.0   810000.0  1300000.0   \n",
       "\n",
       "         max  tier  \n",
       "0  1771000.0     2  \n",
       "1  3200000.0     3  \n",
       "2  3329999.0     1  \n",
       "3  3160000.0     3  \n",
       "4  1400000.0     1  \n",
       "5  2000000.0     2  \n",
       "6  3300000.0     3  \n",
       "7  1150000.0     3  \n",
       "8  3000000.0     3  \n",
       "9  3000000.0     3  "
      ]
     },
     "execution_count": 436,
     "metadata": {},
     "output_type": "execute_result"
    }
   ],
   "source": [
    "df_cjy_cj_c.head(10)"
   ]
  },
  {
   "cell_type": "code",
   "execution_count": 437,
   "id": "8023ae2a",
   "metadata": {},
   "outputs": [],
   "source": [
    "df_cjy_cj_c.drop(columns=['count','mean','std','min','25%','50%','75%','max'],inplace=True)"
   ]
  },
  {
   "cell_type": "code",
   "execution_count": 438,
   "id": "c38ca490",
   "metadata": {},
   "outputs": [
    {
     "data": {
      "text/plain": [
       "(147140, 9)"
      ]
     },
     "execution_count": 438,
     "metadata": {},
     "output_type": "execute_result"
    }
   ],
   "source": [
    "df_cjy_cj_c.shape"
   ]
  },
  {
   "cell_type": "code",
   "execution_count": 439,
   "id": "458abb73",
   "metadata": {},
   "outputs": [],
   "source": [
    "data=df_cjy_cj_c.copy(deep=True)"
   ]
  },
  {
   "cell_type": "code",
   "execution_count": 440,
   "id": "5b81ba27",
   "metadata": {},
   "outputs": [
    {
     "data": {
      "text/plain": [
       "(147140, 9)"
      ]
     },
     "execution_count": 440,
     "metadata": {},
     "output_type": "execute_result"
    }
   ],
   "source": [
    "data.shape"
   ]
  },
  {
   "cell_type": "code",
   "execution_count": 441,
   "id": "ef7c1934",
   "metadata": {},
   "outputs": [
    {
     "data": {
      "text/html": [
       "<div>\n",
       "<style scoped>\n",
       "    .dataframe tbody tr th:only-of-type {\n",
       "        vertical-align: middle;\n",
       "    }\n",
       "\n",
       "    .dataframe tbody tr th {\n",
       "        vertical-align: top;\n",
       "    }\n",
       "\n",
       "    .dataframe thead th {\n",
       "        text-align: right;\n",
       "    }\n",
       "</style>\n",
       "<table border=\"1\" class=\"dataframe\">\n",
       "  <thead>\n",
       "    <tr style=\"text-align: right;\">\n",
       "      <th></th>\n",
       "      <th>company_hash</th>\n",
       "      <th>orgyear</th>\n",
       "      <th>ctc</th>\n",
       "      <th>job_position</th>\n",
       "      <th>ctc_updated_year</th>\n",
       "      <th>years_of_experience</th>\n",
       "      <th>class</th>\n",
       "      <th>designation</th>\n",
       "      <th>tier</th>\n",
       "    </tr>\n",
       "  </thead>\n",
       "  <tbody>\n",
       "    <tr>\n",
       "      <th>0</th>\n",
       "      <td>atrgxnnt xzaxv</td>\n",
       "      <td>2016.0</td>\n",
       "      <td>1100000</td>\n",
       "      <td>other</td>\n",
       "      <td>2020.0</td>\n",
       "      <td>6.0</td>\n",
       "      <td>1</td>\n",
       "      <td>2</td>\n",
       "      <td>2</td>\n",
       "    </tr>\n",
       "    <tr>\n",
       "      <th>1</th>\n",
       "      <td>qtrxvzwt xzegwgbb rxbxnta</td>\n",
       "      <td>2018.0</td>\n",
       "      <td>449999</td>\n",
       "      <td>fullstack engineer</td>\n",
       "      <td>2019.0</td>\n",
       "      <td>4.0</td>\n",
       "      <td>3</td>\n",
       "      <td>3</td>\n",
       "      <td>3</td>\n",
       "    </tr>\n",
       "    <tr>\n",
       "      <th>2</th>\n",
       "      <td>Others</td>\n",
       "      <td>2015.0</td>\n",
       "      <td>2000000</td>\n",
       "      <td>backend engineer</td>\n",
       "      <td>2020.0</td>\n",
       "      <td>7.0</td>\n",
       "      <td>1</td>\n",
       "      <td>1</td>\n",
       "      <td>1</td>\n",
       "    </tr>\n",
       "    <tr>\n",
       "      <th>3</th>\n",
       "      <td>ngpgutaxv</td>\n",
       "      <td>2017.0</td>\n",
       "      <td>700000</td>\n",
       "      <td>backend engineer</td>\n",
       "      <td>2019.0</td>\n",
       "      <td>5.0</td>\n",
       "      <td>3</td>\n",
       "      <td>3</td>\n",
       "      <td>3</td>\n",
       "    </tr>\n",
       "    <tr>\n",
       "      <th>4</th>\n",
       "      <td>qxen sqghu</td>\n",
       "      <td>2017.0</td>\n",
       "      <td>1400000</td>\n",
       "      <td>fullstack engineer</td>\n",
       "      <td>2019.0</td>\n",
       "      <td>5.0</td>\n",
       "      <td>1</td>\n",
       "      <td>2</td>\n",
       "      <td>1</td>\n",
       "    </tr>\n",
       "    <tr>\n",
       "      <th>5</th>\n",
       "      <td>yvuuxrj hzbvqqxta bvqptnxzs ucn rna</td>\n",
       "      <td>2018.0</td>\n",
       "      <td>700000</td>\n",
       "      <td>fullstack engineer</td>\n",
       "      <td>2020.0</td>\n",
       "      <td>4.0</td>\n",
       "      <td>2</td>\n",
       "      <td>2</td>\n",
       "      <td>2</td>\n",
       "    </tr>\n",
       "    <tr>\n",
       "      <th>6</th>\n",
       "      <td>lubgqsvz wyvot  wg</td>\n",
       "      <td>2018.0</td>\n",
       "      <td>1500000</td>\n",
       "      <td>fullstack engineer</td>\n",
       "      <td>2019.0</td>\n",
       "      <td>4.0</td>\n",
       "      <td>3</td>\n",
       "      <td>3</td>\n",
       "      <td>3</td>\n",
       "    </tr>\n",
       "    <tr>\n",
       "      <th>7</th>\n",
       "      <td>vwwtznhqt ntwyzgrgsj</td>\n",
       "      <td>2019.0</td>\n",
       "      <td>400000</td>\n",
       "      <td>backend engineer</td>\n",
       "      <td>2019.0</td>\n",
       "      <td>3.0</td>\n",
       "      <td>3</td>\n",
       "      <td>3</td>\n",
       "      <td>3</td>\n",
       "    </tr>\n",
       "    <tr>\n",
       "      <th>8</th>\n",
       "      <td>utqoxontzn ojontbo</td>\n",
       "      <td>2020.0</td>\n",
       "      <td>450000</td>\n",
       "      <td>Others</td>\n",
       "      <td>2020.0</td>\n",
       "      <td>2.0</td>\n",
       "      <td>3</td>\n",
       "      <td>2</td>\n",
       "      <td>3</td>\n",
       "    </tr>\n",
       "    <tr>\n",
       "      <th>9</th>\n",
       "      <td>utqoxontzn ojontbo</td>\n",
       "      <td>2020.0</td>\n",
       "      <td>450000</td>\n",
       "      <td>Others</td>\n",
       "      <td>2020.0</td>\n",
       "      <td>2.0</td>\n",
       "      <td>3</td>\n",
       "      <td>2</td>\n",
       "      <td>3</td>\n",
       "    </tr>\n",
       "  </tbody>\n",
       "</table>\n",
       "</div>"
      ],
      "text/plain": [
       "                          company_hash  orgyear      ctc        job_position  \\\n",
       "0                       atrgxnnt xzaxv   2016.0  1100000               other   \n",
       "1            qtrxvzwt xzegwgbb rxbxnta   2018.0   449999  fullstack engineer   \n",
       "2                               Others   2015.0  2000000    backend engineer   \n",
       "3                            ngpgutaxv   2017.0   700000    backend engineer   \n",
       "4                           qxen sqghu   2017.0  1400000  fullstack engineer   \n",
       "5  yvuuxrj hzbvqqxta bvqptnxzs ucn rna   2018.0   700000  fullstack engineer   \n",
       "6                   lubgqsvz wyvot  wg   2018.0  1500000  fullstack engineer   \n",
       "7                 vwwtznhqt ntwyzgrgsj   2019.0   400000    backend engineer   \n",
       "8                   utqoxontzn ojontbo   2020.0   450000              Others   \n",
       "9                   utqoxontzn ojontbo   2020.0   450000              Others   \n",
       "\n",
       "   ctc_updated_year  years_of_experience  class  designation  tier  \n",
       "0            2020.0                  6.0      1            2     2  \n",
       "1            2019.0                  4.0      3            3     3  \n",
       "2            2020.0                  7.0      1            1     1  \n",
       "3            2019.0                  5.0      3            3     3  \n",
       "4            2019.0                  5.0      1            2     1  \n",
       "5            2020.0                  4.0      2            2     2  \n",
       "6            2019.0                  4.0      3            3     3  \n",
       "7            2019.0                  3.0      3            3     3  \n",
       "8            2020.0                  2.0      3            2     3  \n",
       "9            2020.0                  2.0      3            2     3  "
      ]
     },
     "execution_count": 441,
     "metadata": {},
     "output_type": "execute_result"
    }
   ],
   "source": [
    "data.head(10)"
   ]
  },
  {
   "cell_type": "code",
   "execution_count": null,
   "id": "a7ed2540",
   "metadata": {},
   "outputs": [],
   "source": []
  },
  {
   "cell_type": "code",
   "execution_count": 442,
   "id": "6112fd01",
   "metadata": {},
   "outputs": [
    {
     "data": {
      "text/plain": [
       "<AxesSubplot:xlabel='class', ylabel='count'>"
      ]
     },
     "execution_count": 442,
     "metadata": {},
     "output_type": "execute_result"
    },
    {
     "data": {
      "image/png": "[encoded data removed]",
      "text/plain": [
       "<Figure size 1296x360 with 1 Axes>"
      ]
     },
     "metadata": {
      "needs_background": "light"
     },
     "output_type": "display_data"
    }
   ],
   "source": [
    "#Univariate analysis of the vairables added\n",
    "\n",
    "#Class\n",
    "#Most are in class 2 and 3\n",
    "\n",
    "fig, ax = plt.subplots(figsize=(18, 5))\n",
    "sns.countplot(x= 'class', data = data, ax= ax)"
   ]
  },
  {
   "cell_type": "code",
   "execution_count": 443,
   "id": "b4311e37",
   "metadata": {},
   "outputs": [
    {
     "data": {
      "text/plain": [
       "<AxesSubplot:xlabel='designation', ylabel='count'>"
      ]
     },
     "execution_count": 443,
     "metadata": {},
     "output_type": "execute_result"
    },
    {
     "data": {
      "image/png": "[encoded data removed]",
      "text/plain": [
       "<Figure size 1296x360 with 1 Axes>"
      ]
     },
     "metadata": {
      "needs_background": "light"
     },
     "output_type": "display_data"
    }
   ],
   "source": [
    "#Designation\n",
    "#Most have designation 2\n",
    "\n",
    "fig, ax = plt.subplots(figsize=(18, 5))\n",
    "sns.countplot(x= 'designation', data = data, ax= ax)"
   ]
  },
  {
   "cell_type": "code",
   "execution_count": 444,
   "id": "68400d97",
   "metadata": {},
   "outputs": [
    {
     "data": {
      "text/plain": [
       "<AxesSubplot:xlabel='tier', ylabel='count'>"
      ]
     },
     "execution_count": 444,
     "metadata": {},
     "output_type": "execute_result"
    },
    {
     "data": {
      "image/png": "[encoded data removed]",
      "text/plain": [
       "<Figure size 1296x360 with 1 Axes>"
      ]
     },
     "metadata": {
      "needs_background": "light"
     },
     "output_type": "display_data"
    }
   ],
   "source": [
    "#Tier\n",
    "# Tier 3 , 2, 1 and in decreasing order\n",
    "\n",
    "fig, ax = plt.subplots(figsize=(18, 5))\n",
    "sns.countplot(x= 'tier', data = data, ax= ax)"
   ]
  },
  {
   "cell_type": "code",
   "execution_count": 445,
   "id": "076e0a2d",
   "metadata": {},
   "outputs": [
    {
     "data": {
      "text/plain": [
       "<AxesSubplot:>"
      ]
     },
     "execution_count": 445,
     "metadata": {},
     "output_type": "execute_result"
    },
    {
     "data": {
      "image/png": "[encoded data removed]",
      "text/plain": [
       "<Figure size 720x720 with 2 Axes>"
      ]
     },
     "metadata": {
      "needs_background": "light"
     },
     "output_type": "display_data"
    }
   ],
   "source": [
    "#Bivarate analysis after new variables are added\n",
    "\n",
    "fig, ax = plt.subplots(figsize=(10, 10))\n",
    "Var_Corr = data.corr(method = 'spearman')\n",
    "sns.heatmap(Var_Corr, xticklabels=Var_Corr.columns, yticklabels=Var_Corr.columns, annot=True, ax=ax)"
   ]
  },
  {
   "cell_type": "code",
   "execution_count": null,
   "id": "97fd171e",
   "metadata": {},
   "outputs": [],
   "source": [
    "#1) Designation and tier are moderately correlated\n",
    "#2) Class and tier are strongly correlated\n",
    "#3) Designation and class are strognly correlated\n",
    "#4) ctc is inversely corrrelated to both class and tier"
   ]
  },
  {
   "cell_type": "code",
   "execution_count": 163,
   "id": "7c576e72",
   "metadata": {},
   "outputs": [],
   "source": [
    "#Unsupervised Learning"
   ]
  },
  {
   "cell_type": "code",
   "execution_count": 164,
   "id": "c0cf4c1f",
   "metadata": {},
   "outputs": [],
   "source": [
    "#KMeans\n",
    "#1. Check Clustering Tendency\n",
    "#2. Do elbow method etc for checking the number of optimal clusters (bring it to 3)\n",
    "#3. Do kmeans clustering\n",
    "#4. Hierarchial clustering of sample dataset (shuffle and take 50k rows"
   ]
  },
  {
   "cell_type": "code",
   "execution_count": 165,
   "id": "a65da8c5",
   "metadata": {},
   "outputs": [],
   "source": [
    "#We can use simple label encoding as well for company_hash and job_position\n",
    "\n",
    "#For company_hash we replace each value with average ctc for that company\n",
    "\n",
    "dss = data.groupby('company_hash')['ctc'].mean()"
   ]
  },
  {
   "cell_type": "code",
   "execution_count": 166,
   "id": "ac24c2db",
   "metadata": {},
   "outputs": [],
   "source": [
    "data['company_hash'] = data['company_hash'].map(dss)"
   ]
  },
  {
   "cell_type": "code",
   "execution_count": 167,
   "id": "b326f53b",
   "metadata": {},
   "outputs": [
    {
     "data": {
      "text/html": [
       "<div>\n",
       "<style scoped>\n",
       "    .dataframe tbody tr th:only-of-type {\n",
       "        vertical-align: middle;\n",
       "    }\n",
       "\n",
       "    .dataframe tbody tr th {\n",
       "        vertical-align: top;\n",
       "    }\n",
       "\n",
       "    .dataframe thead th {\n",
       "        text-align: right;\n",
       "    }\n",
       "</style>\n",
       "<table border=\"1\" class=\"dataframe\">\n",
       "  <thead>\n",
       "    <tr style=\"text-align: right;\">\n",
       "      <th></th>\n",
       "      <th>company_hash</th>\n",
       "      <th>orgyear</th>\n",
       "      <th>ctc</th>\n",
       "      <th>job_position</th>\n",
       "      <th>ctc_updated_year</th>\n",
       "      <th>years_of_experience</th>\n",
       "      <th>class</th>\n",
       "      <th>designation</th>\n",
       "      <th>tier</th>\n",
       "    </tr>\n",
       "  </thead>\n",
       "  <tbody>\n",
       "    <tr>\n",
       "      <th>0</th>\n",
       "      <td>1.115667e+06</td>\n",
       "      <td>2016.0</td>\n",
       "      <td>1100000</td>\n",
       "      <td>other</td>\n",
       "      <td>2020.0</td>\n",
       "      <td>6.0</td>\n",
       "      <td>1</td>\n",
       "      <td>2</td>\n",
       "      <td>2</td>\n",
       "    </tr>\n",
       "    <tr>\n",
       "      <th>1</th>\n",
       "      <td>1.055291e+06</td>\n",
       "      <td>2018.0</td>\n",
       "      <td>449999</td>\n",
       "      <td>fullstack engineer</td>\n",
       "      <td>2019.0</td>\n",
       "      <td>4.0</td>\n",
       "      <td>3</td>\n",
       "      <td>3</td>\n",
       "      <td>3</td>\n",
       "    </tr>\n",
       "    <tr>\n",
       "      <th>2</th>\n",
       "      <td>9.647442e+05</td>\n",
       "      <td>2015.0</td>\n",
       "      <td>2000000</td>\n",
       "      <td>backend engineer</td>\n",
       "      <td>2020.0</td>\n",
       "      <td>7.0</td>\n",
       "      <td>1</td>\n",
       "      <td>1</td>\n",
       "      <td>1</td>\n",
       "    </tr>\n",
       "    <tr>\n",
       "      <th>3</th>\n",
       "      <td>1.455508e+06</td>\n",
       "      <td>2017.0</td>\n",
       "      <td>700000</td>\n",
       "      <td>backend engineer</td>\n",
       "      <td>2019.0</td>\n",
       "      <td>5.0</td>\n",
       "      <td>3</td>\n",
       "      <td>3</td>\n",
       "      <td>3</td>\n",
       "    </tr>\n",
       "    <tr>\n",
       "      <th>4</th>\n",
       "      <td>9.400000e+05</td>\n",
       "      <td>2017.0</td>\n",
       "      <td>1400000</td>\n",
       "      <td>fullstack engineer</td>\n",
       "      <td>2019.0</td>\n",
       "      <td>5.0</td>\n",
       "      <td>1</td>\n",
       "      <td>2</td>\n",
       "      <td>1</td>\n",
       "    </tr>\n",
       "  </tbody>\n",
       "</table>\n",
       "</div>"
      ],
      "text/plain": [
       "   company_hash  orgyear      ctc        job_position  ctc_updated_year  \\\n",
       "0  1.115667e+06   2016.0  1100000               other            2020.0   \n",
       "1  1.055291e+06   2018.0   449999  fullstack engineer            2019.0   \n",
       "2  9.647442e+05   2015.0  2000000    backend engineer            2020.0   \n",
       "3  1.455508e+06   2017.0   700000    backend engineer            2019.0   \n",
       "4  9.400000e+05   2017.0  1400000  fullstack engineer            2019.0   \n",
       "\n",
       "   years_of_experience  class  designation  tier  \n",
       "0                  6.0      1            2     2  \n",
       "1                  4.0      3            3     3  \n",
       "2                  7.0      1            1     1  \n",
       "3                  5.0      3            3     3  \n",
       "4                  5.0      1            2     1  "
      ]
     },
     "execution_count": 167,
     "metadata": {},
     "output_type": "execute_result"
    }
   ],
   "source": [
    "data.head()"
   ]
  },
  {
   "cell_type": "code",
   "execution_count": 168,
   "id": "a0582ec7",
   "metadata": {},
   "outputs": [],
   "source": [
    "jss = data.groupby('job_position')['years_of_experience'].mean()"
   ]
  },
  {
   "cell_type": "code",
   "execution_count": 169,
   "id": "f1716178",
   "metadata": {},
   "outputs": [],
   "source": [
    "data['job_position'] = data['job_position'].map(jss)"
   ]
  },
  {
   "cell_type": "code",
   "execution_count": 170,
   "id": "dd8fddbf",
   "metadata": {},
   "outputs": [
    {
     "data": {
      "text/html": [
       "<div>\n",
       "<style scoped>\n",
       "    .dataframe tbody tr th:only-of-type {\n",
       "        vertical-align: middle;\n",
       "    }\n",
       "\n",
       "    .dataframe tbody tr th {\n",
       "        vertical-align: top;\n",
       "    }\n",
       "\n",
       "    .dataframe thead th {\n",
       "        text-align: right;\n",
       "    }\n",
       "</style>\n",
       "<table border=\"1\" class=\"dataframe\">\n",
       "  <thead>\n",
       "    <tr style=\"text-align: right;\">\n",
       "      <th></th>\n",
       "      <th>company_hash</th>\n",
       "      <th>orgyear</th>\n",
       "      <th>ctc</th>\n",
       "      <th>job_position</th>\n",
       "      <th>ctc_updated_year</th>\n",
       "      <th>years_of_experience</th>\n",
       "      <th>class</th>\n",
       "      <th>designation</th>\n",
       "      <th>tier</th>\n",
       "    </tr>\n",
       "  </thead>\n",
       "  <tbody>\n",
       "    <tr>\n",
       "      <th>0</th>\n",
       "      <td>1.115667e+06</td>\n",
       "      <td>2016.0</td>\n",
       "      <td>1100000</td>\n",
       "      <td>5.953188</td>\n",
       "      <td>2020.0</td>\n",
       "      <td>6.0</td>\n",
       "      <td>1</td>\n",
       "      <td>2</td>\n",
       "      <td>2</td>\n",
       "    </tr>\n",
       "    <tr>\n",
       "      <th>1</th>\n",
       "      <td>1.055291e+06</td>\n",
       "      <td>2018.0</td>\n",
       "      <td>449999</td>\n",
       "      <td>6.039619</td>\n",
       "      <td>2019.0</td>\n",
       "      <td>4.0</td>\n",
       "      <td>3</td>\n",
       "      <td>3</td>\n",
       "      <td>3</td>\n",
       "    </tr>\n",
       "    <tr>\n",
       "      <th>2</th>\n",
       "      <td>9.647442e+05</td>\n",
       "      <td>2015.0</td>\n",
       "      <td>2000000</td>\n",
       "      <td>6.707304</td>\n",
       "      <td>2020.0</td>\n",
       "      <td>7.0</td>\n",
       "      <td>1</td>\n",
       "      <td>1</td>\n",
       "      <td>1</td>\n",
       "    </tr>\n",
       "    <tr>\n",
       "      <th>3</th>\n",
       "      <td>1.455508e+06</td>\n",
       "      <td>2017.0</td>\n",
       "      <td>700000</td>\n",
       "      <td>6.707304</td>\n",
       "      <td>2019.0</td>\n",
       "      <td>5.0</td>\n",
       "      <td>3</td>\n",
       "      <td>3</td>\n",
       "      <td>3</td>\n",
       "    </tr>\n",
       "    <tr>\n",
       "      <th>4</th>\n",
       "      <td>9.400000e+05</td>\n",
       "      <td>2017.0</td>\n",
       "      <td>1400000</td>\n",
       "      <td>6.039619</td>\n",
       "      <td>2019.0</td>\n",
       "      <td>5.0</td>\n",
       "      <td>1</td>\n",
       "      <td>2</td>\n",
       "      <td>1</td>\n",
       "    </tr>\n",
       "  </tbody>\n",
       "</table>\n",
       "</div>"
      ],
      "text/plain": [
       "   company_hash  orgyear      ctc  job_position  ctc_updated_year  \\\n",
       "0  1.115667e+06   2016.0  1100000      5.953188            2020.0   \n",
       "1  1.055291e+06   2018.0   449999      6.039619            2019.0   \n",
       "2  9.647442e+05   2015.0  2000000      6.707304            2020.0   \n",
       "3  1.455508e+06   2017.0   700000      6.707304            2019.0   \n",
       "4  9.400000e+05   2017.0  1400000      6.039619            2019.0   \n",
       "\n",
       "   years_of_experience  class  designation  tier  \n",
       "0                  6.0      1            2     2  \n",
       "1                  4.0      3            3     3  \n",
       "2                  7.0      1            1     1  \n",
       "3                  5.0      3            3     3  \n",
       "4                  5.0      1            2     1  "
      ]
     },
     "execution_count": 170,
     "metadata": {},
     "output_type": "execute_result"
    }
   ],
   "source": [
    "data.head()"
   ]
  },
  {
   "cell_type": "code",
   "execution_count": 171,
   "id": "07e870a4",
   "metadata": {},
   "outputs": [
    {
     "name": "stdout",
     "output_type": "stream",
     "text": [
      "<class 'pandas.core.frame.DataFrame'>\n",
      "Int64Index: 147140 entries, 0 to 147139\n",
      "Data columns (total 9 columns):\n",
      " #   Column               Non-Null Count   Dtype  \n",
      "---  ------               --------------   -----  \n",
      " 0   company_hash         147140 non-null  float64\n",
      " 1   orgyear              147140 non-null  float64\n",
      " 2   ctc                  147140 non-null  int64  \n",
      " 3   job_position         147140 non-null  float64\n",
      " 4   ctc_updated_year     147140 non-null  float64\n",
      " 5   years_of_experience  147140 non-null  float64\n",
      " 6   class                147140 non-null  int64  \n",
      " 7   designation          147140 non-null  int64  \n",
      " 8   tier                 147140 non-null  int64  \n",
      "dtypes: float64(5), int64(4)\n",
      "memory usage: 11.2 MB\n"
     ]
    }
   ],
   "source": [
    "data.info()"
   ]
  },
  {
   "cell_type": "code",
   "execution_count": 172,
   "id": "b8eab222",
   "metadata": {},
   "outputs": [],
   "source": [
    "data.drop(columns=['orgyear'],inplace=True)\n",
    "data.drop(columns=['ctc_updated_year'],inplace=True)"
   ]
  },
  {
   "cell_type": "code",
   "execution_count": 173,
   "id": "959a317a",
   "metadata": {},
   "outputs": [
    {
     "data": {
      "text/plain": [
       "company_hash           0\n",
       "ctc                    0\n",
       "job_position           0\n",
       "years_of_experience    0\n",
       "class                  0\n",
       "designation            0\n",
       "tier                   0\n",
       "dtype: int64"
      ]
     },
     "execution_count": 173,
     "metadata": {},
     "output_type": "execute_result"
    }
   ],
   "source": [
    "data.isnull().sum()"
   ]
  },
  {
   "cell_type": "code",
   "execution_count": 174,
   "id": "56fc805a",
   "metadata": {},
   "outputs": [
    {
     "data": {
      "text/plain": [
       "Index(['company_hash', 'ctc', 'job_position', 'years_of_experience', 'class',\n",
       "       'designation', 'tier'],\n",
       "      dtype='object')"
      ]
     },
     "execution_count": 174,
     "metadata": {},
     "output_type": "execute_result"
    }
   ],
   "source": [
    "data.columns"
   ]
  },
  {
   "cell_type": "code",
   "execution_count": 182,
   "id": "f592dba2",
   "metadata": {},
   "outputs": [],
   "source": [
    "from sklearn.preprocessing import MinMaxScaler\n",
    "ms = MinMaxScaler()\n",
    "# ------- fix X #do this after label encoding\n",
    "#I tried multiple combinations with caling just company_hash abd job_poistion as well but then also hopkinds score was\n",
    "# very low\n",
    "data[data.columns] = ms.fit_transform(data[data.columns])\n"
   ]
  },
  {
   "cell_type": "code",
   "execution_count": 183,
   "id": "aec34ab1",
   "metadata": {},
   "outputs": [
    {
     "name": "stdout",
     "output_type": "stream",
     "text": [
      "   company_hash       ctc  job_position  years_of_experience  class  \\\n",
      "0      0.361399  0.330330      0.372074               0.3750    0.0   \n",
      "1      0.339628  0.135134      0.377476               0.2500    1.0   \n",
      "2      0.306978  0.600600      0.419206               0.4375    0.0   \n",
      "3      0.483942  0.210210      0.419206               0.3125    1.0   \n",
      "4      0.298056  0.420420      0.377476               0.3125    0.0   \n",
      "\n",
      "   designation  tier  \n",
      "0          0.5   0.5  \n",
      "1          1.0   1.0  \n",
      "2          0.0   0.0  \n",
      "3          1.0   1.0  \n",
      "4          0.5   0.0  \n"
     ]
    }
   ],
   "source": [
    "print(data.head())"
   ]
  },
  {
   "cell_type": "code",
   "execution_count": 177,
   "id": "8cdca1f2",
   "metadata": {},
   "outputs": [],
   "source": [
    "import matplotlib.pyplot as plt\n",
    "import seaborn as sns\n",
    "import sklearn\n",
    "from sklearn.cluster import KMeans\n",
    "from pyclustertend import hopkins\n",
    "from sklearn.preprocessing import scale"
   ]
  },
  {
   "cell_type": "code",
   "execution_count": 178,
   "id": "bff7362a",
   "metadata": {},
   "outputs": [],
   "source": [
    "data.dropna(inplace=True)"
   ]
  },
  {
   "cell_type": "code",
   "execution_count": 179,
   "id": "afb9e43a",
   "metadata": {},
   "outputs": [],
   "source": [
    "hop=hopkins(data,150)"
   ]
  },
  {
   "cell_type": "code",
   "execution_count": 184,
   "id": "921e3bdc",
   "metadata": {},
   "outputs": [
    {
     "name": "stdout",
     "output_type": "stream",
     "text": [
      "0.03332337564844248\n"
     ]
    }
   ],
   "source": [
    "print(hop)"
   ]
  },
  {
   "cell_type": "code",
   "execution_count": 279,
   "id": "1aeed92e",
   "metadata": {},
   "outputs": [],
   "source": [
    "#hop value of less than 0.5 means not clusterable \n",
    "#Lets try label encoding on company hash and job position"
   ]
  },
  {
   "cell_type": "code",
   "execution_count": 280,
   "id": "bf97a134",
   "metadata": {},
   "outputs": [],
   "source": [
    "data1=df_cjy_cj_c.copy(deep=True)"
   ]
  },
  {
   "cell_type": "code",
   "execution_count": 281,
   "id": "3a2f5f47",
   "metadata": {},
   "outputs": [],
   "source": [
    "label_encoder = preprocessing.LabelEncoder()\n",
    "data1['company_hash']= label_encoder.fit_transform(data1['company_hash'])\n",
    "data1['job_position']= label_encoder.fit_transform(data1['job_position'])"
   ]
  },
  {
   "cell_type": "code",
   "execution_count": 282,
   "id": "47887814",
   "metadata": {},
   "outputs": [
    {
     "data": {
      "text/html": [
       "<div>\n",
       "<style scoped>\n",
       "    .dataframe tbody tr th:only-of-type {\n",
       "        vertical-align: middle;\n",
       "    }\n",
       "\n",
       "    .dataframe tbody tr th {\n",
       "        vertical-align: top;\n",
       "    }\n",
       "\n",
       "    .dataframe thead th {\n",
       "        text-align: right;\n",
       "    }\n",
       "</style>\n",
       "<table border=\"1\" class=\"dataframe\">\n",
       "  <thead>\n",
       "    <tr style=\"text-align: right;\">\n",
       "      <th></th>\n",
       "      <th>company_hash</th>\n",
       "      <th>orgyear</th>\n",
       "      <th>ctc</th>\n",
       "      <th>job_position</th>\n",
       "      <th>ctc_updated_year</th>\n",
       "      <th>years_of_experience</th>\n",
       "      <th>class</th>\n",
       "      <th>designation</th>\n",
       "      <th>tier</th>\n",
       "    </tr>\n",
       "  </thead>\n",
       "  <tbody>\n",
       "    <tr>\n",
       "      <th>0</th>\n",
       "      <td>45</td>\n",
       "      <td>2016.0</td>\n",
       "      <td>1100000</td>\n",
       "      <td>378</td>\n",
       "      <td>2020.0</td>\n",
       "      <td>6.0</td>\n",
       "      <td>1</td>\n",
       "      <td>2</td>\n",
       "      <td>2</td>\n",
       "    </tr>\n",
       "    <tr>\n",
       "      <th>1</th>\n",
       "      <td>1497</td>\n",
       "      <td>2018.0</td>\n",
       "      <td>449999</td>\n",
       "      <td>235</td>\n",
       "      <td>2019.0</td>\n",
       "      <td>4.0</td>\n",
       "      <td>3</td>\n",
       "      <td>3</td>\n",
       "      <td>3</td>\n",
       "    </tr>\n",
       "    <tr>\n",
       "      <th>2</th>\n",
       "      <td>0</td>\n",
       "      <td>2015.0</td>\n",
       "      <td>2000000</td>\n",
       "      <td>105</td>\n",
       "      <td>2020.0</td>\n",
       "      <td>7.0</td>\n",
       "      <td>1</td>\n",
       "      <td>1</td>\n",
       "      <td>1</td>\n",
       "    </tr>\n",
       "    <tr>\n",
       "      <th>3</th>\n",
       "      <td>936</td>\n",
       "      <td>2017.0</td>\n",
       "      <td>700000</td>\n",
       "      <td>105</td>\n",
       "      <td>2019.0</td>\n",
       "      <td>5.0</td>\n",
       "      <td>3</td>\n",
       "      <td>3</td>\n",
       "      <td>3</td>\n",
       "    </tr>\n",
       "    <tr>\n",
       "      <th>4</th>\n",
       "      <td>1535</td>\n",
       "      <td>2017.0</td>\n",
       "      <td>1400000</td>\n",
       "      <td>235</td>\n",
       "      <td>2019.0</td>\n",
       "      <td>5.0</td>\n",
       "      <td>1</td>\n",
       "      <td>2</td>\n",
       "      <td>1</td>\n",
       "    </tr>\n",
       "  </tbody>\n",
       "</table>\n",
       "</div>"
      ],
      "text/plain": [
       "   company_hash  orgyear      ctc  job_position  ctc_updated_year  \\\n",
       "0            45   2016.0  1100000           378            2020.0   \n",
       "1          1497   2018.0   449999           235            2019.0   \n",
       "2             0   2015.0  2000000           105            2020.0   \n",
       "3           936   2017.0   700000           105            2019.0   \n",
       "4          1535   2017.0  1400000           235            2019.0   \n",
       "\n",
       "   years_of_experience  class  designation  tier  \n",
       "0                  6.0      1            2     2  \n",
       "1                  4.0      3            3     3  \n",
       "2                  7.0      1            1     1  \n",
       "3                  5.0      3            3     3  \n",
       "4                  5.0      1            2     1  "
      ]
     },
     "execution_count": 282,
     "metadata": {},
     "output_type": "execute_result"
    }
   ],
   "source": [
    "data1.head()"
   ]
  },
  {
   "cell_type": "code",
   "execution_count": 283,
   "id": "da2b9dd9",
   "metadata": {},
   "outputs": [],
   "source": [
    "data1.drop(columns=['orgyear'],inplace=True)\n",
    "data1.drop(columns=['ctc_updated_year'],inplace=True)"
   ]
  },
  {
   "cell_type": "code",
   "execution_count": 284,
   "id": "bab5258d",
   "metadata": {},
   "outputs": [
    {
     "name": "stdout",
     "output_type": "stream",
     "text": [
      "   company_hash       ctc  job_position  years_of_experience  class  \\\n",
      "0            45  0.330330           378                  6.0      1   \n",
      "1          1497  0.135134           235                  4.0      3   \n",
      "2             0  0.600600           105                  7.0      1   \n",
      "3           936  0.210210           105                  5.0      3   \n",
      "4          1535  0.420420           235                  5.0      1   \n",
      "\n",
      "   designation  tier  \n",
      "0            2     2  \n",
      "1            3     3  \n",
      "2            1     1  \n",
      "3            3     3  \n",
      "4            2     1  \n"
     ]
    }
   ],
   "source": [
    "data1[['ctc']] = ms.fit_transform(data1[['ctc']])\n",
    "print(data1.head())"
   ]
  },
  {
   "cell_type": "code",
   "execution_count": 285,
   "id": "cd9340c2",
   "metadata": {},
   "outputs": [],
   "source": [
    "data1.dropna(inplace=True)"
   ]
  },
  {
   "cell_type": "code",
   "execution_count": 286,
   "id": "dbf95a4c",
   "metadata": {},
   "outputs": [],
   "source": [
    "data2 = data1.copy(deep=True)"
   ]
  },
  {
   "cell_type": "code",
   "execution_count": 287,
   "id": "aac7e013",
   "metadata": {},
   "outputs": [],
   "source": [
    "hop=hopkins(data1,150)"
   ]
  },
  {
   "cell_type": "code",
   "execution_count": 288,
   "id": "a2ba14c9",
   "metadata": {},
   "outputs": [
    {
     "name": "stdout",
     "output_type": "stream",
     "text": [
      "0.05438168263179502\n"
     ]
    }
   ],
   "source": [
    "print(hop)"
   ]
  },
  {
   "cell_type": "code",
   "execution_count": 289,
   "id": "99b461c6",
   "metadata": {},
   "outputs": [],
   "source": [
    "#Less than 0.5 and close to 0 so the data is sort of uniformly distributed.. and not clustered"
   ]
  },
  {
   "cell_type": "code",
   "execution_count": 290,
   "id": "0ea72323",
   "metadata": {},
   "outputs": [
    {
     "data": {
      "image/png": "[encoded data removed]",
      "text/plain": [
       "<Figure size 432x288 with 1 Axes>"
      ]
     },
     "metadata": {
      "needs_background": "light"
     },
     "output_type": "display_data"
    }
   ],
   "source": [
    "Sum_of_squared_distances = []\n",
    "K = range(1,10)\n",
    "for num_clusters in K :\n",
    "    kmeans = KMeans(n_clusters=num_clusters)\n",
    "    kmeans.fit(data1)\n",
    "    Sum_of_squared_distances.append(kmeans.inertia_)\n",
    " \n",
    "plt.plot(K,Sum_of_squared_distances)\n",
    "plt.xlabel('Values of K')\n",
    "plt.ylabel('Sum of squared distances/Inertia')\n",
    "plt.title('Elbow Method For Optimal k')\n",
    "plt.show()"
   ]
  },
  {
   "cell_type": "code",
   "execution_count": 291,
   "id": "95c770eb",
   "metadata": {},
   "outputs": [
    {
     "name": "stdout",
     "output_type": "stream",
     "text": [
      "[[1.26061823e+03 3.52596045e-01 1.75455383e+02 6.44869251e+00\n",
      "  2.17310236e+00 2.08620777e+00 2.23481380e+00]\n",
      " [2.19183497e+02 3.37939112e-01 1.89201053e+02 6.78211903e+00\n",
      "  2.20960323e+00 2.16248244e+00 2.24476826e+00]\n",
      " [2.42018690e+03 3.28751015e-01 1.78301526e+02 6.27683416e+00\n",
      "  2.19055202e+00 2.11484627e+00 2.24197924e+00]]\n",
      "(3, 7)\n"
     ]
    }
   ],
   "source": [
    "kmeans = KMeans(n_clusters=3)\n",
    "kmeans.fit(data1)\n",
    "print(kmeans.cluster_centers_)\n",
    "print(kmeans.cluster_centers_.shape)"
   ]
  },
  {
   "cell_type": "code",
   "execution_count": 292,
   "id": "66612c49",
   "metadata": {},
   "outputs": [],
   "source": [
    "data1['k-m label']=kmeans.fit_predict(data1)"
   ]
  },
  {
   "cell_type": "code",
   "execution_count": 293,
   "id": "bd1ff4dc",
   "metadata": {},
   "outputs": [
    {
     "data": {
      "text/html": [
       "<div>\n",
       "<style scoped>\n",
       "    .dataframe tbody tr th:only-of-type {\n",
       "        vertical-align: middle;\n",
       "    }\n",
       "\n",
       "    .dataframe tbody tr th {\n",
       "        vertical-align: top;\n",
       "    }\n",
       "\n",
       "    .dataframe thead th {\n",
       "        text-align: right;\n",
       "    }\n",
       "</style>\n",
       "<table border=\"1\" class=\"dataframe\">\n",
       "  <thead>\n",
       "    <tr style=\"text-align: right;\">\n",
       "      <th></th>\n",
       "      <th>company_hash</th>\n",
       "      <th>ctc</th>\n",
       "      <th>job_position</th>\n",
       "      <th>years_of_experience</th>\n",
       "      <th>class</th>\n",
       "      <th>designation</th>\n",
       "      <th>tier</th>\n",
       "      <th>k-m label</th>\n",
       "    </tr>\n",
       "  </thead>\n",
       "  <tbody>\n",
       "    <tr>\n",
       "      <th>0</th>\n",
       "      <td>45</td>\n",
       "      <td>0.330330</td>\n",
       "      <td>378</td>\n",
       "      <td>6.0</td>\n",
       "      <td>1</td>\n",
       "      <td>2</td>\n",
       "      <td>2</td>\n",
       "      <td>0</td>\n",
       "    </tr>\n",
       "    <tr>\n",
       "      <th>1</th>\n",
       "      <td>1497</td>\n",
       "      <td>0.135134</td>\n",
       "      <td>235</td>\n",
       "      <td>4.0</td>\n",
       "      <td>3</td>\n",
       "      <td>3</td>\n",
       "      <td>3</td>\n",
       "      <td>2</td>\n",
       "    </tr>\n",
       "    <tr>\n",
       "      <th>2</th>\n",
       "      <td>0</td>\n",
       "      <td>0.600600</td>\n",
       "      <td>105</td>\n",
       "      <td>7.0</td>\n",
       "      <td>1</td>\n",
       "      <td>1</td>\n",
       "      <td>1</td>\n",
       "      <td>0</td>\n",
       "    </tr>\n",
       "    <tr>\n",
       "      <th>3</th>\n",
       "      <td>936</td>\n",
       "      <td>0.210210</td>\n",
       "      <td>105</td>\n",
       "      <td>5.0</td>\n",
       "      <td>3</td>\n",
       "      <td>3</td>\n",
       "      <td>3</td>\n",
       "      <td>2</td>\n",
       "    </tr>\n",
       "    <tr>\n",
       "      <th>4</th>\n",
       "      <td>1535</td>\n",
       "      <td>0.420420</td>\n",
       "      <td>235</td>\n",
       "      <td>5.0</td>\n",
       "      <td>1</td>\n",
       "      <td>2</td>\n",
       "      <td>1</td>\n",
       "      <td>2</td>\n",
       "    </tr>\n",
       "  </tbody>\n",
       "</table>\n",
       "</div>"
      ],
      "text/plain": [
       "   company_hash       ctc  job_position  years_of_experience  class  \\\n",
       "0            45  0.330330           378                  6.0      1   \n",
       "1          1497  0.135134           235                  4.0      3   \n",
       "2             0  0.600600           105                  7.0      1   \n",
       "3           936  0.210210           105                  5.0      3   \n",
       "4          1535  0.420420           235                  5.0      1   \n",
       "\n",
       "   designation  tier  k-m label  \n",
       "0            2     2          0  \n",
       "1            3     3          2  \n",
       "2            1     1          0  \n",
       "3            3     3          2  \n",
       "4            2     1          2  "
      ]
     },
     "execution_count": 293,
     "metadata": {},
     "output_type": "execute_result"
    }
   ],
   "source": [
    "data1.head()"
   ]
  },
  {
   "cell_type": "code",
   "execution_count": 298,
   "id": "0a185de1",
   "metadata": {},
   "outputs": [],
   "source": [
    "#Aggolomerative clustering \n",
    "\n",
    "data2 = data1.drop(columns=['k-m label'])"
   ]
  },
  {
   "cell_type": "code",
   "execution_count": 299,
   "id": "b7e0aedc",
   "metadata": {},
   "outputs": [
    {
     "data": {
      "text/plain": [
       "(147140, 7)"
      ]
     },
     "execution_count": 299,
     "metadata": {},
     "output_type": "execute_result"
    }
   ],
   "source": [
    "data2.shape"
   ]
  },
  {
   "cell_type": "code",
   "execution_count": 300,
   "id": "09b67156",
   "metadata": {},
   "outputs": [],
   "source": [
    "z=data2.sample(frac=0.025)"
   ]
  },
  {
   "cell_type": "code",
   "execution_count": 301,
   "id": "c10e08b7",
   "metadata": {},
   "outputs": [
    {
     "data": {
      "text/plain": [
       "(3678, 7)"
      ]
     },
     "execution_count": 301,
     "metadata": {},
     "output_type": "execute_result"
    }
   ],
   "source": [
    "z.shape"
   ]
  },
  {
   "cell_type": "code",
   "execution_count": 302,
   "id": "83dc9fa8",
   "metadata": {},
   "outputs": [
    {
     "name": "stdout",
     "output_type": "stream",
     "text": [
      "<class 'pandas.core.frame.DataFrame'>\n",
      "Int64Index: 3678 entries, 41013 to 118341\n",
      "Data columns (total 7 columns):\n",
      " #   Column               Non-Null Count  Dtype  \n",
      "---  ------               --------------  -----  \n",
      " 0   company_hash         3678 non-null   int32  \n",
      " 1   ctc                  3678 non-null   float64\n",
      " 2   job_position         3678 non-null   int32  \n",
      " 3   years_of_experience  3678 non-null   float64\n",
      " 4   class                3678 non-null   int64  \n",
      " 5   designation          3678 non-null   int64  \n",
      " 6   tier                 3678 non-null   int64  \n",
      "dtypes: float64(2), int32(2), int64(3)\n",
      "memory usage: 201.1 KB\n"
     ]
    }
   ],
   "source": [
    "z.info(verbose=True)"
   ]
  },
  {
   "cell_type": "code",
   "execution_count": 303,
   "id": "380a4850",
   "metadata": {},
   "outputs": [],
   "source": [
    "import sys\n",
    "sys.setrecursionlimit(100000)"
   ]
  },
  {
   "cell_type": "code",
   "execution_count": 304,
   "id": "f34f2880",
   "metadata": {},
   "outputs": [
    {
     "data": {
      "image/png": "[encoded data removed]",
      "text/plain": [
       "<Figure size 432x288 with 1 Axes>"
      ]
     },
     "metadata": {
      "needs_background": "light"
     },
     "output_type": "display_data"
    }
   ],
   "source": [
    "import scipy.cluster.hierarchy as sch\n",
    "dendrogrm = sch.dendrogram(sch.linkage(z, method = 'ward'))\n",
    "plt.title('Dendrogram')\n",
    "plt.xlabel('placements')\n",
    "plt.ylabel('Euclidean distance')\n",
    "plt.show()"
   ]
  },
  {
   "cell_type": "code",
   "execution_count": 305,
   "id": "201cbbb5",
   "metadata": {},
   "outputs": [
    {
     "data": {
      "text/plain": [
       "AgglomerativeClustering(n_clusters=3)"
      ]
     },
     "execution_count": 305,
     "metadata": {},
     "output_type": "execute_result"
    }
   ],
   "source": [
    "from sklearn.cluster import AgglomerativeClustering\n",
    "model = AgglomerativeClustering(n_clusters=3, affinity='euclidean', linkage='ward')\n",
    "model.fit(z)"
   ]
  },
  {
   "cell_type": "code",
   "execution_count": 306,
   "id": "f2c10b67",
   "metadata": {},
   "outputs": [],
   "source": [
    "z['Aglo-label'] = model.fit_predict(z)"
   ]
  },
  {
   "cell_type": "code",
   "execution_count": 307,
   "id": "df8fe735",
   "metadata": {},
   "outputs": [
    {
     "data": {
      "text/html": [
       "<div>\n",
       "<style scoped>\n",
       "    .dataframe tbody tr th:only-of-type {\n",
       "        vertical-align: middle;\n",
       "    }\n",
       "\n",
       "    .dataframe tbody tr th {\n",
       "        vertical-align: top;\n",
       "    }\n",
       "\n",
       "    .dataframe thead th {\n",
       "        text-align: right;\n",
       "    }\n",
       "</style>\n",
       "<table border=\"1\" class=\"dataframe\">\n",
       "  <thead>\n",
       "    <tr style=\"text-align: right;\">\n",
       "      <th></th>\n",
       "      <th>company_hash</th>\n",
       "      <th>ctc</th>\n",
       "      <th>job_position</th>\n",
       "      <th>years_of_experience</th>\n",
       "      <th>class</th>\n",
       "      <th>designation</th>\n",
       "      <th>tier</th>\n",
       "      <th>Aglo-label</th>\n",
       "    </tr>\n",
       "  </thead>\n",
       "  <tbody>\n",
       "    <tr>\n",
       "      <th>41013</th>\n",
       "      <td>1730</td>\n",
       "      <td>0.312312</td>\n",
       "      <td>230</td>\n",
       "      <td>6.0</td>\n",
       "      <td>1</td>\n",
       "      <td>2</td>\n",
       "      <td>2</td>\n",
       "      <td>1</td>\n",
       "    </tr>\n",
       "    <tr>\n",
       "      <th>102154</th>\n",
       "      <td>532</td>\n",
       "      <td>0.240240</td>\n",
       "      <td>0</td>\n",
       "      <td>4.0</td>\n",
       "      <td>2</td>\n",
       "      <td>1</td>\n",
       "      <td>2</td>\n",
       "      <td>0</td>\n",
       "    </tr>\n",
       "    <tr>\n",
       "      <th>85564</th>\n",
       "      <td>2557</td>\n",
       "      <td>0.510510</td>\n",
       "      <td>105</td>\n",
       "      <td>8.0</td>\n",
       "      <td>1</td>\n",
       "      <td>2</td>\n",
       "      <td>1</td>\n",
       "      <td>2</td>\n",
       "    </tr>\n",
       "    <tr>\n",
       "      <th>28380</th>\n",
       "      <td>1039</td>\n",
       "      <td>0.102102</td>\n",
       "      <td>478</td>\n",
       "      <td>1.0</td>\n",
       "      <td>3</td>\n",
       "      <td>2</td>\n",
       "      <td>3</td>\n",
       "      <td>1</td>\n",
       "    </tr>\n",
       "    <tr>\n",
       "      <th>74006</th>\n",
       "      <td>49</td>\n",
       "      <td>0.204204</td>\n",
       "      <td>478</td>\n",
       "      <td>8.0</td>\n",
       "      <td>2</td>\n",
       "      <td>2</td>\n",
       "      <td>3</td>\n",
       "      <td>0</td>\n",
       "    </tr>\n",
       "  </tbody>\n",
       "</table>\n",
       "</div>"
      ],
      "text/plain": [
       "        company_hash       ctc  job_position  years_of_experience  class  \\\n",
       "41013           1730  0.312312           230                  6.0      1   \n",
       "102154           532  0.240240             0                  4.0      2   \n",
       "85564           2557  0.510510           105                  8.0      1   \n",
       "28380           1039  0.102102           478                  1.0      3   \n",
       "74006             49  0.204204           478                  8.0      2   \n",
       "\n",
       "        designation  tier  Aglo-label  \n",
       "41013             2     2           1  \n",
       "102154            1     2           0  \n",
       "85564             2     1           2  \n",
       "28380             2     3           1  \n",
       "74006             2     3           0  "
      ]
     },
     "execution_count": 307,
     "metadata": {},
     "output_type": "execute_result"
    }
   ],
   "source": [
    "z.head()"
   ]
  },
  {
   "cell_type": "code",
   "execution_count": null,
   "id": "6a0f41b0",
   "metadata": {},
   "outputs": [],
   "source": []
  }
 ],
 "metadata": {
  "kernelspec": {
   "display_name": "Python 3 (ipykernel)",
   "language": "python",
   "name": "python3"
  },
  "language_info": {
   "codemirror_mode": {
    "name": "ipython",
    "version": 3
   },
   "file_extension": ".py",
   "mimetype": "text/x-python",
   "name": "python",
   "nbconvert_exporter": "python",
   "pygments_lexer": "ipython3",
   "version": "3.9.7"
  }
 },
 "nbformat": 4,
 "nbformat_minor": 5
}
